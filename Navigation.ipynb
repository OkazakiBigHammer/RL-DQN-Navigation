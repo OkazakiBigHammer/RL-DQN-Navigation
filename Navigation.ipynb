{
 "cells": [
  {
   "cell_type": "markdown",
   "metadata": {},
   "source": [
    "# Navigation\n",
    "\n",
    "---\n",
    "\n",
    "You are welcome to use this coding environment to train your agent for the project.  Follow the instructions below to get started!\n",
    "\n",
    "### 1. Start the Environment\n",
    "\n",
    "Run the next code cell to install a few packages.  This line will take a few minutes to run!"
   ]
  },
  {
   "cell_type": "code",
   "execution_count": 1,
   "metadata": {},
   "outputs": [
    {
     "name": "stdout",
     "output_type": "stream",
     "text": [
      "\u001b[31mtensorflow 1.7.1 has requirement numpy>=1.13.3, but you'll have numpy 1.12.1 which is incompatible.\u001b[0m\r\n",
      "\u001b[31mipython 6.5.0 has requirement prompt-toolkit<2.0.0,>=1.0.15, but you'll have prompt-toolkit 3.0.30 which is incompatible.\u001b[0m\r\n",
      "\u001b[31mjupyter-console 6.4.3 has requirement jupyter-client>=7.0.0, but you'll have jupyter-client 5.2.4 which is incompatible.\u001b[0m\r\n"
     ]
    }
   ],
   "source": [
    "!pip -q install ./python"
   ]
  },
  {
   "cell_type": "markdown",
   "metadata": {},
   "source": [
    "The environment is already saved in the Workspace and can be accessed at the file path provided below.  Please run the next code cell without making any changes."
   ]
  },
  {
   "cell_type": "code",
   "execution_count": 2,
   "metadata": {},
   "outputs": [
    {
     "name": "stderr",
     "output_type": "stream",
     "text": [
      "INFO:unityagents:\n",
      "'Academy' started successfully!\n",
      "Unity Academy name: Academy\n",
      "        Number of Brains: 1\n",
      "        Number of External Brains : 1\n",
      "        Lesson number : 0\n",
      "        Reset Parameters :\n",
      "\t\t\n",
      "Unity brain name: BananaBrain\n",
      "        Number of Visual Observations (per agent): 0\n",
      "        Vector Observation space type: continuous\n",
      "        Vector Observation space size (per agent): 37\n",
      "        Number of stacked Vector Observation: 1\n",
      "        Vector Action space type: discrete\n",
      "        Vector Action space size (per agent): 4\n",
      "        Vector Action descriptions: , , , \n"
     ]
    }
   ],
   "source": [
    "from unityagents import UnityEnvironment\n",
    "import numpy as np\n",
    "from tqdm import tqdm\n",
    "import torch\n",
    "\n",
    "# please do not modify the line below\n",
    "env = UnityEnvironment(file_name=\"/data/Banana_Linux_NoVis/Banana.x86_64\")"
   ]
  },
  {
   "cell_type": "markdown",
   "metadata": {},
   "source": [
    "Environments contain **_brains_** which are responsible for deciding the actions of their associated agents. Here we check for the first brain available, and set it as the default brain we will be controlling from Python."
   ]
  },
  {
   "cell_type": "code",
   "execution_count": 3,
   "metadata": {},
   "outputs": [],
   "source": [
    "# get the default brain\n",
    "brain_name = env.brain_names[0]\n",
    "brain = env.brains[brain_name]"
   ]
  },
  {
   "cell_type": "markdown",
   "metadata": {},
   "source": [
    "### 2. Examine the State and Action Spaces\n",
    "\n",
    "Run the code cell below to print some information about the environment."
   ]
  },
  {
   "cell_type": "code",
   "execution_count": 4,
   "metadata": {},
   "outputs": [
    {
     "name": "stdout",
     "output_type": "stream",
     "text": [
      "Number of agents: 1\n",
      "Number of actions: 4\n",
      "States look like: [ 1.          0.          0.          0.          0.84408134  0.          0.\n",
      "  1.          0.          0.0748472   0.          1.          0.          0.\n",
      "  0.25755     1.          0.          0.          0.          0.74177343\n",
      "  0.          1.          0.          0.          0.25854847  0.          0.\n",
      "  1.          0.          0.09355672  0.          1.          0.          0.\n",
      "  0.31969345  0.          0.        ]\n"
     ]
    }
   ],
   "source": [
    "# reset the environment\n",
    "env_info = env.reset(train_mode=True)[brain_name]\n",
    "\n",
    "# number of agents in the environment\n",
    "print('Number of agents:', len(env_info.agents))\n",
    "\n",
    "# number of actions\n",
    "action_size = brain.vector_action_space_size\n",
    "print('Number of actions:', action_size)\n",
    "\n",
    "# examine the state space \n",
    "state = env_info.vector_observations[0]\n",
    "print('States look like:', state)\n",
    "state_size = len(state)\n",
    "\n",
    "#print('States have length:', state_size)"
   ]
  },
  {
   "cell_type": "markdown",
   "metadata": {},
   "source": [
    "### 3. Take Random Actions in the Environment\n",
    "\n",
    "In the next code cell, you will learn how to use the Python API to control the agent and receive feedback from the environment.\n",
    "\n",
    "Note that **in this coding environment, you will not be able to watch the agent while it is training**, and you should set `train_mode=True` to restart the environment."
   ]
  },
  {
   "cell_type": "code",
   "execution_count": 5,
   "metadata": {},
   "outputs": [
    {
     "name": "stdout",
     "output_type": "stream",
     "text": [
      "Score: 0.0\n"
     ]
    }
   ],
   "source": [
    "env_info = env.reset(train_mode=True)[brain_name] # reset the environment\n",
    "state = env_info.vector_observations[0]            # get the current state\n",
    "score = 0                                          # initialize the score\n",
    "while True:\n",
    "    action = np.random.randint(action_size)        # select an action\n",
    "    #print(action)\n",
    "    env_info = env.step(action)[brain_name]        # send the action to the environment\n",
    "    #print(str(env))\n",
    "    next_state = env_info.vector_observations[0]   # get the next state\n",
    "    reward = env_info.rewards[0]                   # get the reward\n",
    "    done = env_info.local_done[0]                  # see if episode has finished\n",
    "    score += reward                                # update the score\n",
    "    state = next_state                             # roll over the state to next time step\n",
    "    if done:                                       # exit loop if episode finished\n",
    "        break\n",
    "    \n",
    "print(\"Score: {}\".format(score))"
   ]
  },
  {
   "cell_type": "markdown",
   "metadata": {},
   "source": [
    "When finished, you can close the environment."
   ]
  },
  {
   "cell_type": "code",
   "execution_count": 6,
   "metadata": {},
   "outputs": [],
   "source": []
  },
  {
   "cell_type": "markdown",
   "metadata": {},
   "source": [
    "### 4. It's Your Turn!\n",
    "\n",
    "Now it's your turn to train your own agent to solve the environment!  A few **important notes**:\n",
    "- When training the environment, set `train_mode=True`, so that the line for resetting the environment looks like the following:\n",
    "```python\n",
    "env_info = env.reset(train_mode=True)[brain_name]\n",
    "```\n",
    "- To structure your work, you're welcome to work directly in this Jupyter notebook, or you might like to start over with a new file!  You can see the list of files in the workspace by clicking on **_Jupyter_** in the top left corner of the notebook.\n",
    "- In this coding environment, you will not be able to watch the agent while it is training.  However, **_after training the agent_**, you can download the saved model weights to watch the agent on your own machine! "
   ]
  },
  {
   "cell_type": "code",
   "execution_count": 5,
   "metadata": {},
   "outputs": [],
   "source": [
    "from collections import deque\n",
    "import matplotlib.pyplot as plt\n",
    "from dqn_agent import Agent\n",
    "%matplotlib inline\n",
    "\n",
    "agent = Agent(state_size=37, action_size=4, seed=0)\n",
    "\n",
    "# watch an untrained agent\n",
    "# img = plt.imshow(env.render(mode='rgb_array'))"
   ]
  },
  {
   "cell_type": "code",
   "execution_count": 6,
   "metadata": {},
   "outputs": [],
   "source": [
    "env_info = env.reset(train_mode=True)[brain_name] # reset the environment\n",
    "state = env_info.vector_observations[0]            # get the current state\n",
    "score = 0                                          # initialize the score"
   ]
  },
  {
   "cell_type": "code",
   "execution_count": 7,
   "metadata": {},
   "outputs": [
    {
     "name": "stderr",
     "output_type": "stream",
     "text": [
      " 28%|██▊       | 285/1000 [00:02<00:08, 86.91it/s]\n",
      "  2%|▏         | 24/1000 [00:00<00:04, 236.65it/s]"
     ]
    },
    {
     "name": "stdout",
     "output_type": "stream",
     "text": [
      "Episode 1\tAverage Score: -2.00"
     ]
    },
    {
     "name": "stderr",
     "output_type": "stream",
     "text": [
      " 30%|██▉       | 296/1000 [00:01<00:02, 240.01it/s]\n",
      "  2%|▏         | 24/1000 [00:00<00:04, 225.62it/s]"
     ]
    },
    {
     "name": "stdout",
     "output_type": "stream",
     "text": [
      "Episode 2\tAverage Score: -1.00"
     ]
    },
    {
     "name": "stderr",
     "output_type": "stream",
     "text": [
      " 30%|██▉       | 297/1000 [00:01<00:02, 240.23it/s]\n",
      "  2%|▏         | 23/1000 [00:00<00:04, 229.88it/s]"
     ]
    },
    {
     "name": "stdout",
     "output_type": "stream",
     "text": [
      "Episode 3\tAverage Score: -2.00"
     ]
    },
    {
     "name": "stderr",
     "output_type": "stream",
     "text": [
      " 29%|██▉       | 290/1000 [00:01<00:02, 238.76it/s]\n",
      "  2%|▏         | 24/1000 [00:00<00:04, 228.88it/s]"
     ]
    },
    {
     "name": "stdout",
     "output_type": "stream",
     "text": [
      "Episode 4\tAverage Score: -1.50"
     ]
    },
    {
     "name": "stderr",
     "output_type": "stream",
     "text": [
      " 30%|██▉       | 295/1000 [00:01<00:02, 244.75it/s]\n",
      "  2%|▏         | 24/1000 [00:00<00:04, 228.00it/s]"
     ]
    },
    {
     "name": "stdout",
     "output_type": "stream",
     "text": [
      "Episode 5\tAverage Score: -1.60"
     ]
    },
    {
     "name": "stderr",
     "output_type": "stream",
     "text": [
      " 30%|██▉       | 296/1000 [00:01<00:02, 239.58it/s]\n",
      "  2%|▏         | 23/1000 [00:00<00:04, 227.11it/s]"
     ]
    },
    {
     "name": "stdout",
     "output_type": "stream",
     "text": [
      "Episode 6\tAverage Score: -1.67"
     ]
    },
    {
     "name": "stderr",
     "output_type": "stream",
     "text": [
      " 28%|██▊       | 276/1000 [00:01<00:02, 247.74it/s]\n",
      "  2%|▏         | 24/1000 [00:00<00:04, 226.07it/s]"
     ]
    },
    {
     "name": "stdout",
     "output_type": "stream",
     "text": [
      "Episode 7\tAverage Score: -1.14"
     ]
    },
    {
     "name": "stderr",
     "output_type": "stream",
     "text": [
      " 30%|██▉       | 295/1000 [00:01<00:02, 241.47it/s]\n",
      "  2%|▏         | 24/1000 [00:00<00:04, 228.09it/s]"
     ]
    },
    {
     "name": "stdout",
     "output_type": "stream",
     "text": [
      "Episode 8\tAverage Score: -1.00"
     ]
    },
    {
     "name": "stderr",
     "output_type": "stream",
     "text": [
      " 29%|██▉       | 294/1000 [00:01<00:02, 240.01it/s]\n",
      "  2%|▏         | 24/1000 [00:00<00:04, 228.46it/s]"
     ]
    },
    {
     "name": "stdout",
     "output_type": "stream",
     "text": [
      "Episode 9\tAverage Score: -0.89"
     ]
    },
    {
     "name": "stderr",
     "output_type": "stream",
     "text": [
      " 30%|██▉       | 297/1000 [00:01<00:02, 241.75it/s]\n",
      "  2%|▏         | 23/1000 [00:00<00:04, 226.90it/s]"
     ]
    },
    {
     "name": "stdout",
     "output_type": "stream",
     "text": [
      "Episode 10\tAverage Score: -0.80"
     ]
    },
    {
     "name": "stderr",
     "output_type": "stream",
     "text": [
      " 30%|██▉       | 296/1000 [00:01<00:02, 240.59it/s]\n",
      "  2%|▏         | 24/1000 [00:00<00:04, 228.78it/s]"
     ]
    },
    {
     "name": "stdout",
     "output_type": "stream",
     "text": [
      "Episode 11\tAverage Score: -0.91"
     ]
    },
    {
     "name": "stderr",
     "output_type": "stream",
     "text": [
      " 29%|██▉       | 293/1000 [00:01<00:02, 238.11it/s]\n",
      "  2%|▏         | 24/1000 [00:00<00:04, 229.17it/s]"
     ]
    },
    {
     "name": "stdout",
     "output_type": "stream",
     "text": [
      "Episode 12\tAverage Score: -1.17"
     ]
    },
    {
     "name": "stderr",
     "output_type": "stream",
     "text": [
      " 30%|██▉       | 299/1000 [00:01<00:02, 243.88it/s]\n",
      "  2%|▏         | 24/1000 [00:00<00:04, 228.89it/s]"
     ]
    },
    {
     "name": "stdout",
     "output_type": "stream",
     "text": [
      "Episode 13\tAverage Score: -0.92"
     ]
    },
    {
     "name": "stderr",
     "output_type": "stream",
     "text": [
      " 30%|██▉       | 296/1000 [00:01<00:02, 242.09it/s]\n",
      "  2%|▏         | 23/1000 [00:00<00:04, 229.24it/s]"
     ]
    },
    {
     "name": "stdout",
     "output_type": "stream",
     "text": [
      "Episode 14\tAverage Score: -0.86"
     ]
    },
    {
     "name": "stderr",
     "output_type": "stream",
     "text": [
      " 29%|██▉       | 290/1000 [00:01<00:03, 235.17it/s]\n",
      "  2%|▏         | 24/1000 [00:00<00:04, 224.11it/s]"
     ]
    },
    {
     "name": "stdout",
     "output_type": "stream",
     "text": [
      "Episode 15\tAverage Score: -0.53"
     ]
    },
    {
     "name": "stderr",
     "output_type": "stream",
     "text": [
      " 29%|██▉       | 293/1000 [00:01<00:02, 240.24it/s]\n",
      "  2%|▏         | 24/1000 [00:00<00:04, 235.79it/s]"
     ]
    },
    {
     "name": "stdout",
     "output_type": "stream",
     "text": [
      "Episode 16\tAverage Score: -0.62"
     ]
    },
    {
     "name": "stderr",
     "output_type": "stream",
     "text": [
      " 29%|██▉       | 292/1000 [00:01<00:02, 237.08it/s]\n",
      "  2%|▏         | 24/1000 [00:00<00:04, 228.79it/s]"
     ]
    },
    {
     "name": "stdout",
     "output_type": "stream",
     "text": [
      "Episode 17\tAverage Score: -0.71"
     ]
    },
    {
     "name": "stderr",
     "output_type": "stream",
     "text": [
      " 29%|██▉       | 292/1000 [00:01<00:02, 238.47it/s]\n",
      "  2%|▏         | 24/1000 [00:00<00:04, 227.32it/s]"
     ]
    },
    {
     "name": "stdout",
     "output_type": "stream",
     "text": [
      "Episode 18\tAverage Score: -0.89"
     ]
    },
    {
     "name": "stderr",
     "output_type": "stream",
     "text": [
      " 30%|██▉       | 296/1000 [00:01<00:02, 239.39it/s]\n",
      "  2%|▏         | 24/1000 [00:00<00:04, 224.26it/s]"
     ]
    },
    {
     "name": "stdout",
     "output_type": "stream",
     "text": [
      "Episode 19\tAverage Score: -0.84"
     ]
    },
    {
     "name": "stderr",
     "output_type": "stream",
     "text": [
      " 30%|██▉       | 296/1000 [00:01<00:02, 237.70it/s]\n",
      "  2%|▏         | 23/1000 [00:00<00:04, 229.48it/s]"
     ]
    },
    {
     "name": "stdout",
     "output_type": "stream",
     "text": [
      "Episode 20\tAverage Score: -0.90"
     ]
    },
    {
     "name": "stderr",
     "output_type": "stream",
     "text": [
      " 29%|██▉       | 291/1000 [00:01<00:02, 241.92it/s]\n",
      "  2%|▏         | 24/1000 [00:00<00:04, 226.16it/s]"
     ]
    },
    {
     "name": "stdout",
     "output_type": "stream",
     "text": [
      "Episode 21\tAverage Score: -0.86"
     ]
    },
    {
     "name": "stderr",
     "output_type": "stream",
     "text": [
      " 29%|██▉       | 293/1000 [00:01<00:02, 238.60it/s]\n",
      "  2%|▏         | 23/1000 [00:00<00:04, 229.27it/s]"
     ]
    },
    {
     "name": "stdout",
     "output_type": "stream",
     "text": [
      "Episode 22\tAverage Score: -0.91"
     ]
    },
    {
     "name": "stderr",
     "output_type": "stream",
     "text": [
      " 30%|██▉       | 296/1000 [00:01<00:02, 241.25it/s]\n",
      "  2%|▏         | 24/1000 [00:00<00:04, 232.40it/s]"
     ]
    },
    {
     "name": "stdout",
     "output_type": "stream",
     "text": [
      "Episode 23\tAverage Score: -0.78"
     ]
    },
    {
     "name": "stderr",
     "output_type": "stream",
     "text": [
      " 30%|██▉       | 299/1000 [00:01<00:02, 247.43it/s]\n",
      "  2%|▏         | 24/1000 [00:00<00:04, 225.24it/s]"
     ]
    },
    {
     "name": "stdout",
     "output_type": "stream",
     "text": [
      "Episode 24\tAverage Score: -0.75"
     ]
    },
    {
     "name": "stderr",
     "output_type": "stream",
     "text": [
      " 30%|██▉       | 298/1000 [00:01<00:02, 244.80it/s]\n",
      "  2%|▏         | 24/1000 [00:00<00:04, 228.77it/s]"
     ]
    },
    {
     "name": "stdout",
     "output_type": "stream",
     "text": [
      "Episode 25\tAverage Score: -0.72"
     ]
    },
    {
     "name": "stderr",
     "output_type": "stream",
     "text": [
      " 30%|██▉       | 298/1000 [00:01<00:02, 240.77it/s]\n",
      "  2%|▏         | 24/1000 [00:00<00:04, 232.78it/s]"
     ]
    },
    {
     "name": "stdout",
     "output_type": "stream",
     "text": [
      "Episode 26\tAverage Score: -0.69"
     ]
    },
    {
     "name": "stderr",
     "output_type": "stream",
     "text": [
      " 30%|██▉       | 296/1000 [00:01<00:02, 237.46it/s]\n",
      "  2%|▏         | 24/1000 [00:00<00:04, 227.83it/s]"
     ]
    },
    {
     "name": "stdout",
     "output_type": "stream",
     "text": [
      "Episode 27\tAverage Score: -0.67"
     ]
    },
    {
     "name": "stderr",
     "output_type": "stream",
     "text": [
      " 29%|██▉       | 293/1000 [00:01<00:02, 241.63it/s]\n",
      "  2%|▏         | 24/1000 [00:00<00:04, 228.31it/s]"
     ]
    },
    {
     "name": "stdout",
     "output_type": "stream",
     "text": [
      "Episode 28\tAverage Score: -0.57"
     ]
    },
    {
     "name": "stderr",
     "output_type": "stream",
     "text": [
      " 30%|██▉       | 295/1000 [00:01<00:02, 239.60it/s]\n",
      "  2%|▏         | 24/1000 [00:00<00:04, 225.88it/s]"
     ]
    },
    {
     "name": "stdout",
     "output_type": "stream",
     "text": [
      "Episode 29\tAverage Score: -0.62"
     ]
    },
    {
     "name": "stderr",
     "output_type": "stream",
     "text": [
      " 30%|██▉       | 299/1000 [00:01<00:02, 242.49it/s]\n",
      "  2%|▏         | 24/1000 [00:00<00:04, 225.59it/s]"
     ]
    },
    {
     "name": "stdout",
     "output_type": "stream",
     "text": [
      "Episode 30\tAverage Score: -0.73"
     ]
    },
    {
     "name": "stderr",
     "output_type": "stream",
     "text": [
      " 30%|██▉       | 297/1000 [00:01<00:02, 239.59it/s]\n",
      "  2%|▏         | 24/1000 [00:00<00:04, 224.96it/s]"
     ]
    },
    {
     "name": "stdout",
     "output_type": "stream",
     "text": [
      "Episode 31\tAverage Score: -0.77"
     ]
    },
    {
     "name": "stderr",
     "output_type": "stream",
     "text": [
      " 30%|██▉       | 296/1000 [00:01<00:02, 238.60it/s]\n",
      "  2%|▏         | 24/1000 [00:00<00:04, 228.39it/s]"
     ]
    },
    {
     "name": "stdout",
     "output_type": "stream",
     "text": [
      "Episode 32\tAverage Score: -0.56"
     ]
    },
    {
     "name": "stderr",
     "output_type": "stream",
     "text": [
      " 29%|██▉       | 293/1000 [00:01<00:02, 238.31it/s]\n",
      "  2%|▏         | 23/1000 [00:00<00:04, 223.40it/s]"
     ]
    },
    {
     "name": "stdout",
     "output_type": "stream",
     "text": [
      "Episode 33\tAverage Score: -0.55"
     ]
    },
    {
     "name": "stderr",
     "output_type": "stream",
     "text": [
      " 29%|██▉       | 290/1000 [00:01<00:02, 239.31it/s]\n",
      "  2%|▏         | 24/1000 [00:00<00:04, 236.44it/s]"
     ]
    },
    {
     "name": "stdout",
     "output_type": "stream",
     "text": [
      "Episode 34\tAverage Score: -0.59"
     ]
    },
    {
     "name": "stderr",
     "output_type": "stream",
     "text": [
      " 30%|██▉       | 295/1000 [00:01<00:02, 242.49it/s]\n",
      "  2%|▏         | 24/1000 [00:00<00:04, 230.70it/s]"
     ]
    },
    {
     "name": "stdout",
     "output_type": "stream",
     "text": [
      "Episode 35\tAverage Score: -0.63"
     ]
    },
    {
     "name": "stderr",
     "output_type": "stream",
     "text": [
      " 30%|██▉       | 299/1000 [00:01<00:02, 246.62it/s]\n",
      "  2%|▏         | 24/1000 [00:00<00:04, 225.02it/s]"
     ]
    },
    {
     "name": "stdout",
     "output_type": "stream",
     "text": [
      "Episode 36\tAverage Score: -0.50"
     ]
    },
    {
     "name": "stderr",
     "output_type": "stream",
     "text": [
      " 30%|██▉       | 296/1000 [00:01<00:02, 238.67it/s]\n",
      "  2%|▏         | 24/1000 [00:00<00:04, 225.40it/s]"
     ]
    },
    {
     "name": "stdout",
     "output_type": "stream",
     "text": [
      "Episode 37\tAverage Score: -0.49"
     ]
    },
    {
     "name": "stderr",
     "output_type": "stream",
     "text": [
      " 29%|██▉       | 293/1000 [00:01<00:02, 239.78it/s]\n",
      "  2%|▏         | 24/1000 [00:00<00:04, 225.96it/s]"
     ]
    },
    {
     "name": "stdout",
     "output_type": "stream",
     "text": [
      "Episode 38\tAverage Score: -0.37"
     ]
    },
    {
     "name": "stderr",
     "output_type": "stream",
     "text": [
      " 30%|██▉       | 295/1000 [00:01<00:02, 242.08it/s]\n",
      "  2%|▏         | 24/1000 [00:00<00:04, 226.57it/s]"
     ]
    },
    {
     "name": "stdout",
     "output_type": "stream",
     "text": [
      "Episode 39\tAverage Score: -0.36"
     ]
    },
    {
     "name": "stderr",
     "output_type": "stream",
     "text": [
      " 30%|██▉       | 296/1000 [00:01<00:02, 241.74it/s]\n",
      "  2%|▏         | 23/1000 [00:00<00:04, 226.63it/s]"
     ]
    },
    {
     "name": "stdout",
     "output_type": "stream",
     "text": [
      "Episode 40\tAverage Score: -0.35"
     ]
    },
    {
     "name": "stderr",
     "output_type": "stream",
     "text": [
      " 29%|██▉       | 290/1000 [00:01<00:02, 238.86it/s]\n",
      "  2%|▏         | 24/1000 [00:00<00:04, 232.35it/s]"
     ]
    },
    {
     "name": "stdout",
     "output_type": "stream",
     "text": [
      "Episode 41\tAverage Score: -0.34"
     ]
    },
    {
     "name": "stderr",
     "output_type": "stream",
     "text": [
      " 30%|██▉       | 297/1000 [00:01<00:02, 242.28it/s]\n",
      "  2%|▏         | 24/1000 [00:00<00:04, 232.83it/s]"
     ]
    },
    {
     "name": "stdout",
     "output_type": "stream",
     "text": [
      "Episode 42\tAverage Score: -0.19"
     ]
    },
    {
     "name": "stderr",
     "output_type": "stream",
     "text": [
      " 30%|██▉       | 296/1000 [00:01<00:02, 238.73it/s]\n",
      "  2%|▏         | 24/1000 [00:00<00:04, 223.65it/s]"
     ]
    },
    {
     "name": "stdout",
     "output_type": "stream",
     "text": [
      "Episode 43\tAverage Score: -0.19"
     ]
    },
    {
     "name": "stderr",
     "output_type": "stream",
     "text": [
      " 30%|██▉       | 296/1000 [00:01<00:02, 239.72it/s]\n",
      "  2%|▏         | 24/1000 [00:00<00:04, 225.86it/s]"
     ]
    },
    {
     "name": "stdout",
     "output_type": "stream",
     "text": [
      "Episode 44\tAverage Score: -0.18"
     ]
    },
    {
     "name": "stderr",
     "output_type": "stream",
     "text": [
      " 29%|██▊       | 287/1000 [00:01<00:03, 235.81it/s]\n",
      "  2%|▏         | 23/1000 [00:00<00:04, 229.64it/s]"
     ]
    },
    {
     "name": "stdout",
     "output_type": "stream",
     "text": [
      "Episode 45\tAverage Score: -0.18"
     ]
    },
    {
     "name": "stderr",
     "output_type": "stream",
     "text": [
      " 29%|██▉       | 293/1000 [00:01<00:02, 241.19it/s]\n",
      "  2%|▏         | 23/1000 [00:00<00:04, 227.37it/s]"
     ]
    },
    {
     "name": "stdout",
     "output_type": "stream",
     "text": [
      "Episode 46\tAverage Score: -0.09"
     ]
    },
    {
     "name": "stderr",
     "output_type": "stream",
     "text": [
      " 27%|██▋       | 274/1000 [00:01<00:02, 247.48it/s]\n",
      "  2%|▏         | 24/1000 [00:00<00:04, 229.18it/s]"
     ]
    },
    {
     "name": "stdout",
     "output_type": "stream",
     "text": [
      "Episode 47\tAverage Score: -0.04"
     ]
    },
    {
     "name": "stderr",
     "output_type": "stream",
     "text": [
      " 30%|██▉       | 298/1000 [00:01<00:02, 243.07it/s]\n",
      "  2%|▏         | 23/1000 [00:00<00:04, 227.77it/s]"
     ]
    },
    {
     "name": "stdout",
     "output_type": "stream",
     "text": [
      "Episode 48\tAverage Score: -0.08"
     ]
    },
    {
     "name": "stderr",
     "output_type": "stream",
     "text": [
      " 29%|██▉       | 292/1000 [00:01<00:02, 238.00it/s]\n",
      "  2%|▏         | 22/1000 [00:00<00:04, 219.22it/s]"
     ]
    },
    {
     "name": "stdout",
     "output_type": "stream",
     "text": [
      "Episode 49\tAverage Score: -0.12"
     ]
    },
    {
     "name": "stderr",
     "output_type": "stream",
     "text": [
      " 29%|██▉       | 292/1000 [00:01<00:02, 242.29it/s]\n",
      "  2%|▏         | 23/1000 [00:00<00:04, 229.94it/s]"
     ]
    },
    {
     "name": "stdout",
     "output_type": "stream",
     "text": [
      "Episode 50\tAverage Score: 0.00"
     ]
    },
    {
     "name": "stderr",
     "output_type": "stream",
     "text": [
      " 30%|██▉       | 299/1000 [00:01<00:02, 243.61it/s]\n",
      "  2%|▏         | 24/1000 [00:00<00:04, 227.51it/s]"
     ]
    },
    {
     "name": "stdout",
     "output_type": "stream",
     "text": [
      "Episode 51\tAverage Score: -0.04"
     ]
    },
    {
     "name": "stderr",
     "output_type": "stream",
     "text": [
      " 30%|██▉       | 298/1000 [00:01<00:02, 243.08it/s]\n",
      "  2%|▏         | 24/1000 [00:00<00:04, 226.62it/s]"
     ]
    },
    {
     "name": "stdout",
     "output_type": "stream",
     "text": [
      "Episode 52\tAverage Score: 0.08"
     ]
    },
    {
     "name": "stderr",
     "output_type": "stream",
     "text": [
      " 28%|██▊       | 275/1000 [00:01<00:02, 245.34it/s]\n",
      "  2%|▏         | 23/1000 [00:00<00:04, 227.50it/s]"
     ]
    },
    {
     "name": "stdout",
     "output_type": "stream",
     "text": [
      "Episode 53\tAverage Score: 0.08"
     ]
    },
    {
     "name": "stderr",
     "output_type": "stream",
     "text": [
      " 29%|██▉       | 288/1000 [00:01<00:03, 232.45it/s]\n",
      "  2%|▏         | 23/1000 [00:00<00:04, 229.03it/s]"
     ]
    },
    {
     "name": "stdout",
     "output_type": "stream",
     "text": [
      "Episode 54\tAverage Score: 0.04"
     ]
    },
    {
     "name": "stderr",
     "output_type": "stream",
     "text": [
      " 29%|██▊       | 287/1000 [00:01<00:03, 237.31it/s]\n",
      "  2%|▏         | 24/1000 [00:00<00:04, 224.53it/s]"
     ]
    },
    {
     "name": "stdout",
     "output_type": "stream",
     "text": [
      "Episode 55\tAverage Score: 0.07"
     ]
    },
    {
     "name": "stderr",
     "output_type": "stream",
     "text": [
      " 29%|██▉       | 291/1000 [00:01<00:02, 237.41it/s]\n",
      "  2%|▏         | 23/1000 [00:00<00:04, 227.56it/s]"
     ]
    },
    {
     "name": "stdout",
     "output_type": "stream",
     "text": [
      "Episode 56\tAverage Score: 0.11"
     ]
    },
    {
     "name": "stderr",
     "output_type": "stream",
     "text": [
      " 29%|██▉       | 292/1000 [00:01<00:02, 238.31it/s]\n",
      "  2%|▏         | 23/1000 [00:00<00:04, 225.68it/s]"
     ]
    },
    {
     "name": "stdout",
     "output_type": "stream",
     "text": [
      "Episode 57\tAverage Score: 0.18"
     ]
    },
    {
     "name": "stderr",
     "output_type": "stream",
     "text": [
      " 29%|██▉       | 291/1000 [00:01<00:02, 241.03it/s]\n",
      "  2%|▏         | 24/1000 [00:00<00:04, 225.03it/s]"
     ]
    },
    {
     "name": "stdout",
     "output_type": "stream",
     "text": [
      "Episode 58\tAverage Score: 0.17"
     ]
    },
    {
     "name": "stderr",
     "output_type": "stream",
     "text": [
      " 29%|██▉       | 290/1000 [00:01<00:03, 234.84it/s]\n",
      "  2%|▏         | 23/1000 [00:00<00:04, 228.93it/s]"
     ]
    },
    {
     "name": "stdout",
     "output_type": "stream",
     "text": [
      "Episode 59\tAverage Score: 0.14"
     ]
    },
    {
     "name": "stderr",
     "output_type": "stream",
     "text": [
      " 29%|██▉       | 294/1000 [00:01<00:02, 236.00it/s]\n",
      "  2%|▏         | 24/1000 [00:00<00:04, 226.19it/s]"
     ]
    },
    {
     "name": "stdout",
     "output_type": "stream",
     "text": [
      "Episode 60\tAverage Score: 0.20"
     ]
    },
    {
     "name": "stderr",
     "output_type": "stream",
     "text": [
      " 30%|██▉       | 295/1000 [00:01<00:02, 235.60it/s]\n",
      "  2%|▏         | 23/1000 [00:00<00:04, 229.05it/s]"
     ]
    },
    {
     "name": "stdout",
     "output_type": "stream",
     "text": [
      "Episode 61\tAverage Score: 0.23"
     ]
    },
    {
     "name": "stderr",
     "output_type": "stream",
     "text": [
      " 29%|██▉       | 290/1000 [00:01<00:02, 238.92it/s]\n",
      "  2%|▏         | 24/1000 [00:00<00:04, 225.10it/s]"
     ]
    },
    {
     "name": "stdout",
     "output_type": "stream",
     "text": [
      "Episode 62\tAverage Score: 0.26"
     ]
    },
    {
     "name": "stderr",
     "output_type": "stream",
     "text": [
      " 30%|██▉       | 297/1000 [00:01<00:02, 240.70it/s]\n",
      "  2%|▏         | 24/1000 [00:00<00:04, 229.29it/s]"
     ]
    },
    {
     "name": "stdout",
     "output_type": "stream",
     "text": [
      "Episode 63\tAverage Score: 0.29"
     ]
    },
    {
     "name": "stderr",
     "output_type": "stream",
     "text": [
      " 29%|██▉       | 294/1000 [00:01<00:02, 243.73it/s]\n",
      "  2%|▏         | 24/1000 [00:00<00:04, 230.74it/s]"
     ]
    },
    {
     "name": "stdout",
     "output_type": "stream",
     "text": [
      "Episode 64\tAverage Score: 0.41"
     ]
    },
    {
     "name": "stderr",
     "output_type": "stream",
     "text": [
      " 29%|██▉       | 293/1000 [00:01<00:02, 243.11it/s]\n",
      "  2%|▏         | 23/1000 [00:00<00:04, 229.12it/s]"
     ]
    },
    {
     "name": "stdout",
     "output_type": "stream",
     "text": [
      "Episode 65\tAverage Score: 0.55"
     ]
    },
    {
     "name": "stderr",
     "output_type": "stream",
     "text": [
      " 29%|██▉       | 294/1000 [00:01<00:02, 240.41it/s]\n",
      "  2%|▏         | 24/1000 [00:00<00:04, 228.26it/s]"
     ]
    },
    {
     "name": "stdout",
     "output_type": "stream",
     "text": [
      "Episode 66\tAverage Score: 0.55"
     ]
    },
    {
     "name": "stderr",
     "output_type": "stream",
     "text": [
      " 29%|██▉       | 293/1000 [00:01<00:02, 243.43it/s]\n",
      "  2%|▏         | 24/1000 [00:00<00:04, 232.48it/s]"
     ]
    },
    {
     "name": "stdout",
     "output_type": "stream",
     "text": [
      "Episode 67\tAverage Score: 0.54"
     ]
    },
    {
     "name": "stderr",
     "output_type": "stream",
     "text": [
      " 30%|██▉       | 298/1000 [00:01<00:02, 242.51it/s]\n",
      "  2%|▏         | 22/1000 [00:00<00:04, 218.31it/s]"
     ]
    },
    {
     "name": "stdout",
     "output_type": "stream",
     "text": [
      "Episode 68\tAverage Score: 0.53"
     ]
    },
    {
     "name": "stderr",
     "output_type": "stream",
     "text": [
      " 29%|██▉       | 292/1000 [00:01<00:02, 238.36it/s]\n",
      "  2%|▏         | 24/1000 [00:00<00:04, 226.75it/s]"
     ]
    },
    {
     "name": "stdout",
     "output_type": "stream",
     "text": [
      "Episode 69\tAverage Score: 0.58"
     ]
    },
    {
     "name": "stderr",
     "output_type": "stream",
     "text": [
      " 30%|██▉       | 296/1000 [00:01<00:02, 240.32it/s]\n",
      "  2%|▏         | 24/1000 [00:00<00:04, 222.85it/s]"
     ]
    },
    {
     "name": "stdout",
     "output_type": "stream",
     "text": [
      "Episode 70\tAverage Score: 0.57"
     ]
    },
    {
     "name": "stderr",
     "output_type": "stream",
     "text": [
      " 29%|██▉       | 292/1000 [00:01<00:02, 236.97it/s]\n",
      "  2%|▏         | 24/1000 [00:00<00:04, 231.95it/s]"
     ]
    },
    {
     "name": "stdout",
     "output_type": "stream",
     "text": [
      "Episode 71\tAverage Score: 0.59"
     ]
    },
    {
     "name": "stderr",
     "output_type": "stream",
     "text": [
      " 30%|██▉       | 295/1000 [00:01<00:02, 242.18it/s]\n",
      "  2%|▏         | 24/1000 [00:00<00:04, 228.45it/s]"
     ]
    },
    {
     "name": "stdout",
     "output_type": "stream",
     "text": [
      "Episode 72\tAverage Score: 0.64"
     ]
    },
    {
     "name": "stderr",
     "output_type": "stream",
     "text": [
      " 30%|██▉       | 295/1000 [00:01<00:02, 242.90it/s]\n",
      "  2%|▏         | 23/1000 [00:00<00:04, 227.60it/s]"
     ]
    },
    {
     "name": "stdout",
     "output_type": "stream",
     "text": [
      "Episode 73\tAverage Score: 0.68"
     ]
    },
    {
     "name": "stderr",
     "output_type": "stream",
     "text": [
      " 30%|██▉       | 295/1000 [00:01<00:02, 240.39it/s]\n",
      "  2%|▏         | 24/1000 [00:00<00:04, 227.99it/s]"
     ]
    },
    {
     "name": "stdout",
     "output_type": "stream",
     "text": [
      "Episode 74\tAverage Score: 0.73"
     ]
    },
    {
     "name": "stderr",
     "output_type": "stream",
     "text": [
      " 30%|██▉       | 296/1000 [00:01<00:02, 240.32it/s]\n",
      "  2%|▏         | 24/1000 [00:00<00:04, 226.94it/s]"
     ]
    },
    {
     "name": "stdout",
     "output_type": "stream",
     "text": [
      "Episode 75\tAverage Score: 0.80"
     ]
    },
    {
     "name": "stderr",
     "output_type": "stream",
     "text": [
      " 30%|██▉       | 297/1000 [00:01<00:02, 243.21it/s]\n",
      "  2%|▏         | 24/1000 [00:00<00:04, 229.11it/s]"
     ]
    },
    {
     "name": "stdout",
     "output_type": "stream",
     "text": [
      "Episode 76\tAverage Score: 0.76"
     ]
    },
    {
     "name": "stderr",
     "output_type": "stream",
     "text": [
      " 30%|██▉       | 295/1000 [00:01<00:02, 242.97it/s]\n",
      "  2%|▏         | 24/1000 [00:00<00:04, 228.58it/s]"
     ]
    },
    {
     "name": "stdout",
     "output_type": "stream",
     "text": [
      "Episode 77\tAverage Score: 0.91"
     ]
    },
    {
     "name": "stderr",
     "output_type": "stream",
     "text": [
      " 28%|██▊       | 278/1000 [00:01<00:02, 249.12it/s]\n",
      "  2%|▏         | 24/1000 [00:00<00:04, 229.51it/s]"
     ]
    },
    {
     "name": "stdout",
     "output_type": "stream",
     "text": [
      "Episode 78\tAverage Score: 0.87"
     ]
    },
    {
     "name": "stderr",
     "output_type": "stream",
     "text": [
      " 30%|██▉       | 296/1000 [00:01<00:02, 243.61it/s]\n",
      "  2%|▏         | 24/1000 [00:00<00:04, 235.08it/s]"
     ]
    },
    {
     "name": "stdout",
     "output_type": "stream",
     "text": [
      "Episode 79\tAverage Score: 0.91"
     ]
    },
    {
     "name": "stderr",
     "output_type": "stream",
     "text": [
      " 29%|██▉       | 292/1000 [00:01<00:02, 239.59it/s]\n",
      "  2%|▏         | 23/1000 [00:00<00:04, 226.35it/s]"
     ]
    },
    {
     "name": "stdout",
     "output_type": "stream",
     "text": [
      "Episode 80\tAverage Score: 0.93"
     ]
    },
    {
     "name": "stderr",
     "output_type": "stream",
     "text": [
      " 30%|██▉       | 295/1000 [00:01<00:02, 243.96it/s]\n",
      "  2%|▏         | 24/1000 [00:00<00:04, 231.49it/s]"
     ]
    },
    {
     "name": "stdout",
     "output_type": "stream",
     "text": [
      "Episode 81\tAverage Score: 0.94"
     ]
    },
    {
     "name": "stderr",
     "output_type": "stream",
     "text": [
      " 30%|██▉       | 296/1000 [00:01<00:02, 240.47it/s]\n",
      "  2%|▏         | 24/1000 [00:00<00:04, 230.02it/s]"
     ]
    },
    {
     "name": "stdout",
     "output_type": "stream",
     "text": [
      "Episode 82\tAverage Score: 0.98"
     ]
    },
    {
     "name": "stderr",
     "output_type": "stream",
     "text": [
      " 29%|██▉       | 293/1000 [00:01<00:02, 240.41it/s]\n",
      "  2%|▏         | 24/1000 [00:00<00:04, 228.24it/s]"
     ]
    },
    {
     "name": "stdout",
     "output_type": "stream",
     "text": [
      "Episode 83\tAverage Score: 0.96"
     ]
    },
    {
     "name": "stderr",
     "output_type": "stream",
     "text": [
      " 30%|██▉       | 297/1000 [00:01<00:02, 242.01it/s]\n",
      "  2%|▏         | 23/1000 [00:00<00:04, 227.33it/s]"
     ]
    },
    {
     "name": "stdout",
     "output_type": "stream",
     "text": [
      "Episode 84\tAverage Score: 1.05"
     ]
    },
    {
     "name": "stderr",
     "output_type": "stream",
     "text": [
      " 29%|██▉       | 291/1000 [00:01<00:02, 241.38it/s]\n",
      "  2%|▏         | 24/1000 [00:00<00:04, 230.21it/s]"
     ]
    },
    {
     "name": "stdout",
     "output_type": "stream",
     "text": [
      "Episode 85\tAverage Score: 1.06"
     ]
    },
    {
     "name": "stderr",
     "output_type": "stream",
     "text": [
      " 29%|██▉       | 294/1000 [00:01<00:02, 240.04it/s]\n",
      "  2%|▏         | 23/1000 [00:00<00:04, 227.67it/s]"
     ]
    },
    {
     "name": "stdout",
     "output_type": "stream",
     "text": [
      "Episode 86\tAverage Score: 1.05"
     ]
    },
    {
     "name": "stderr",
     "output_type": "stream",
     "text": [
      " 29%|██▉       | 290/1000 [00:01<00:02, 238.22it/s]\n",
      "  2%|▏         | 24/1000 [00:00<00:04, 224.24it/s]"
     ]
    },
    {
     "name": "stdout",
     "output_type": "stream",
     "text": [
      "Episode 87\tAverage Score: 1.06"
     ]
    },
    {
     "name": "stderr",
     "output_type": "stream",
     "text": [
      " 29%|██▉       | 290/1000 [00:01<00:03, 235.46it/s]\n",
      "  2%|▏         | 24/1000 [00:00<00:04, 226.85it/s]"
     ]
    },
    {
     "name": "stdout",
     "output_type": "stream",
     "text": [
      "Episode 88\tAverage Score: 1.07"
     ]
    },
    {
     "name": "stderr",
     "output_type": "stream",
     "text": [
      " 30%|██▉       | 295/1000 [00:01<00:03, 227.36it/s]\n",
      "  2%|▏         | 24/1000 [00:00<00:04, 225.40it/s]"
     ]
    },
    {
     "name": "stdout",
     "output_type": "stream",
     "text": [
      "Episode 89\tAverage Score: 1.10"
     ]
    },
    {
     "name": "stderr",
     "output_type": "stream",
     "text": [
      " 29%|██▉       | 294/1000 [00:01<00:02, 238.90it/s]\n",
      "  2%|▏         | 22/1000 [00:00<00:04, 219.05it/s]"
     ]
    },
    {
     "name": "stdout",
     "output_type": "stream",
     "text": [
      "Episode 90\tAverage Score: 1.13"
     ]
    },
    {
     "name": "stderr",
     "output_type": "stream",
     "text": [
      " 29%|██▉       | 289/1000 [00:01<00:02, 239.89it/s]\n",
      "  2%|▏         | 24/1000 [00:00<00:04, 235.98it/s]"
     ]
    },
    {
     "name": "stdout",
     "output_type": "stream",
     "text": [
      "Episode 91\tAverage Score: 1.14"
     ]
    },
    {
     "name": "stderr",
     "output_type": "stream",
     "text": [
      " 29%|██▉       | 294/1000 [00:01<00:03, 232.18it/s]\n",
      "  2%|▏         | 24/1000 [00:00<00:04, 233.47it/s]"
     ]
    },
    {
     "name": "stdout",
     "output_type": "stream",
     "text": [
      "Episode 92\tAverage Score: 1.17"
     ]
    },
    {
     "name": "stderr",
     "output_type": "stream",
     "text": [
      " 29%|██▉       | 293/1000 [00:01<00:02, 239.05it/s]\n",
      "  2%|▏         | 24/1000 [00:00<00:04, 222.37it/s]"
     ]
    },
    {
     "name": "stdout",
     "output_type": "stream",
     "text": [
      "Episode 93\tAverage Score: 1.14"
     ]
    },
    {
     "name": "stderr",
     "output_type": "stream",
     "text": [
      " 29%|██▉       | 289/1000 [00:01<00:02, 238.50it/s]\n",
      "  2%|▏         | 24/1000 [00:00<00:04, 233.66it/s]"
     ]
    },
    {
     "name": "stdout",
     "output_type": "stream",
     "text": [
      "Episode 94\tAverage Score: 1.17"
     ]
    },
    {
     "name": "stderr",
     "output_type": "stream",
     "text": [
      " 30%|██▉       | 296/1000 [00:01<00:02, 239.62it/s]\n",
      "  2%|▏         | 23/1000 [00:00<00:04, 228.56it/s]"
     ]
    },
    {
     "name": "stdout",
     "output_type": "stream",
     "text": [
      "Episode 95\tAverage Score: 1.26"
     ]
    },
    {
     "name": "stderr",
     "output_type": "stream",
     "text": [
      " 30%|██▉       | 296/1000 [00:01<00:02, 239.99it/s]\n",
      "  2%|▏         | 24/1000 [00:00<00:04, 225.15it/s]"
     ]
    },
    {
     "name": "stdout",
     "output_type": "stream",
     "text": [
      "Episode 96\tAverage Score: 1.40"
     ]
    },
    {
     "name": "stderr",
     "output_type": "stream",
     "text": [
      " 29%|██▉       | 292/1000 [00:01<00:02, 240.78it/s]\n",
      "  2%|▏         | 24/1000 [00:00<00:04, 233.73it/s]"
     ]
    },
    {
     "name": "stdout",
     "output_type": "stream",
     "text": [
      "Episode 97\tAverage Score: 1.44"
     ]
    },
    {
     "name": "stderr",
     "output_type": "stream",
     "text": [
      " 30%|██▉       | 298/1000 [00:01<00:02, 241.50it/s]\n",
      "  2%|▏         | 24/1000 [00:00<00:04, 224.46it/s]"
     ]
    },
    {
     "name": "stdout",
     "output_type": "stream",
     "text": [
      "Episode 98\tAverage Score: 1.49"
     ]
    },
    {
     "name": "stderr",
     "output_type": "stream",
     "text": [
      " 30%|██▉       | 296/1000 [00:01<00:02, 237.50it/s]\n",
      "  2%|▏         | 23/1000 [00:00<00:04, 226.47it/s]"
     ]
    },
    {
     "name": "stdout",
     "output_type": "stream",
     "text": [
      "Episode 99\tAverage Score: 1.49"
     ]
    },
    {
     "name": "stderr",
     "output_type": "stream",
     "text": [
      " 29%|██▉       | 289/1000 [00:01<00:02, 237.84it/s]\n",
      "  2%|▏         | 24/1000 [00:00<00:04, 231.22it/s]"
     ]
    },
    {
     "name": "stdout",
     "output_type": "stream",
     "text": [
      "Episode 100\tAverage Score: 1.50\n"
     ]
    },
    {
     "name": "stderr",
     "output_type": "stream",
     "text": [
      " 29%|██▉       | 291/1000 [00:01<00:02, 240.12it/s]\n",
      "  2%|▏         | 24/1000 [00:00<00:04, 232.86it/s]"
     ]
    },
    {
     "name": "stdout",
     "output_type": "stream",
     "text": [
      "Episode 101\tAverage Score: 1.58"
     ]
    },
    {
     "name": "stderr",
     "output_type": "stream",
     "text": [
      " 30%|██▉       | 298/1000 [00:01<00:02, 238.92it/s]\n",
      "  2%|▏         | 24/1000 [00:00<00:04, 223.66it/s]"
     ]
    },
    {
     "name": "stdout",
     "output_type": "stream",
     "text": [
      "Episode 102\tAverage Score: 1.60"
     ]
    },
    {
     "name": "stderr",
     "output_type": "stream",
     "text": [
      " 29%|██▉       | 293/1000 [00:01<00:02, 240.41it/s]\n",
      "  2%|▏         | 23/1000 [00:00<00:04, 226.43it/s]"
     ]
    },
    {
     "name": "stdout",
     "output_type": "stream",
     "text": [
      "Episode 103\tAverage Score: 1.66"
     ]
    },
    {
     "name": "stderr",
     "output_type": "stream",
     "text": [
      " 30%|██▉       | 296/1000 [00:01<00:02, 242.58it/s]\n",
      "  2%|▏         | 24/1000 [00:00<00:04, 228.28it/s]"
     ]
    },
    {
     "name": "stdout",
     "output_type": "stream",
     "text": [
      "Episode 104\tAverage Score: 1.70"
     ]
    },
    {
     "name": "stderr",
     "output_type": "stream",
     "text": [
      " 28%|██▊       | 278/1000 [00:01<00:02, 245.46it/s]\n",
      "  2%|▏         | 24/1000 [00:00<00:04, 227.64it/s]"
     ]
    },
    {
     "name": "stdout",
     "output_type": "stream",
     "text": [
      "Episode 105\tAverage Score: 1.74"
     ]
    },
    {
     "name": "stderr",
     "output_type": "stream",
     "text": [
      " 28%|██▊       | 278/1000 [00:01<00:02, 244.68it/s]\n",
      "  2%|▏         | 24/1000 [00:00<00:04, 226.60it/s]"
     ]
    },
    {
     "name": "stdout",
     "output_type": "stream",
     "text": [
      "Episode 106\tAverage Score: 1.78"
     ]
    },
    {
     "name": "stderr",
     "output_type": "stream",
     "text": [
      " 30%|██▉       | 295/1000 [00:01<00:02, 243.91it/s]\n",
      "  2%|▏         | 24/1000 [00:00<00:04, 235.37it/s]"
     ]
    },
    {
     "name": "stdout",
     "output_type": "stream",
     "text": [
      "Episode 107\tAverage Score: 1.80"
     ]
    },
    {
     "name": "stderr",
     "output_type": "stream",
     "text": [
      " 28%|██▊       | 275/1000 [00:01<00:02, 245.51it/s]\n",
      "  2%|▏         | 24/1000 [00:00<00:04, 228.72it/s]"
     ]
    },
    {
     "name": "stdout",
     "output_type": "stream",
     "text": [
      "Episode 108\tAverage Score: 1.84"
     ]
    },
    {
     "name": "stderr",
     "output_type": "stream",
     "text": [
      " 30%|██▉       | 298/1000 [00:01<00:02, 245.77it/s]\n",
      "  2%|▏         | 24/1000 [00:00<00:04, 232.96it/s]"
     ]
    },
    {
     "name": "stdout",
     "output_type": "stream",
     "text": [
      "Episode 109\tAverage Score: 1.90"
     ]
    },
    {
     "name": "stderr",
     "output_type": "stream",
     "text": [
      " 30%|██▉       | 295/1000 [00:01<00:02, 246.79it/s]\n",
      "  2%|▏         | 24/1000 [00:00<00:04, 236.33it/s]"
     ]
    },
    {
     "name": "stdout",
     "output_type": "stream",
     "text": [
      "Episode 110\tAverage Score: 1.94"
     ]
    },
    {
     "name": "stderr",
     "output_type": "stream",
     "text": [
      " 28%|██▊       | 276/1000 [00:01<00:02, 243.57it/s]\n",
      "  2%|▏         | 23/1000 [00:00<00:04, 227.10it/s]"
     ]
    },
    {
     "name": "stdout",
     "output_type": "stream",
     "text": [
      "Episode 111\tAverage Score: 1.98"
     ]
    },
    {
     "name": "stderr",
     "output_type": "stream",
     "text": [
      " 30%|██▉       | 296/1000 [00:01<00:02, 240.61it/s]\n",
      "  2%|▏         | 24/1000 [00:00<00:04, 229.63it/s]"
     ]
    },
    {
     "name": "stdout",
     "output_type": "stream",
     "text": [
      "Episode 112\tAverage Score: 2.14"
     ]
    },
    {
     "name": "stderr",
     "output_type": "stream",
     "text": [
      " 29%|██▉       | 291/1000 [00:01<00:02, 238.63it/s]\n",
      "  2%|▏         | 23/1000 [00:00<00:04, 228.79it/s]"
     ]
    },
    {
     "name": "stdout",
     "output_type": "stream",
     "text": [
      "Episode 113\tAverage Score: 2.20"
     ]
    },
    {
     "name": "stderr",
     "output_type": "stream",
     "text": [
      " 29%|██▉       | 290/1000 [00:01<00:02, 240.00it/s]\n",
      "  2%|▏         | 23/1000 [00:00<00:04, 227.14it/s]"
     ]
    },
    {
     "name": "stdout",
     "output_type": "stream",
     "text": [
      "Episode 114\tAverage Score: 2.20"
     ]
    },
    {
     "name": "stderr",
     "output_type": "stream",
     "text": [
      " 29%|██▊       | 287/1000 [00:01<00:03, 236.48it/s]\n",
      "  2%|▏         | 23/1000 [00:00<00:04, 224.03it/s]"
     ]
    },
    {
     "name": "stdout",
     "output_type": "stream",
     "text": [
      "Episode 115\tAverage Score: 2.20"
     ]
    },
    {
     "name": "stderr",
     "output_type": "stream",
     "text": [
      " 28%|██▊       | 281/1000 [00:01<00:03, 232.20it/s]\n",
      "  2%|▏         | 22/1000 [00:00<00:04, 219.32it/s]"
     ]
    },
    {
     "name": "stdout",
     "output_type": "stream",
     "text": [
      "Episode 116\tAverage Score: 2.26"
     ]
    },
    {
     "name": "stderr",
     "output_type": "stream",
     "text": [
      " 29%|██▉       | 293/1000 [00:01<00:02, 240.06it/s]\n",
      "  2%|▏         | 24/1000 [00:00<00:04, 228.06it/s]"
     ]
    },
    {
     "name": "stdout",
     "output_type": "stream",
     "text": [
      "Episode 117\tAverage Score: 2.38"
     ]
    },
    {
     "name": "stderr",
     "output_type": "stream",
     "text": [
      " 29%|██▉       | 293/1000 [00:01<00:02, 239.45it/s]\n",
      "  2%|▏         | 23/1000 [00:00<00:04, 228.96it/s]"
     ]
    },
    {
     "name": "stdout",
     "output_type": "stream",
     "text": [
      "Episode 118\tAverage Score: 2.54"
     ]
    },
    {
     "name": "stderr",
     "output_type": "stream",
     "text": [
      " 29%|██▉       | 291/1000 [00:01<00:02, 238.12it/s]\n",
      "  2%|▏         | 24/1000 [00:00<00:04, 223.54it/s]"
     ]
    },
    {
     "name": "stdout",
     "output_type": "stream",
     "text": [
      "Episode 119\tAverage Score: 2.70"
     ]
    },
    {
     "name": "stderr",
     "output_type": "stream",
     "text": [
      " 30%|██▉       | 295/1000 [00:01<00:02, 240.93it/s]\n",
      "  2%|▏         | 24/1000 [00:00<00:04, 230.60it/s]"
     ]
    },
    {
     "name": "stdout",
     "output_type": "stream",
     "text": [
      "Episode 120\tAverage Score: 2.78"
     ]
    },
    {
     "name": "stderr",
     "output_type": "stream",
     "text": [
      " 30%|██▉       | 298/1000 [00:01<00:02, 242.74it/s]\n",
      "  2%|▏         | 24/1000 [00:00<00:04, 223.61it/s]"
     ]
    },
    {
     "name": "stdout",
     "output_type": "stream",
     "text": [
      "Episode 121\tAverage Score: 2.84"
     ]
    },
    {
     "name": "stderr",
     "output_type": "stream",
     "text": [
      " 30%|██▉       | 295/1000 [00:01<00:02, 242.77it/s]\n",
      "  2%|▏         | 24/1000 [00:00<00:04, 227.73it/s]"
     ]
    },
    {
     "name": "stdout",
     "output_type": "stream",
     "text": [
      "Episode 122\tAverage Score: 3.00"
     ]
    },
    {
     "name": "stderr",
     "output_type": "stream",
     "text": [
      " 29%|██▉       | 293/1000 [00:01<00:02, 239.95it/s]\n",
      "  2%|▏         | 22/1000 [00:00<00:04, 218.60it/s]"
     ]
    },
    {
     "name": "stdout",
     "output_type": "stream",
     "text": [
      "Episode 123\tAverage Score: 3.04"
     ]
    },
    {
     "name": "stderr",
     "output_type": "stream",
     "text": [
      " 29%|██▊       | 286/1000 [00:01<00:03, 213.42it/s]\n",
      "  2%|▏         | 24/1000 [00:00<00:04, 229.65it/s]"
     ]
    },
    {
     "name": "stdout",
     "output_type": "stream",
     "text": [
      "Episode 124\tAverage Score: 3.08"
     ]
    },
    {
     "name": "stderr",
     "output_type": "stream",
     "text": [
      " 29%|██▉       | 290/1000 [00:01<00:02, 239.75it/s]\n",
      "  2%|▏         | 24/1000 [00:00<00:04, 226.82it/s]"
     ]
    },
    {
     "name": "stdout",
     "output_type": "stream",
     "text": [
      "Episode 125\tAverage Score: 3.18"
     ]
    },
    {
     "name": "stderr",
     "output_type": "stream",
     "text": [
      " 29%|██▉       | 292/1000 [00:01<00:02, 236.29it/s]\n",
      "  2%|▏         | 24/1000 [00:00<00:04, 225.76it/s]"
     ]
    },
    {
     "name": "stdout",
     "output_type": "stream",
     "text": [
      "Episode 126\tAverage Score: 3.20"
     ]
    },
    {
     "name": "stderr",
     "output_type": "stream",
     "text": [
      " 29%|██▉       | 290/1000 [00:01<00:02, 237.30it/s]\n",
      "  2%|▏         | 24/1000 [00:00<00:04, 232.27it/s]"
     ]
    },
    {
     "name": "stdout",
     "output_type": "stream",
     "text": [
      "Episode 127\tAverage Score: 3.22"
     ]
    },
    {
     "name": "stderr",
     "output_type": "stream",
     "text": [
      " 29%|██▉       | 293/1000 [00:01<00:02, 237.06it/s]\n",
      "  2%|▏         | 24/1000 [00:00<00:04, 224.71it/s]"
     ]
    },
    {
     "name": "stdout",
     "output_type": "stream",
     "text": [
      "Episode 128\tAverage Score: 3.20"
     ]
    },
    {
     "name": "stderr",
     "output_type": "stream",
     "text": [
      " 30%|██▉       | 295/1000 [00:01<00:02, 241.76it/s]\n",
      "  2%|▏         | 24/1000 [00:00<00:04, 226.25it/s]"
     ]
    },
    {
     "name": "stdout",
     "output_type": "stream",
     "text": [
      "Episode 129\tAverage Score: 3.24"
     ]
    },
    {
     "name": "stderr",
     "output_type": "stream",
     "text": [
      " 29%|██▉       | 291/1000 [00:01<00:03, 234.66it/s]\n",
      "  2%|▏         | 24/1000 [00:00<00:04, 229.03it/s]"
     ]
    },
    {
     "name": "stdout",
     "output_type": "stream",
     "text": [
      "Episode 130\tAverage Score: 3.36"
     ]
    },
    {
     "name": "stderr",
     "output_type": "stream",
     "text": [
      " 29%|██▉       | 294/1000 [00:01<00:02, 241.17it/s]\n",
      "  2%|▏         | 24/1000 [00:00<00:04, 227.13it/s]"
     ]
    },
    {
     "name": "stdout",
     "output_type": "stream",
     "text": [
      "Episode 131\tAverage Score: 3.46"
     ]
    },
    {
     "name": "stderr",
     "output_type": "stream",
     "text": [
      " 29%|██▉       | 292/1000 [00:01<00:02, 236.13it/s]\n",
      "  2%|▏         | 23/1000 [00:00<00:04, 227.99it/s]"
     ]
    },
    {
     "name": "stdout",
     "output_type": "stream",
     "text": [
      "Episode 132\tAverage Score: 3.48"
     ]
    },
    {
     "name": "stderr",
     "output_type": "stream",
     "text": [
      " 30%|██▉       | 295/1000 [00:01<00:02, 244.42it/s]\n",
      "  2%|▏         | 23/1000 [00:00<00:04, 228.39it/s]"
     ]
    },
    {
     "name": "stdout",
     "output_type": "stream",
     "text": [
      "Episode 133\tAverage Score: 3.56"
     ]
    },
    {
     "name": "stderr",
     "output_type": "stream",
     "text": [
      " 30%|██▉       | 296/1000 [00:01<00:02, 243.00it/s]\n",
      "  2%|▏         | 24/1000 [00:00<00:04, 237.22it/s]"
     ]
    },
    {
     "name": "stdout",
     "output_type": "stream",
     "text": [
      "Episode 134\tAverage Score: 3.68"
     ]
    },
    {
     "name": "stderr",
     "output_type": "stream",
     "text": [
      " 29%|██▉       | 293/1000 [00:01<00:02, 239.18it/s]\n",
      "  2%|▏         | 24/1000 [00:00<00:04, 226.33it/s]"
     ]
    },
    {
     "name": "stdout",
     "output_type": "stream",
     "text": [
      "Episode 135\tAverage Score: 3.80"
     ]
    },
    {
     "name": "stderr",
     "output_type": "stream",
     "text": [
      " 30%|██▉       | 298/1000 [00:01<00:02, 244.62it/s]\n",
      "  2%|▏         | 24/1000 [00:00<00:04, 233.15it/s]"
     ]
    },
    {
     "name": "stdout",
     "output_type": "stream",
     "text": [
      "Episode 136\tAverage Score: 3.78"
     ]
    },
    {
     "name": "stderr",
     "output_type": "stream",
     "text": [
      " 30%|██▉       | 297/1000 [00:01<00:02, 240.70it/s]\n",
      "  2%|▏         | 24/1000 [00:00<00:04, 226.69it/s]"
     ]
    },
    {
     "name": "stdout",
     "output_type": "stream",
     "text": [
      "Episode 137\tAverage Score: 3.92"
     ]
    },
    {
     "name": "stderr",
     "output_type": "stream",
     "text": [
      " 30%|██▉       | 295/1000 [00:01<00:02, 236.56it/s]\n",
      "  2%|▏         | 24/1000 [00:00<00:04, 227.31it/s]"
     ]
    },
    {
     "name": "stdout",
     "output_type": "stream",
     "text": [
      "Episode 138\tAverage Score: 3.96"
     ]
    },
    {
     "name": "stderr",
     "output_type": "stream",
     "text": [
      " 29%|██▉       | 288/1000 [00:01<00:03, 234.09it/s]\n",
      "  2%|▏         | 23/1000 [00:00<00:04, 228.80it/s]"
     ]
    },
    {
     "name": "stdout",
     "output_type": "stream",
     "text": [
      "Episode 139\tAverage Score: 4.02"
     ]
    },
    {
     "name": "stderr",
     "output_type": "stream",
     "text": [
      " 28%|██▊       | 280/1000 [00:01<00:03, 237.14it/s]\n",
      "  2%|▏         | 24/1000 [00:00<00:04, 231.00it/s]"
     ]
    },
    {
     "name": "stdout",
     "output_type": "stream",
     "text": [
      "Episode 140\tAverage Score: 4.08"
     ]
    },
    {
     "name": "stderr",
     "output_type": "stream",
     "text": [
      " 29%|██▉       | 291/1000 [00:01<00:02, 238.05it/s]\n",
      "  2%|▏         | 24/1000 [00:00<00:04, 230.18it/s]"
     ]
    },
    {
     "name": "stdout",
     "output_type": "stream",
     "text": [
      "Episode 141\tAverage Score: 4.18"
     ]
    },
    {
     "name": "stderr",
     "output_type": "stream",
     "text": [
      " 29%|██▉       | 290/1000 [00:01<00:03, 234.54it/s]\n",
      "  2%|▏         | 23/1000 [00:00<00:04, 229.43it/s]"
     ]
    },
    {
     "name": "stdout",
     "output_type": "stream",
     "text": [
      "Episode 142\tAverage Score: 4.22"
     ]
    },
    {
     "name": "stderr",
     "output_type": "stream",
     "text": [
      " 29%|██▉       | 291/1000 [00:01<00:03, 234.93it/s]\n",
      "  2%|▏         | 24/1000 [00:00<00:04, 222.76it/s]"
     ]
    },
    {
     "name": "stdout",
     "output_type": "stream",
     "text": [
      "Episode 143\tAverage Score: 4.26"
     ]
    },
    {
     "name": "stderr",
     "output_type": "stream",
     "text": [
      " 29%|██▉       | 290/1000 [00:01<00:02, 238.35it/s]\n",
      "  2%|▏         | 24/1000 [00:00<00:04, 225.49it/s]"
     ]
    },
    {
     "name": "stdout",
     "output_type": "stream",
     "text": [
      "Episode 144\tAverage Score: 4.36"
     ]
    },
    {
     "name": "stderr",
     "output_type": "stream",
     "text": [
      " 29%|██▉       | 293/1000 [00:01<00:02, 241.40it/s]\n",
      "  2%|▏         | 22/1000 [00:00<00:04, 215.12it/s]"
     ]
    },
    {
     "name": "stdout",
     "output_type": "stream",
     "text": [
      "Episode 145\tAverage Score: 4.44"
     ]
    },
    {
     "name": "stderr",
     "output_type": "stream",
     "text": [
      " 29%|██▉       | 289/1000 [00:01<00:02, 238.91it/s]\n",
      "  2%|▏         | 24/1000 [00:00<00:04, 230.32it/s]"
     ]
    },
    {
     "name": "stdout",
     "output_type": "stream",
     "text": [
      "Episode 146\tAverage Score: 4.46"
     ]
    },
    {
     "name": "stderr",
     "output_type": "stream",
     "text": [
      " 29%|██▉       | 292/1000 [00:01<00:02, 238.87it/s]\n",
      "  2%|▏         | 24/1000 [00:00<00:04, 226.35it/s]"
     ]
    },
    {
     "name": "stdout",
     "output_type": "stream",
     "text": [
      "Episode 147\tAverage Score: 4.50"
     ]
    },
    {
     "name": "stderr",
     "output_type": "stream",
     "text": [
      " 30%|██▉       | 297/1000 [00:01<00:02, 244.61it/s]\n",
      "  2%|▏         | 24/1000 [00:00<00:04, 224.50it/s]"
     ]
    },
    {
     "name": "stdout",
     "output_type": "stream",
     "text": [
      "Episode 148\tAverage Score: 4.64"
     ]
    },
    {
     "name": "stderr",
     "output_type": "stream",
     "text": [
      " 30%|██▉       | 295/1000 [00:01<00:02, 241.83it/s]\n",
      "  2%|▏         | 24/1000 [00:00<00:04, 222.43it/s]"
     ]
    },
    {
     "name": "stdout",
     "output_type": "stream",
     "text": [
      "Episode 149\tAverage Score: 4.68"
     ]
    },
    {
     "name": "stderr",
     "output_type": "stream",
     "text": [
      " 29%|██▉       | 293/1000 [00:01<00:02, 236.25it/s]\n",
      "  2%|▏         | 24/1000 [00:00<00:04, 228.59it/s]"
     ]
    },
    {
     "name": "stdout",
     "output_type": "stream",
     "text": [
      "Episode 150\tAverage Score: 4.74"
     ]
    },
    {
     "name": "stderr",
     "output_type": "stream",
     "text": [
      " 29%|██▉       | 294/1000 [00:01<00:02, 239.41it/s]\n",
      "  2%|▏         | 24/1000 [00:00<00:04, 231.59it/s]"
     ]
    },
    {
     "name": "stdout",
     "output_type": "stream",
     "text": [
      "Episode 151\tAverage Score: 4.88"
     ]
    },
    {
     "name": "stderr",
     "output_type": "stream",
     "text": [
      " 29%|██▉       | 293/1000 [00:01<00:02, 236.61it/s]\n",
      "  2%|▏         | 22/1000 [00:00<00:04, 217.42it/s]"
     ]
    },
    {
     "name": "stdout",
     "output_type": "stream",
     "text": [
      "Episode 152\tAverage Score: 4.84"
     ]
    },
    {
     "name": "stderr",
     "output_type": "stream",
     "text": [
      " 29%|██▉       | 293/1000 [00:01<00:02, 236.30it/s]\n",
      "  2%|▏         | 24/1000 [00:00<00:04, 227.44it/s]"
     ]
    },
    {
     "name": "stdout",
     "output_type": "stream",
     "text": [
      "Episode 153\tAverage Score: 4.94"
     ]
    },
    {
     "name": "stderr",
     "output_type": "stream",
     "text": [
      " 29%|██▉       | 290/1000 [00:01<00:02, 238.58it/s]\n",
      "  2%|▏         | 24/1000 [00:00<00:04, 227.01it/s]"
     ]
    },
    {
     "name": "stdout",
     "output_type": "stream",
     "text": [
      "Episode 154\tAverage Score: 5.00"
     ]
    },
    {
     "name": "stderr",
     "output_type": "stream",
     "text": [
      " 29%|██▉       | 290/1000 [00:01<00:02, 237.08it/s]\n",
      "  2%|▏         | 23/1000 [00:00<00:04, 224.45it/s]"
     ]
    },
    {
     "name": "stdout",
     "output_type": "stream",
     "text": [
      "Episode 155\tAverage Score: 5.00"
     ]
    },
    {
     "name": "stderr",
     "output_type": "stream",
     "text": [
      " 29%|██▉       | 291/1000 [00:01<00:02, 237.76it/s]\n",
      "  2%|▏         | 24/1000 [00:00<00:04, 226.73it/s]"
     ]
    },
    {
     "name": "stdout",
     "output_type": "stream",
     "text": [
      "Episode 156\tAverage Score: 5.02"
     ]
    },
    {
     "name": "stderr",
     "output_type": "stream",
     "text": [
      " 30%|██▉       | 295/1000 [00:01<00:02, 239.70it/s]\n",
      "  2%|▏         | 23/1000 [00:00<00:04, 225.78it/s]"
     ]
    },
    {
     "name": "stdout",
     "output_type": "stream",
     "text": [
      "Episode 157\tAverage Score: 5.02"
     ]
    },
    {
     "name": "stderr",
     "output_type": "stream",
     "text": [
      " 29%|██▉       | 294/1000 [00:01<00:02, 240.17it/s]\n",
      "  2%|▏         | 23/1000 [00:00<00:04, 227.55it/s]"
     ]
    },
    {
     "name": "stdout",
     "output_type": "stream",
     "text": [
      "Episode 158\tAverage Score: 5.10"
     ]
    },
    {
     "name": "stderr",
     "output_type": "stream",
     "text": [
      " 28%|██▊       | 284/1000 [00:01<00:03, 237.77it/s]\n",
      "  2%|▏         | 24/1000 [00:00<00:04, 232.20it/s]"
     ]
    },
    {
     "name": "stdout",
     "output_type": "stream",
     "text": [
      "Episode 159\tAverage Score: 5.14"
     ]
    },
    {
     "name": "stderr",
     "output_type": "stream",
     "text": [
      " 29%|██▉       | 294/1000 [00:01<00:02, 240.85it/s]\n",
      "  2%|▏         | 24/1000 [00:00<00:04, 227.34it/s]"
     ]
    },
    {
     "name": "stdout",
     "output_type": "stream",
     "text": [
      "Episode 160\tAverage Score: 5.22"
     ]
    },
    {
     "name": "stderr",
     "output_type": "stream",
     "text": [
      " 29%|██▉       | 291/1000 [00:01<00:02, 237.58it/s]\n",
      "  2%|▏         | 24/1000 [00:00<00:04, 224.62it/s]"
     ]
    },
    {
     "name": "stdout",
     "output_type": "stream",
     "text": [
      "Episode 161\tAverage Score: 5.32"
     ]
    },
    {
     "name": "stderr",
     "output_type": "stream",
     "text": [
      " 29%|██▉       | 294/1000 [00:01<00:02, 242.34it/s]\n",
      "  2%|▏         | 24/1000 [00:00<00:04, 228.14it/s]"
     ]
    },
    {
     "name": "stdout",
     "output_type": "stream",
     "text": [
      "Episode 162\tAverage Score: 5.32"
     ]
    },
    {
     "name": "stderr",
     "output_type": "stream",
     "text": [
      " 28%|██▊       | 284/1000 [00:01<00:03, 219.23it/s]\n",
      "  2%|▏         | 24/1000 [00:00<00:04, 227.44it/s]"
     ]
    },
    {
     "name": "stdout",
     "output_type": "stream",
     "text": [
      "Episode 163\tAverage Score: 5.38"
     ]
    },
    {
     "name": "stderr",
     "output_type": "stream",
     "text": [
      " 29%|██▉       | 293/1000 [00:01<00:02, 238.41it/s]\n",
      "  2%|▏         | 22/1000 [00:00<00:04, 216.96it/s]"
     ]
    },
    {
     "name": "stdout",
     "output_type": "stream",
     "text": [
      "Episode 164\tAverage Score: 5.44"
     ]
    },
    {
     "name": "stderr",
     "output_type": "stream",
     "text": [
      " 29%|██▉       | 293/1000 [00:01<00:02, 241.63it/s]\n",
      "  2%|▏         | 24/1000 [00:00<00:04, 224.00it/s]"
     ]
    },
    {
     "name": "stdout",
     "output_type": "stream",
     "text": [
      "Episode 165\tAverage Score: 5.40"
     ]
    },
    {
     "name": "stderr",
     "output_type": "stream",
     "text": [
      " 30%|██▉       | 295/1000 [00:01<00:02, 243.47it/s]\n",
      "  2%|▏         | 23/1000 [00:00<00:04, 226.21it/s]"
     ]
    },
    {
     "name": "stdout",
     "output_type": "stream",
     "text": [
      "Episode 166\tAverage Score: 5.46"
     ]
    },
    {
     "name": "stderr",
     "output_type": "stream",
     "text": [
      " 29%|██▉       | 289/1000 [00:01<00:03, 235.66it/s]\n",
      "  2%|▏         | 23/1000 [00:00<00:04, 229.34it/s]"
     ]
    },
    {
     "name": "stdout",
     "output_type": "stream",
     "text": [
      "Episode 167\tAverage Score: 5.50"
     ]
    },
    {
     "name": "stderr",
     "output_type": "stream",
     "text": [
      " 29%|██▉       | 292/1000 [00:01<00:02, 238.29it/s]\n",
      "  2%|▏         | 23/1000 [00:00<00:04, 229.41it/s]"
     ]
    },
    {
     "name": "stdout",
     "output_type": "stream",
     "text": [
      "Episode 168\tAverage Score: 5.70"
     ]
    },
    {
     "name": "stderr",
     "output_type": "stream",
     "text": [
      " 29%|██▉       | 293/1000 [00:01<00:02, 239.79it/s]\n",
      "  2%|▏         | 24/1000 [00:00<00:04, 233.34it/s]"
     ]
    },
    {
     "name": "stdout",
     "output_type": "stream",
     "text": [
      "Episode 169\tAverage Score: 5.84"
     ]
    },
    {
     "name": "stderr",
     "output_type": "stream",
     "text": [
      " 29%|██▉       | 294/1000 [00:01<00:02, 242.20it/s]\n",
      "  2%|▏         | 24/1000 [00:00<00:04, 228.35it/s]"
     ]
    },
    {
     "name": "stdout",
     "output_type": "stream",
     "text": [
      "Episode 170\tAverage Score: 5.92"
     ]
    },
    {
     "name": "stderr",
     "output_type": "stream",
     "text": [
      " 29%|██▉       | 292/1000 [00:01<00:02, 240.16it/s]\n",
      "  2%|▏         | 23/1000 [00:00<00:04, 223.75it/s]"
     ]
    },
    {
     "name": "stdout",
     "output_type": "stream",
     "text": [
      "Episode 171\tAverage Score: 6.00"
     ]
    },
    {
     "name": "stderr",
     "output_type": "stream",
     "text": [
      " 29%|██▉       | 293/1000 [00:01<00:02, 238.66it/s]\n",
      "  2%|▏         | 23/1000 [00:00<00:04, 226.97it/s]"
     ]
    },
    {
     "name": "stdout",
     "output_type": "stream",
     "text": [
      "Episode 172\tAverage Score: 6.08"
     ]
    },
    {
     "name": "stderr",
     "output_type": "stream",
     "text": [
      " 29%|██▉       | 288/1000 [00:01<00:03, 236.84it/s]\n",
      "  2%|▏         | 24/1000 [00:00<00:04, 227.49it/s]"
     ]
    },
    {
     "name": "stdout",
     "output_type": "stream",
     "text": [
      "Episode 173\tAverage Score: 6.06"
     ]
    },
    {
     "name": "stderr",
     "output_type": "stream",
     "text": [
      " 29%|██▉       | 290/1000 [00:01<00:02, 238.48it/s]\n",
      "  2%|▏         | 23/1000 [00:00<00:04, 227.43it/s]"
     ]
    },
    {
     "name": "stdout",
     "output_type": "stream",
     "text": [
      "Episode 174\tAverage Score: 6.12"
     ]
    },
    {
     "name": "stderr",
     "output_type": "stream",
     "text": [
      " 29%|██▉       | 290/1000 [00:01<00:03, 236.22it/s]\n",
      "  2%|▏         | 23/1000 [00:00<00:04, 228.56it/s]"
     ]
    },
    {
     "name": "stdout",
     "output_type": "stream",
     "text": [
      "Episode 175\tAverage Score: 6.12"
     ]
    },
    {
     "name": "stderr",
     "output_type": "stream",
     "text": [
      " 29%|██▉       | 294/1000 [00:01<00:02, 244.08it/s]\n",
      "  2%|▏         | 24/1000 [00:00<00:04, 225.38it/s]"
     ]
    },
    {
     "name": "stdout",
     "output_type": "stream",
     "text": [
      "Episode 176\tAverage Score: 6.18"
     ]
    },
    {
     "name": "stderr",
     "output_type": "stream",
     "text": [
      " 29%|██▉       | 293/1000 [00:01<00:02, 240.73it/s]\n",
      "  2%|▏         | 24/1000 [00:00<00:04, 227.83it/s]"
     ]
    },
    {
     "name": "stdout",
     "output_type": "stream",
     "text": [
      "Episode 177\tAverage Score: 6.24"
     ]
    },
    {
     "name": "stderr",
     "output_type": "stream",
     "text": [
      " 30%|██▉       | 297/1000 [00:01<00:02, 241.59it/s]\n",
      "  2%|▏         | 23/1000 [00:00<00:04, 226.67it/s]"
     ]
    },
    {
     "name": "stdout",
     "output_type": "stream",
     "text": [
      "Episode 178\tAverage Score: 6.32"
     ]
    },
    {
     "name": "stderr",
     "output_type": "stream",
     "text": [
      " 29%|██▉       | 288/1000 [00:01<00:02, 237.67it/s]\n",
      "  2%|▏         | 24/1000 [00:00<00:04, 225.66it/s]"
     ]
    },
    {
     "name": "stdout",
     "output_type": "stream",
     "text": [
      "Episode 179\tAverage Score: 6.36"
     ]
    },
    {
     "name": "stderr",
     "output_type": "stream",
     "text": [
      " 28%|██▊       | 276/1000 [00:01<00:02, 247.57it/s]\n",
      "  2%|▏         | 24/1000 [00:00<00:04, 229.07it/s]"
     ]
    },
    {
     "name": "stdout",
     "output_type": "stream",
     "text": [
      "Episode 180\tAverage Score: 6.46"
     ]
    },
    {
     "name": "stderr",
     "output_type": "stream",
     "text": [
      " 29%|██▉       | 294/1000 [00:01<00:02, 239.82it/s]\n",
      "  2%|▏         | 23/1000 [00:00<00:04, 224.66it/s]"
     ]
    },
    {
     "name": "stdout",
     "output_type": "stream",
     "text": [
      "Episode 181\tAverage Score: 6.48"
     ]
    },
    {
     "name": "stderr",
     "output_type": "stream",
     "text": [
      " 29%|██▉       | 289/1000 [00:01<00:03, 235.49it/s]\n",
      "  2%|▏         | 24/1000 [00:00<00:04, 228.26it/s]"
     ]
    },
    {
     "name": "stdout",
     "output_type": "stream",
     "text": [
      "Episode 182\tAverage Score: 6.48"
     ]
    },
    {
     "name": "stderr",
     "output_type": "stream",
     "text": [
      " 30%|██▉       | 299/1000 [00:01<00:02, 250.93it/s]\n",
      "  2%|▏         | 24/1000 [00:00<00:04, 232.93it/s]"
     ]
    },
    {
     "name": "stdout",
     "output_type": "stream",
     "text": [
      "Episode 183\tAverage Score: 6.56"
     ]
    },
    {
     "name": "stderr",
     "output_type": "stream",
     "text": [
      " 28%|██▊       | 278/1000 [00:01<00:02, 245.99it/s]\n",
      "  2%|▏         | 24/1000 [00:00<00:04, 231.03it/s]"
     ]
    },
    {
     "name": "stdout",
     "output_type": "stream",
     "text": [
      "Episode 184\tAverage Score: 6.68"
     ]
    },
    {
     "name": "stderr",
     "output_type": "stream",
     "text": [
      " 28%|██▊       | 275/1000 [00:01<00:02, 244.54it/s]\n",
      "  2%|▏         | 24/1000 [00:00<00:04, 228.21it/s]"
     ]
    },
    {
     "name": "stdout",
     "output_type": "stream",
     "text": [
      "Episode 185\tAverage Score: 6.76"
     ]
    },
    {
     "name": "stderr",
     "output_type": "stream",
     "text": [
      " 28%|██▊       | 278/1000 [00:01<00:02, 247.97it/s]\n",
      "  2%|▏         | 24/1000 [00:00<00:04, 228.81it/s]"
     ]
    },
    {
     "name": "stdout",
     "output_type": "stream",
     "text": [
      "Episode 186\tAverage Score: 6.80"
     ]
    },
    {
     "name": "stderr",
     "output_type": "stream",
     "text": [
      " 29%|██▉       | 291/1000 [00:01<00:03, 232.29it/s]\n",
      "  2%|▏         | 24/1000 [00:00<00:04, 233.66it/s]"
     ]
    },
    {
     "name": "stdout",
     "output_type": "stream",
     "text": [
      "Episode 187\tAverage Score: 6.90"
     ]
    },
    {
     "name": "stderr",
     "output_type": "stream",
     "text": [
      " 28%|██▊       | 276/1000 [00:01<00:02, 246.96it/s]\n",
      "  2%|▏         | 24/1000 [00:00<00:04, 233.00it/s]"
     ]
    },
    {
     "name": "stdout",
     "output_type": "stream",
     "text": [
      "Episode 188\tAverage Score: 6.98"
     ]
    },
    {
     "name": "stderr",
     "output_type": "stream",
     "text": [
      " 28%|██▊       | 276/1000 [00:01<00:02, 246.18it/s]\n",
      "  2%|▏         | 24/1000 [00:00<00:04, 237.30it/s]"
     ]
    },
    {
     "name": "stdout",
     "output_type": "stream",
     "text": [
      "Episode 189\tAverage Score: 7.06"
     ]
    },
    {
     "name": "stderr",
     "output_type": "stream",
     "text": [
      " 28%|██▊       | 278/1000 [00:01<00:02, 246.71it/s]\n",
      "  2%|▏         | 24/1000 [00:00<00:04, 233.20it/s]"
     ]
    },
    {
     "name": "stdout",
     "output_type": "stream",
     "text": [
      "Episode 190\tAverage Score: 7.14"
     ]
    },
    {
     "name": "stderr",
     "output_type": "stream",
     "text": [
      " 28%|██▊       | 278/1000 [00:01<00:02, 247.58it/s]\n",
      "  2%|▏         | 24/1000 [00:00<00:04, 234.51it/s]"
     ]
    },
    {
     "name": "stdout",
     "output_type": "stream",
     "text": [
      "Episode 191\tAverage Score: 7.34"
     ]
    },
    {
     "name": "stderr",
     "output_type": "stream",
     "text": [
      " 28%|██▊       | 278/1000 [00:01<00:02, 249.12it/s]\n",
      "  2%|▏         | 24/1000 [00:00<00:04, 234.47it/s]"
     ]
    },
    {
     "name": "stdout",
     "output_type": "stream",
     "text": [
      "Episode 192\tAverage Score: 7.44"
     ]
    },
    {
     "name": "stderr",
     "output_type": "stream",
     "text": [
      " 27%|██▋       | 274/1000 [00:01<00:02, 246.38it/s]\n",
      "  2%|▏         | 24/1000 [00:00<00:04, 237.24it/s]"
     ]
    },
    {
     "name": "stdout",
     "output_type": "stream",
     "text": [
      "Episode 193\tAverage Score: 7.46"
     ]
    },
    {
     "name": "stderr",
     "output_type": "stream",
     "text": [
      " 30%|██▉       | 295/1000 [00:01<00:02, 242.66it/s]\n",
      "  2%|▏         | 24/1000 [00:00<00:04, 229.45it/s]"
     ]
    },
    {
     "name": "stdout",
     "output_type": "stream",
     "text": [
      "Episode 194\tAverage Score: 7.56"
     ]
    },
    {
     "name": "stderr",
     "output_type": "stream",
     "text": [
      " 30%|██▉       | 296/1000 [00:01<00:02, 240.62it/s]\n",
      "  2%|▏         | 24/1000 [00:00<00:04, 231.09it/s]"
     ]
    },
    {
     "name": "stdout",
     "output_type": "stream",
     "text": [
      "Episode 195\tAverage Score: 7.60"
     ]
    },
    {
     "name": "stderr",
     "output_type": "stream",
     "text": [
      " 28%|██▊       | 276/1000 [00:01<00:02, 245.23it/s]\n",
      "  2%|▏         | 24/1000 [00:00<00:04, 233.62it/s]"
     ]
    },
    {
     "name": "stdout",
     "output_type": "stream",
     "text": [
      "Episode 196\tAverage Score: 7.58"
     ]
    },
    {
     "name": "stderr",
     "output_type": "stream",
     "text": [
      " 28%|██▊       | 275/1000 [00:01<00:02, 245.44it/s]\n",
      "  2%|▏         | 24/1000 [00:00<00:04, 229.12it/s]"
     ]
    },
    {
     "name": "stdout",
     "output_type": "stream",
     "text": [
      "Episode 197\tAverage Score: 7.58"
     ]
    },
    {
     "name": "stderr",
     "output_type": "stream",
     "text": [
      " 28%|██▊       | 277/1000 [00:01<00:02, 243.98it/s]\n",
      "  2%|▏         | 24/1000 [00:00<00:04, 237.19it/s]"
     ]
    },
    {
     "name": "stdout",
     "output_type": "stream",
     "text": [
      "Episode 198\tAverage Score: 7.64"
     ]
    },
    {
     "name": "stderr",
     "output_type": "stream",
     "text": [
      " 28%|██▊       | 278/1000 [00:01<00:02, 248.83it/s]\n",
      "  2%|▏         | 24/1000 [00:00<00:04, 236.93it/s]"
     ]
    },
    {
     "name": "stdout",
     "output_type": "stream",
     "text": [
      "Episode 199\tAverage Score: 7.72"
     ]
    },
    {
     "name": "stderr",
     "output_type": "stream",
     "text": [
      " 28%|██▊       | 278/1000 [00:01<00:02, 249.19it/s]\n",
      "  2%|▏         | 24/1000 [00:00<00:04, 236.79it/s]"
     ]
    },
    {
     "name": "stdout",
     "output_type": "stream",
     "text": [
      "Episode 200\tAverage Score: 7.84\n"
     ]
    },
    {
     "name": "stderr",
     "output_type": "stream",
     "text": [
      " 30%|██▉       | 297/1000 [00:01<00:02, 244.52it/s]\n",
      "  2%|▏         | 24/1000 [00:00<00:04, 236.19it/s]"
     ]
    },
    {
     "name": "stdout",
     "output_type": "stream",
     "text": [
      "Episode 201\tAverage Score: 7.82"
     ]
    },
    {
     "name": "stderr",
     "output_type": "stream",
     "text": [
      " 28%|██▊       | 278/1000 [00:01<00:02, 246.86it/s]\n",
      "  2%|▏         | 24/1000 [00:00<00:04, 231.27it/s]"
     ]
    },
    {
     "name": "stdout",
     "output_type": "stream",
     "text": [
      "Episode 202\tAverage Score: 7.90"
     ]
    },
    {
     "name": "stderr",
     "output_type": "stream",
     "text": [
      " 28%|██▊       | 276/1000 [00:01<00:02, 245.33it/s]\n",
      "  2%|▏         | 24/1000 [00:00<00:04, 230.51it/s]"
     ]
    },
    {
     "name": "stdout",
     "output_type": "stream",
     "text": [
      "Episode 203\tAverage Score: 8.06"
     ]
    },
    {
     "name": "stderr",
     "output_type": "stream",
     "text": [
      " 28%|██▊       | 276/1000 [00:01<00:02, 244.94it/s]\n",
      "  2%|▏         | 23/1000 [00:00<00:04, 226.74it/s]"
     ]
    },
    {
     "name": "stdout",
     "output_type": "stream",
     "text": [
      "Episode 204\tAverage Score: 8.14"
     ]
    },
    {
     "name": "stderr",
     "output_type": "stream",
     "text": [
      " 28%|██▊       | 276/1000 [00:01<00:02, 245.45it/s]\n",
      "  2%|▏         | 24/1000 [00:00<00:04, 233.98it/s]"
     ]
    },
    {
     "name": "stdout",
     "output_type": "stream",
     "text": [
      "Episode 205\tAverage Score: 8.14"
     ]
    },
    {
     "name": "stderr",
     "output_type": "stream",
     "text": [
      " 28%|██▊       | 275/1000 [00:01<00:02, 245.53it/s]\n",
      "  2%|▏         | 24/1000 [00:00<00:04, 225.96it/s]"
     ]
    },
    {
     "name": "stdout",
     "output_type": "stream",
     "text": [
      "Episode 206\tAverage Score: 8.20"
     ]
    },
    {
     "name": "stderr",
     "output_type": "stream",
     "text": [
      " 28%|██▊       | 275/1000 [00:01<00:02, 245.97it/s]\n",
      "  2%|▏         | 24/1000 [00:00<00:04, 228.82it/s]"
     ]
    },
    {
     "name": "stdout",
     "output_type": "stream",
     "text": [
      "Episode 207\tAverage Score: 8.32"
     ]
    },
    {
     "name": "stderr",
     "output_type": "stream",
     "text": [
      " 27%|██▋       | 274/1000 [00:01<00:02, 245.36it/s]\n",
      "  2%|▏         | 24/1000 [00:00<00:04, 229.51it/s]"
     ]
    },
    {
     "name": "stdout",
     "output_type": "stream",
     "text": [
      "Episode 208\tAverage Score: 8.42"
     ]
    },
    {
     "name": "stderr",
     "output_type": "stream",
     "text": [
      " 28%|██▊       | 275/1000 [00:01<00:02, 245.70it/s]\n",
      "  2%|▏         | 23/1000 [00:00<00:04, 228.25it/s]"
     ]
    },
    {
     "name": "stdout",
     "output_type": "stream",
     "text": [
      "Episode 209\tAverage Score: 8.56"
     ]
    },
    {
     "name": "stderr",
     "output_type": "stream",
     "text": [
      " 30%|██▉       | 295/1000 [00:01<00:02, 244.71it/s]\n",
      "  2%|▏         | 24/1000 [00:00<00:04, 231.32it/s]"
     ]
    },
    {
     "name": "stdout",
     "output_type": "stream",
     "text": [
      "Episode 210\tAverage Score: 8.68"
     ]
    },
    {
     "name": "stderr",
     "output_type": "stream",
     "text": [
      " 30%|██▉       | 295/1000 [00:01<00:03, 226.58it/s]\n",
      "  2%|▏         | 24/1000 [00:00<00:04, 230.27it/s]"
     ]
    },
    {
     "name": "stdout",
     "output_type": "stream",
     "text": [
      "Episode 211\tAverage Score: 8.82"
     ]
    },
    {
     "name": "stderr",
     "output_type": "stream",
     "text": [
      " 28%|██▊       | 276/1000 [00:01<00:03, 240.32it/s]\n",
      "  2%|▏         | 24/1000 [00:00<00:04, 231.24it/s]"
     ]
    },
    {
     "name": "stdout",
     "output_type": "stream",
     "text": [
      "Episode 212\tAverage Score: 8.86"
     ]
    },
    {
     "name": "stderr",
     "output_type": "stream",
     "text": [
      " 28%|██▊       | 278/1000 [00:01<00:02, 247.51it/s]\n",
      "  2%|▏         | 24/1000 [00:00<00:04, 236.59it/s]"
     ]
    },
    {
     "name": "stdout",
     "output_type": "stream",
     "text": [
      "Episode 213\tAverage Score: 8.88"
     ]
    },
    {
     "name": "stderr",
     "output_type": "stream",
     "text": [
      " 28%|██▊       | 275/1000 [00:01<00:02, 247.60it/s]\n",
      "  2%|▏         | 24/1000 [00:00<00:04, 231.89it/s]"
     ]
    },
    {
     "name": "stdout",
     "output_type": "stream",
     "text": [
      "Episode 214\tAverage Score: 9.08"
     ]
    },
    {
     "name": "stderr",
     "output_type": "stream",
     "text": [
      " 28%|██▊       | 277/1000 [00:01<00:02, 244.31it/s]\n",
      "  2%|▏         | 24/1000 [00:00<00:04, 237.13it/s]"
     ]
    },
    {
     "name": "stdout",
     "output_type": "stream",
     "text": [
      "Episode 215\tAverage Score: 9.10"
     ]
    },
    {
     "name": "stderr",
     "output_type": "stream",
     "text": [
      " 28%|██▊       | 282/1000 [00:01<00:02, 249.34it/s]\n",
      "  2%|▏         | 24/1000 [00:00<00:04, 238.34it/s]"
     ]
    },
    {
     "name": "stdout",
     "output_type": "stream",
     "text": [
      "Episode 216\tAverage Score: 9.26"
     ]
    },
    {
     "name": "stderr",
     "output_type": "stream",
     "text": [
      " 28%|██▊       | 275/1000 [00:01<00:02, 247.53it/s]\n",
      "  2%|▏         | 24/1000 [00:00<00:04, 227.36it/s]"
     ]
    },
    {
     "name": "stdout",
     "output_type": "stream",
     "text": [
      "Episode 217\tAverage Score: 9.26"
     ]
    },
    {
     "name": "stderr",
     "output_type": "stream",
     "text": [
      " 28%|██▊       | 276/1000 [00:01<00:02, 246.84it/s]\n",
      "  2%|▏         | 24/1000 [00:00<00:04, 229.85it/s]"
     ]
    },
    {
     "name": "stdout",
     "output_type": "stream",
     "text": [
      "Episode 218\tAverage Score: 9.28"
     ]
    },
    {
     "name": "stderr",
     "output_type": "stream",
     "text": [
      " 28%|██▊       | 277/1000 [00:01<00:02, 245.72it/s]\n",
      "  2%|▏         | 24/1000 [00:00<00:04, 229.33it/s]"
     ]
    },
    {
     "name": "stdout",
     "output_type": "stream",
     "text": [
      "Episode 219\tAverage Score: 9.30"
     ]
    },
    {
     "name": "stderr",
     "output_type": "stream",
     "text": [
      " 28%|██▊       | 277/1000 [00:01<00:02, 245.78it/s]\n",
      "  2%|▏         | 24/1000 [00:00<00:04, 235.43it/s]"
     ]
    },
    {
     "name": "stdout",
     "output_type": "stream",
     "text": [
      "Episode 220\tAverage Score: 9.40"
     ]
    },
    {
     "name": "stderr",
     "output_type": "stream",
     "text": [
      " 28%|██▊       | 278/1000 [00:01<00:02, 248.53it/s]\n",
      "  2%|▏         | 24/1000 [00:00<00:04, 233.59it/s]"
     ]
    },
    {
     "name": "stdout",
     "output_type": "stream",
     "text": [
      "Episode 221\tAverage Score: 9.44"
     ]
    },
    {
     "name": "stderr",
     "output_type": "stream",
     "text": [
      " 28%|██▊       | 276/1000 [00:01<00:02, 244.95it/s]\n",
      "  2%|▏         | 24/1000 [00:00<00:04, 235.39it/s]"
     ]
    },
    {
     "name": "stdout",
     "output_type": "stream",
     "text": [
      "Episode 222\tAverage Score: 9.40"
     ]
    },
    {
     "name": "stderr",
     "output_type": "stream",
     "text": [
      " 28%|██▊       | 278/1000 [00:01<00:02, 246.88it/s]\n",
      "  2%|▏         | 24/1000 [00:00<00:04, 224.08it/s]"
     ]
    },
    {
     "name": "stdout",
     "output_type": "stream",
     "text": [
      "Episode 223\tAverage Score: 9.52"
     ]
    },
    {
     "name": "stderr",
     "output_type": "stream",
     "text": [
      " 28%|██▊       | 278/1000 [00:01<00:02, 248.02it/s]\n",
      "  2%|▏         | 24/1000 [00:00<00:04, 231.74it/s]"
     ]
    },
    {
     "name": "stdout",
     "output_type": "stream",
     "text": [
      "Episode 224\tAverage Score: 9.48"
     ]
    },
    {
     "name": "stderr",
     "output_type": "stream",
     "text": [
      " 28%|██▊       | 280/1000 [00:01<00:02, 244.48it/s]\n",
      "  2%|▏         | 24/1000 [00:00<00:04, 230.26it/s]"
     ]
    },
    {
     "name": "stdout",
     "output_type": "stream",
     "text": [
      "Episode 225\tAverage Score: 9.56"
     ]
    },
    {
     "name": "stderr",
     "output_type": "stream",
     "text": [
      " 28%|██▊       | 275/1000 [00:01<00:02, 247.82it/s]\n",
      "  2%|▏         | 24/1000 [00:00<00:04, 234.91it/s]"
     ]
    },
    {
     "name": "stdout",
     "output_type": "stream",
     "text": [
      "Episode 226\tAverage Score: 9.76"
     ]
    },
    {
     "name": "stderr",
     "output_type": "stream",
     "text": [
      " 28%|██▊       | 275/1000 [00:01<00:02, 247.50it/s]\n",
      "  2%|▏         | 24/1000 [00:00<00:04, 226.92it/s]"
     ]
    },
    {
     "name": "stdout",
     "output_type": "stream",
     "text": [
      "Episode 227\tAverage Score: 9.80"
     ]
    },
    {
     "name": "stderr",
     "output_type": "stream",
     "text": [
      " 28%|██▊       | 278/1000 [00:01<00:02, 249.71it/s]\n",
      "  2%|▏         | 24/1000 [00:00<00:04, 225.30it/s]"
     ]
    },
    {
     "name": "stdout",
     "output_type": "stream",
     "text": [
      "Episode 228\tAverage Score: 9.84"
     ]
    },
    {
     "name": "stderr",
     "output_type": "stream",
     "text": [
      " 28%|██▊       | 279/1000 [00:01<00:02, 247.28it/s]\n",
      "  2%|▏         | 24/1000 [00:00<00:04, 223.38it/s]"
     ]
    },
    {
     "name": "stdout",
     "output_type": "stream",
     "text": [
      "Episode 229\tAverage Score: 10.00"
     ]
    },
    {
     "name": "stderr",
     "output_type": "stream",
     "text": [
      " 28%|██▊       | 281/1000 [00:01<00:02, 247.73it/s]\n",
      "  2%|▏         | 23/1000 [00:00<00:04, 229.66it/s]"
     ]
    },
    {
     "name": "stdout",
     "output_type": "stream",
     "text": [
      "Episode 230\tAverage Score: 10.10"
     ]
    },
    {
     "name": "stderr",
     "output_type": "stream",
     "text": [
      " 28%|██▊       | 276/1000 [00:01<00:02, 243.10it/s]\n",
      "  2%|▏         | 24/1000 [00:00<00:04, 233.18it/s]"
     ]
    },
    {
     "name": "stdout",
     "output_type": "stream",
     "text": [
      "Episode 231\tAverage Score: 10.18"
     ]
    },
    {
     "name": "stderr",
     "output_type": "stream",
     "text": [
      " 28%|██▊       | 276/1000 [00:01<00:02, 245.54it/s]\n",
      "  2%|▏         | 24/1000 [00:00<00:04, 227.26it/s]"
     ]
    },
    {
     "name": "stdout",
     "output_type": "stream",
     "text": [
      "Episode 232\tAverage Score: 10.26"
     ]
    },
    {
     "name": "stderr",
     "output_type": "stream",
     "text": [
      " 28%|██▊       | 278/1000 [00:01<00:02, 247.66it/s]\n",
      "  2%|▏         | 24/1000 [00:00<00:04, 226.00it/s]"
     ]
    },
    {
     "name": "stdout",
     "output_type": "stream",
     "text": [
      "Episode 233\tAverage Score: 10.26"
     ]
    },
    {
     "name": "stderr",
     "output_type": "stream",
     "text": [
      " 28%|██▊       | 278/1000 [00:01<00:02, 249.02it/s]\n",
      "  2%|▏         | 24/1000 [00:00<00:04, 227.88it/s]"
     ]
    },
    {
     "name": "stdout",
     "output_type": "stream",
     "text": [
      "Episode 234\tAverage Score: 10.32"
     ]
    },
    {
     "name": "stderr",
     "output_type": "stream",
     "text": [
      " 28%|██▊       | 277/1000 [00:01<00:02, 245.07it/s]\n",
      "  2%|▏         | 21/1000 [00:00<00:04, 206.77it/s]"
     ]
    },
    {
     "name": "stdout",
     "output_type": "stream",
     "text": [
      "Episode 235\tAverage Score: 10.24"
     ]
    },
    {
     "name": "stderr",
     "output_type": "stream",
     "text": [
      " 29%|██▉       | 292/1000 [00:01<00:02, 245.83it/s]\n",
      "  2%|▏         | 24/1000 [00:00<00:04, 236.36it/s]"
     ]
    },
    {
     "name": "stdout",
     "output_type": "stream",
     "text": [
      "Episode 236\tAverage Score: 10.44"
     ]
    },
    {
     "name": "stderr",
     "output_type": "stream",
     "text": [
      " 30%|██▉       | 297/1000 [00:01<00:02, 241.55it/s]\n",
      "  2%|▏         | 24/1000 [00:00<00:04, 234.51it/s]"
     ]
    },
    {
     "name": "stdout",
     "output_type": "stream",
     "text": [
      "Episode 237\tAverage Score: 10.44"
     ]
    },
    {
     "name": "stderr",
     "output_type": "stream",
     "text": [
      " 28%|██▊       | 276/1000 [00:01<00:02, 244.81it/s]\n",
      "  2%|▏         | 24/1000 [00:00<00:04, 238.49it/s]"
     ]
    },
    {
     "name": "stdout",
     "output_type": "stream",
     "text": [
      "Episode 238\tAverage Score: 10.46"
     ]
    },
    {
     "name": "stderr",
     "output_type": "stream",
     "text": [
      " 28%|██▊       | 279/1000 [00:01<00:02, 248.72it/s]\n",
      "  2%|▏         | 24/1000 [00:00<00:04, 226.87it/s]"
     ]
    },
    {
     "name": "stdout",
     "output_type": "stream",
     "text": [
      "Episode 239\tAverage Score: 10.64"
     ]
    },
    {
     "name": "stderr",
     "output_type": "stream",
     "text": [
      " 28%|██▊       | 276/1000 [00:01<00:02, 243.22it/s]\n",
      "  2%|▏         | 24/1000 [00:00<00:04, 231.38it/s]"
     ]
    },
    {
     "name": "stdout",
     "output_type": "stream",
     "text": [
      "Episode 240\tAverage Score: 10.72"
     ]
    },
    {
     "name": "stderr",
     "output_type": "stream",
     "text": [
      " 28%|██▊       | 276/1000 [00:01<00:02, 241.60it/s]\n",
      "  2%|▏         | 24/1000 [00:00<00:04, 225.93it/s]"
     ]
    },
    {
     "name": "stdout",
     "output_type": "stream",
     "text": [
      "Episode 241\tAverage Score: 10.80"
     ]
    },
    {
     "name": "stderr",
     "output_type": "stream",
     "text": [
      " 28%|██▊       | 276/1000 [00:01<00:02, 244.03it/s]\n",
      "  2%|▏         | 24/1000 [00:00<00:04, 229.83it/s]"
     ]
    },
    {
     "name": "stdout",
     "output_type": "stream",
     "text": [
      "Episode 242\tAverage Score: 10.74"
     ]
    },
    {
     "name": "stderr",
     "output_type": "stream",
     "text": [
      " 30%|██▉       | 299/1000 [00:01<00:02, 244.88it/s]\n",
      "  2%|▏         | 24/1000 [00:00<00:04, 238.53it/s]"
     ]
    },
    {
     "name": "stdout",
     "output_type": "stream",
     "text": [
      "Episode 243\tAverage Score: 10.86"
     ]
    },
    {
     "name": "stderr",
     "output_type": "stream",
     "text": [
      " 30%|██▉       | 298/1000 [00:01<00:02, 241.49it/s]\n",
      "  2%|▏         | 24/1000 [00:00<00:04, 230.88it/s]"
     ]
    },
    {
     "name": "stdout",
     "output_type": "stream",
     "text": [
      "Episode 244\tAverage Score: 10.90"
     ]
    },
    {
     "name": "stderr",
     "output_type": "stream",
     "text": [
      " 28%|██▊       | 276/1000 [00:01<00:02, 246.04it/s]\n",
      "  2%|▏         | 24/1000 [00:00<00:04, 224.90it/s]"
     ]
    },
    {
     "name": "stdout",
     "output_type": "stream",
     "text": [
      "Episode 245\tAverage Score: 10.96"
     ]
    },
    {
     "name": "stderr",
     "output_type": "stream",
     "text": [
      " 30%|██▉       | 298/1000 [00:01<00:02, 244.84it/s]\n",
      "  2%|▏         | 24/1000 [00:00<00:04, 229.27it/s]"
     ]
    },
    {
     "name": "stdout",
     "output_type": "stream",
     "text": [
      "Episode 246\tAverage Score: 10.96"
     ]
    },
    {
     "name": "stderr",
     "output_type": "stream",
     "text": [
      " 28%|██▊       | 276/1000 [00:01<00:02, 246.06it/s]\n",
      "  2%|▏         | 24/1000 [00:00<00:04, 227.65it/s]"
     ]
    },
    {
     "name": "stdout",
     "output_type": "stream",
     "text": [
      "Episode 247\tAverage Score: 11.02"
     ]
    },
    {
     "name": "stderr",
     "output_type": "stream",
     "text": [
      " 28%|██▊       | 277/1000 [00:01<00:02, 245.90it/s]\n",
      "  2%|▏         | 24/1000 [00:00<00:04, 229.40it/s]"
     ]
    },
    {
     "name": "stdout",
     "output_type": "stream",
     "text": [
      "Episode 248\tAverage Score: 11.14"
     ]
    },
    {
     "name": "stderr",
     "output_type": "stream",
     "text": [
      " 28%|██▊       | 276/1000 [00:01<00:02, 243.78it/s]\n",
      "  2%|▏         | 24/1000 [00:00<00:04, 226.70it/s]"
     ]
    },
    {
     "name": "stdout",
     "output_type": "stream",
     "text": [
      "Episode 249\tAverage Score: 11.30"
     ]
    },
    {
     "name": "stderr",
     "output_type": "stream",
     "text": [
      " 28%|██▊       | 276/1000 [00:01<00:02, 243.23it/s]\n",
      "  2%|▏         | 24/1000 [00:00<00:04, 231.98it/s]"
     ]
    },
    {
     "name": "stdout",
     "output_type": "stream",
     "text": [
      "Episode 250\tAverage Score: 11.24"
     ]
    },
    {
     "name": "stderr",
     "output_type": "stream",
     "text": [
      " 28%|██▊       | 275/1000 [00:01<00:02, 245.19it/s]\n",
      "  2%|▏         | 23/1000 [00:00<00:04, 225.08it/s]"
     ]
    },
    {
     "name": "stdout",
     "output_type": "stream",
     "text": [
      "Episode 251\tAverage Score: 11.20"
     ]
    },
    {
     "name": "stderr",
     "output_type": "stream",
     "text": [
      " 30%|██▉       | 298/1000 [00:01<00:02, 244.55it/s]\n",
      "  2%|▏         | 24/1000 [00:00<00:04, 226.82it/s]"
     ]
    },
    {
     "name": "stdout",
     "output_type": "stream",
     "text": [
      "Episode 252\tAverage Score: 11.42"
     ]
    },
    {
     "name": "stderr",
     "output_type": "stream",
     "text": [
      " 28%|██▊       | 276/1000 [00:01<00:02, 244.28it/s]\n",
      "  2%|▏         | 23/1000 [00:00<00:04, 224.53it/s]"
     ]
    },
    {
     "name": "stdout",
     "output_type": "stream",
     "text": [
      "Episode 253\tAverage Score: 11.42"
     ]
    },
    {
     "name": "stderr",
     "output_type": "stream",
     "text": [
      " 30%|██▉       | 296/1000 [00:01<00:02, 240.92it/s]\n",
      "  2%|▏         | 24/1000 [00:00<00:04, 229.66it/s]"
     ]
    },
    {
     "name": "stdout",
     "output_type": "stream",
     "text": [
      "Episode 254\tAverage Score: 11.56"
     ]
    },
    {
     "name": "stderr",
     "output_type": "stream",
     "text": [
      " 28%|██▊       | 277/1000 [00:01<00:02, 244.31it/s]\n",
      "  2%|▏         | 24/1000 [00:00<00:04, 226.29it/s]"
     ]
    },
    {
     "name": "stdout",
     "output_type": "stream",
     "text": [
      "Episode 255\tAverage Score: 11.70"
     ]
    },
    {
     "name": "stderr",
     "output_type": "stream",
     "text": [
      " 28%|██▊       | 277/1000 [00:01<00:02, 247.43it/s]\n",
      "  2%|▏         | 24/1000 [00:00<00:04, 225.66it/s]"
     ]
    },
    {
     "name": "stdout",
     "output_type": "stream",
     "text": [
      "Episode 256\tAverage Score: 11.80"
     ]
    },
    {
     "name": "stderr",
     "output_type": "stream",
     "text": [
      " 30%|██▉       | 299/1000 [00:01<00:02, 248.85it/s]\n",
      "  2%|▏         | 24/1000 [00:00<00:04, 229.25it/s]"
     ]
    },
    {
     "name": "stdout",
     "output_type": "stream",
     "text": [
      "Episode 257\tAverage Score: 11.80"
     ]
    },
    {
     "name": "stderr",
     "output_type": "stream",
     "text": [
      " 30%|██▉       | 298/1000 [00:01<00:02, 246.04it/s]\n",
      "  2%|▏         | 23/1000 [00:00<00:04, 226.29it/s]"
     ]
    },
    {
     "name": "stdout",
     "output_type": "stream",
     "text": [
      "Episode 258\tAverage Score: 11.84"
     ]
    },
    {
     "name": "stderr",
     "output_type": "stream",
     "text": [
      " 28%|██▊       | 280/1000 [00:01<00:02, 247.62it/s]\n",
      "  2%|▏         | 24/1000 [00:00<00:04, 230.79it/s]"
     ]
    },
    {
     "name": "stdout",
     "output_type": "stream",
     "text": [
      "Episode 259\tAverage Score: 12.04"
     ]
    },
    {
     "name": "stderr",
     "output_type": "stream",
     "text": [
      " 29%|██▊       | 286/1000 [00:01<00:02, 239.33it/s]\n",
      "  2%|▏         | 24/1000 [00:00<00:04, 235.19it/s]"
     ]
    },
    {
     "name": "stdout",
     "output_type": "stream",
     "text": [
      "Episode 260\tAverage Score: 12.12"
     ]
    },
    {
     "name": "stderr",
     "output_type": "stream",
     "text": [
      " 28%|██▊       | 278/1000 [00:01<00:02, 249.41it/s]\n",
      "  2%|▏         | 24/1000 [00:00<00:04, 230.37it/s]"
     ]
    },
    {
     "name": "stdout",
     "output_type": "stream",
     "text": [
      "Episode 261\tAverage Score: 12.12"
     ]
    },
    {
     "name": "stderr",
     "output_type": "stream",
     "text": [
      " 28%|██▊       | 278/1000 [00:01<00:02, 250.44it/s]\n",
      "  2%|▏         | 24/1000 [00:00<00:04, 233.42it/s]"
     ]
    },
    {
     "name": "stdout",
     "output_type": "stream",
     "text": [
      "Episode 262\tAverage Score: 12.32"
     ]
    },
    {
     "name": "stderr",
     "output_type": "stream",
     "text": [
      " 28%|██▊       | 277/1000 [00:01<00:02, 246.26it/s]\n",
      "  2%|▏         | 24/1000 [00:00<00:04, 226.44it/s]"
     ]
    },
    {
     "name": "stdout",
     "output_type": "stream",
     "text": [
      "Episode 263\tAverage Score: 12.26"
     ]
    },
    {
     "name": "stderr",
     "output_type": "stream",
     "text": [
      " 30%|██▉       | 296/1000 [00:01<00:02, 242.08it/s]\n",
      "  2%|▏         | 24/1000 [00:00<00:04, 230.17it/s]"
     ]
    },
    {
     "name": "stdout",
     "output_type": "stream",
     "text": [
      "Episode 264\tAverage Score: 12.32"
     ]
    },
    {
     "name": "stderr",
     "output_type": "stream",
     "text": [
      " 30%|██▉       | 299/1000 [00:01<00:02, 248.08it/s]\n",
      "  2%|▏         | 24/1000 [00:00<00:04, 227.52it/s]"
     ]
    },
    {
     "name": "stdout",
     "output_type": "stream",
     "text": [
      "Episode 265\tAverage Score: 12.34"
     ]
    },
    {
     "name": "stderr",
     "output_type": "stream",
     "text": [
      " 30%|██▉       | 299/1000 [00:01<00:02, 244.05it/s]\n",
      "  2%|▏         | 24/1000 [00:00<00:04, 225.67it/s]"
     ]
    },
    {
     "name": "stdout",
     "output_type": "stream",
     "text": [
      "Episode 266\tAverage Score: 12.34"
     ]
    },
    {
     "name": "stderr",
     "output_type": "stream",
     "text": [
      " 28%|██▊       | 279/1000 [00:01<00:02, 249.24it/s]\n",
      "  2%|▏         | 24/1000 [00:00<00:04, 235.85it/s]"
     ]
    },
    {
     "name": "stdout",
     "output_type": "stream",
     "text": [
      "Episode 267\tAverage Score: 12.36"
     ]
    },
    {
     "name": "stderr",
     "output_type": "stream",
     "text": [
      " 30%|██▉       | 299/1000 [00:01<00:02, 245.24it/s]\n",
      "  2%|▏         | 23/1000 [00:00<00:04, 229.73it/s]"
     ]
    },
    {
     "name": "stdout",
     "output_type": "stream",
     "text": [
      "Episode 268\tAverage Score: 12.40"
     ]
    },
    {
     "name": "stderr",
     "output_type": "stream",
     "text": [
      " 28%|██▊       | 278/1000 [00:01<00:02, 247.46it/s]\n",
      "  2%|▏         | 24/1000 [00:00<00:04, 233.25it/s]"
     ]
    },
    {
     "name": "stdout",
     "output_type": "stream",
     "text": [
      "Episode 269\tAverage Score: 12.36"
     ]
    },
    {
     "name": "stderr",
     "output_type": "stream",
     "text": [
      " 28%|██▊       | 276/1000 [00:01<00:02, 248.36it/s]\n",
      "  2%|▏         | 24/1000 [00:00<00:04, 235.30it/s]"
     ]
    },
    {
     "name": "stdout",
     "output_type": "stream",
     "text": [
      "Episode 270\tAverage Score: 12.52"
     ]
    },
    {
     "name": "stderr",
     "output_type": "stream",
     "text": [
      " 28%|██▊       | 276/1000 [00:01<00:02, 243.53it/s]\n",
      "  2%|▏         | 24/1000 [00:00<00:04, 233.97it/s]"
     ]
    },
    {
     "name": "stdout",
     "output_type": "stream",
     "text": [
      "Episode 271\tAverage Score: 12.60"
     ]
    },
    {
     "name": "stderr",
     "output_type": "stream",
     "text": [
      " 28%|██▊       | 276/1000 [00:01<00:02, 245.23it/s]\n",
      "  2%|▏         | 24/1000 [00:00<00:04, 231.53it/s]"
     ]
    },
    {
     "name": "stdout",
     "output_type": "stream",
     "text": [
      "Episode 272\tAverage Score: 12.58"
     ]
    },
    {
     "name": "stderr",
     "output_type": "stream",
     "text": [
      " 30%|██▉       | 299/1000 [00:01<00:02, 241.66it/s]\n",
      "  2%|▏         | 24/1000 [00:00<00:04, 231.60it/s]"
     ]
    },
    {
     "name": "stdout",
     "output_type": "stream",
     "text": [
      "Episode 273\tAverage Score: 12.64"
     ]
    },
    {
     "name": "stderr",
     "output_type": "stream",
     "text": [
      " 28%|██▊       | 276/1000 [00:01<00:02, 243.59it/s]\n",
      "  2%|▏         | 24/1000 [00:00<00:04, 235.78it/s]"
     ]
    },
    {
     "name": "stdout",
     "output_type": "stream",
     "text": [
      "Episode 274\tAverage Score: 12.80"
     ]
    },
    {
     "name": "stderr",
     "output_type": "stream",
     "text": [
      " 28%|██▊       | 278/1000 [00:01<00:02, 246.60it/s]\n",
      "  2%|▏         | 24/1000 [00:00<00:04, 237.72it/s]"
     ]
    },
    {
     "name": "stdout",
     "output_type": "stream",
     "text": [
      "Episode 275\tAverage Score: 12.96"
     ]
    },
    {
     "name": "stderr",
     "output_type": "stream",
     "text": [
      " 28%|██▊       | 276/1000 [00:01<00:02, 245.28it/s]\n",
      "  2%|▏         | 24/1000 [00:00<00:04, 231.59it/s]"
     ]
    },
    {
     "name": "stdout",
     "output_type": "stream",
     "text": [
      "Episode 276\tAverage Score: 13.18"
     ]
    },
    {
     "name": "stderr",
     "output_type": "stream",
     "text": [
      " 28%|██▊       | 277/1000 [00:01<00:02, 245.91it/s]\n",
      "  2%|▏         | 24/1000 [00:00<00:04, 232.93it/s]"
     ]
    },
    {
     "name": "stdout",
     "output_type": "stream",
     "text": [
      "Episode 277\tAverage Score: 13.20"
     ]
    },
    {
     "name": "stderr",
     "output_type": "stream",
     "text": [
      " 28%|██▊       | 277/1000 [00:01<00:02, 245.76it/s]\n",
      "  2%|▏         | 24/1000 [00:00<00:04, 234.40it/s]"
     ]
    },
    {
     "name": "stdout",
     "output_type": "stream",
     "text": [
      "Episode 278\tAverage Score: 13.36"
     ]
    },
    {
     "name": "stderr",
     "output_type": "stream",
     "text": [
      " 28%|██▊       | 278/1000 [00:01<00:02, 247.81it/s]\n",
      "  2%|▏         | 24/1000 [00:00<00:04, 235.36it/s]"
     ]
    },
    {
     "name": "stdout",
     "output_type": "stream",
     "text": [
      "Episode 279\tAverage Score: 13.46"
     ]
    },
    {
     "name": "stderr",
     "output_type": "stream",
     "text": [
      " 28%|██▊       | 276/1000 [00:01<00:02, 245.83it/s]\n",
      "  2%|▏         | 24/1000 [00:00<00:04, 229.00it/s]"
     ]
    },
    {
     "name": "stdout",
     "output_type": "stream",
     "text": [
      "Episode 280\tAverage Score: 13.40"
     ]
    },
    {
     "name": "stderr",
     "output_type": "stream",
     "text": [
      " 28%|██▊       | 278/1000 [00:01<00:02, 247.62it/s]\n",
      "  2%|▏         | 24/1000 [00:00<00:04, 226.52it/s]"
     ]
    },
    {
     "name": "stdout",
     "output_type": "stream",
     "text": [
      "Episode 281\tAverage Score: 13.54"
     ]
    },
    {
     "name": "stderr",
     "output_type": "stream",
     "text": [
      " 29%|██▉       | 288/1000 [00:01<00:03, 235.14it/s]\n",
      "  2%|▏         | 24/1000 [00:00<00:04, 229.60it/s]"
     ]
    },
    {
     "name": "stdout",
     "output_type": "stream",
     "text": [
      "Episode 282\tAverage Score: 13.70"
     ]
    },
    {
     "name": "stderr",
     "output_type": "stream",
     "text": [
      " 29%|██▉       | 290/1000 [00:01<00:03, 236.23it/s]\n",
      "  2%|▏         | 22/1000 [00:00<00:04, 218.95it/s]"
     ]
    },
    {
     "name": "stdout",
     "output_type": "stream",
     "text": [
      "Episode 283\tAverage Score: 13.80"
     ]
    },
    {
     "name": "stderr",
     "output_type": "stream",
     "text": [
      " 29%|██▉       | 290/1000 [00:01<00:03, 222.58it/s]\n",
      "  2%|▏         | 22/1000 [00:00<00:04, 219.92it/s]"
     ]
    },
    {
     "name": "stdout",
     "output_type": "stream",
     "text": [
      "Episode 284\tAverage Score: 13.66"
     ]
    },
    {
     "name": "stderr",
     "output_type": "stream",
     "text": [
      " 29%|██▊       | 287/1000 [00:01<00:02, 237.85it/s]\n",
      "  2%|▏         | 23/1000 [00:00<00:04, 224.76it/s]"
     ]
    },
    {
     "name": "stdout",
     "output_type": "stream",
     "text": [
      "Episode 285\tAverage Score: 13.70"
     ]
    },
    {
     "name": "stderr",
     "output_type": "stream",
     "text": [
      " 28%|██▊       | 284/1000 [00:01<00:03, 231.26it/s]\n",
      "  2%|▏         | 23/1000 [00:00<00:04, 225.72it/s]"
     ]
    },
    {
     "name": "stdout",
     "output_type": "stream",
     "text": [
      "Episode 286\tAverage Score: 13.80"
     ]
    },
    {
     "name": "stderr",
     "output_type": "stream",
     "text": [
      " 28%|██▊       | 284/1000 [00:01<00:03, 233.20it/s]\n",
      "  2%|▏         | 23/1000 [00:00<00:04, 228.92it/s]"
     ]
    },
    {
     "name": "stdout",
     "output_type": "stream",
     "text": [
      "Episode 287\tAverage Score: 13.80"
     ]
    },
    {
     "name": "stderr",
     "output_type": "stream",
     "text": [
      " 29%|██▉       | 291/1000 [00:01<00:02, 240.81it/s]\n",
      "  2%|▏         | 24/1000 [00:00<00:04, 224.61it/s]"
     ]
    },
    {
     "name": "stdout",
     "output_type": "stream",
     "text": [
      "Episode 288\tAverage Score: 13.94"
     ]
    },
    {
     "name": "stderr",
     "output_type": "stream",
     "text": [
      " 29%|██▉       | 290/1000 [00:01<00:02, 237.63it/s]\n",
      "  2%|▏         | 23/1000 [00:00<00:04, 224.90it/s]"
     ]
    },
    {
     "name": "stdout",
     "output_type": "stream",
     "text": [
      "Episode 289\tAverage Score: 13.92"
     ]
    },
    {
     "name": "stderr",
     "output_type": "stream",
     "text": [
      " 29%|██▊       | 287/1000 [00:01<00:03, 237.52it/s]\n",
      "  2%|▏         | 23/1000 [00:00<00:04, 226.53it/s]"
     ]
    },
    {
     "name": "stdout",
     "output_type": "stream",
     "text": [
      "Episode 290\tAverage Score: 14.06"
     ]
    },
    {
     "name": "stderr",
     "output_type": "stream",
     "text": [
      " 28%|██▊       | 285/1000 [00:01<00:03, 237.92it/s]\n",
      "  2%|▏         | 23/1000 [00:00<00:04, 227.08it/s]"
     ]
    },
    {
     "name": "stdout",
     "output_type": "stream",
     "text": [
      "Episode 291\tAverage Score: 14.00"
     ]
    },
    {
     "name": "stderr",
     "output_type": "stream",
     "text": [
      " 29%|██▊       | 287/1000 [00:01<00:03, 237.10it/s]\n",
      "  2%|▏         | 24/1000 [00:00<00:04, 223.39it/s]"
     ]
    },
    {
     "name": "stdout",
     "output_type": "stream",
     "text": [
      "Episode 292\tAverage Score: 14.02"
     ]
    },
    {
     "name": "stderr",
     "output_type": "stream",
     "text": [
      " 29%|██▉       | 292/1000 [00:01<00:02, 236.82it/s]\n",
      "  2%|▏         | 23/1000 [00:00<00:04, 229.57it/s]"
     ]
    },
    {
     "name": "stdout",
     "output_type": "stream",
     "text": [
      "Episode 293\tAverage Score: 14.14"
     ]
    },
    {
     "name": "stderr",
     "output_type": "stream",
     "text": [
      " 29%|██▉       | 293/1000 [00:01<00:02, 242.32it/s]\n",
      "  2%|▏         | 24/1000 [00:00<00:04, 227.16it/s]"
     ]
    },
    {
     "name": "stdout",
     "output_type": "stream",
     "text": [
      "Episode 294\tAverage Score: 14.12"
     ]
    },
    {
     "name": "stderr",
     "output_type": "stream",
     "text": [
      " 29%|██▉       | 292/1000 [00:01<00:02, 237.92it/s]\n",
      "  2%|▏         | 24/1000 [00:00<00:04, 235.14it/s]"
     ]
    },
    {
     "name": "stdout",
     "output_type": "stream",
     "text": [
      "Episode 295\tAverage Score: 14.18"
     ]
    },
    {
     "name": "stderr",
     "output_type": "stream",
     "text": [
      " 29%|██▉       | 294/1000 [00:01<00:02, 242.54it/s]\n",
      "  2%|▏         | 23/1000 [00:00<00:04, 229.45it/s]"
     ]
    },
    {
     "name": "stdout",
     "output_type": "stream",
     "text": [
      "Episode 296\tAverage Score: 14.32"
     ]
    },
    {
     "name": "stderr",
     "output_type": "stream",
     "text": [
      " 29%|██▉       | 292/1000 [00:01<00:03, 235.89it/s]\n",
      "  2%|▏         | 23/1000 [00:00<00:04, 227.68it/s]"
     ]
    },
    {
     "name": "stdout",
     "output_type": "stream",
     "text": [
      "Episode 297\tAverage Score: 14.52"
     ]
    },
    {
     "name": "stderr",
     "output_type": "stream",
     "text": [
      " 29%|██▉       | 291/1000 [00:01<00:02, 238.71it/s]\n",
      "  2%|▏         | 24/1000 [00:00<00:04, 228.03it/s]"
     ]
    },
    {
     "name": "stdout",
     "output_type": "stream",
     "text": [
      "Episode 298\tAverage Score: 14.52"
     ]
    },
    {
     "name": "stderr",
     "output_type": "stream",
     "text": [
      " 29%|██▉       | 290/1000 [00:01<00:02, 239.63it/s]\n",
      "  2%|▏         | 23/1000 [00:00<00:04, 226.97it/s]"
     ]
    },
    {
     "name": "stdout",
     "output_type": "stream",
     "text": [
      "Episode 299\tAverage Score: 14.58"
     ]
    },
    {
     "name": "stderr",
     "output_type": "stream",
     "text": [
      " 29%|██▉       | 290/1000 [00:01<00:02, 239.58it/s]\n",
      "  2%|▏         | 23/1000 [00:00<00:04, 223.01it/s]"
     ]
    },
    {
     "name": "stdout",
     "output_type": "stream",
     "text": [
      "Episode 300\tAverage Score: 14.68\n"
     ]
    },
    {
     "name": "stderr",
     "output_type": "stream",
     "text": [
      " 29%|██▊       | 287/1000 [00:01<00:03, 233.79it/s]\n",
      "  2%|▏         | 23/1000 [00:00<00:04, 229.04it/s]"
     ]
    },
    {
     "name": "stdout",
     "output_type": "stream",
     "text": [
      "Episode 301\tAverage Score: 14.80"
     ]
    },
    {
     "name": "stderr",
     "output_type": "stream",
     "text": [
      " 28%|██▊       | 285/1000 [00:01<00:03, 236.60it/s]\n",
      "  2%|▏         | 23/1000 [00:00<00:04, 229.82it/s]"
     ]
    },
    {
     "name": "stdout",
     "output_type": "stream",
     "text": [
      "Episode 302\tAverage Score: 14.78"
     ]
    },
    {
     "name": "stderr",
     "output_type": "stream",
     "text": [
      " 29%|██▉       | 291/1000 [00:01<00:03, 235.83it/s]\n",
      "  2%|▏         | 24/1000 [00:00<00:04, 224.56it/s]"
     ]
    },
    {
     "name": "stdout",
     "output_type": "stream",
     "text": [
      "Episode 303\tAverage Score: 14.74"
     ]
    },
    {
     "name": "stderr",
     "output_type": "stream",
     "text": [
      " 28%|██▊       | 284/1000 [00:01<00:03, 233.45it/s]\n",
      "  2%|▏         | 24/1000 [00:00<00:04, 224.34it/s]"
     ]
    },
    {
     "name": "stdout",
     "output_type": "stream",
     "text": [
      "Episode 304\tAverage Score: 14.70"
     ]
    },
    {
     "name": "stderr",
     "output_type": "stream",
     "text": [
      " 29%|██▉       | 288/1000 [00:01<00:03, 229.96it/s]\n",
      "  2%|▏         | 24/1000 [00:00<00:04, 227.37it/s]"
     ]
    },
    {
     "name": "stdout",
     "output_type": "stream",
     "text": [
      "Episode 305\tAverage Score: 14.94"
     ]
    },
    {
     "name": "stderr",
     "output_type": "stream",
     "text": [
      " 29%|██▉       | 288/1000 [00:01<00:03, 235.49it/s]\n",
      "  2%|▏         | 23/1000 [00:00<00:04, 228.46it/s]"
     ]
    },
    {
     "name": "stdout",
     "output_type": "stream",
     "text": [
      "Episode 306\tAverage Score: 15.04"
     ]
    },
    {
     "name": "stderr",
     "output_type": "stream",
     "text": [
      " 30%|██▉       | 298/1000 [00:01<00:03, 214.02it/s]\n",
      "  2%|▏         | 20/1000 [00:00<00:05, 183.48it/s]"
     ]
    },
    {
     "name": "stdout",
     "output_type": "stream",
     "text": [
      "Episode 307\tAverage Score: 15.16"
     ]
    },
    {
     "name": "stderr",
     "output_type": "stream",
     "text": [
      " 28%|██▊       | 282/1000 [00:01<00:03, 237.84it/s]\n",
      "  2%|▏         | 24/1000 [00:00<00:04, 224.02it/s]"
     ]
    },
    {
     "name": "stdout",
     "output_type": "stream",
     "text": [
      "Episode 308\tAverage Score: 15.38"
     ]
    },
    {
     "name": "stderr",
     "output_type": "stream",
     "text": [
      " 29%|██▉       | 292/1000 [00:01<00:02, 238.71it/s]\n",
      "  2%|▏         | 23/1000 [00:00<00:04, 226.31it/s]"
     ]
    },
    {
     "name": "stdout",
     "output_type": "stream",
     "text": [
      "Episode 309\tAverage Score: 15.50"
     ]
    },
    {
     "name": "stderr",
     "output_type": "stream",
     "text": [
      " 29%|██▉       | 289/1000 [00:01<00:02, 238.15it/s]\n",
      "  2%|▏         | 23/1000 [00:00<00:04, 227.29it/s]"
     ]
    },
    {
     "name": "stdout",
     "output_type": "stream",
     "text": [
      "Episode 310\tAverage Score: 15.54"
     ]
    },
    {
     "name": "stderr",
     "output_type": "stream",
     "text": [
      " 28%|██▊       | 284/1000 [00:01<00:03, 232.08it/s]\n",
      "  2%|▏         | 23/1000 [00:00<00:04, 229.22it/s]"
     ]
    },
    {
     "name": "stdout",
     "output_type": "stream",
     "text": [
      "Episode 311\tAverage Score: 15.62"
     ]
    },
    {
     "name": "stderr",
     "output_type": "stream",
     "text": [
      " 29%|██▉       | 290/1000 [00:01<00:02, 241.18it/s]\n",
      "  2%|▏         | 24/1000 [00:00<00:04, 224.95it/s]"
     ]
    },
    {
     "name": "stdout",
     "output_type": "stream",
     "text": [
      "Episode 312\tAverage Score: 15.66"
     ]
    },
    {
     "name": "stderr",
     "output_type": "stream",
     "text": [
      " 29%|██▉       | 290/1000 [00:01<00:02, 237.16it/s]\n",
      "  2%|▏         | 23/1000 [00:00<00:04, 227.49it/s]"
     ]
    },
    {
     "name": "stdout",
     "output_type": "stream",
     "text": [
      "Episode 313\tAverage Score: 15.88"
     ]
    },
    {
     "name": "stderr",
     "output_type": "stream",
     "text": [
      " 29%|██▉       | 288/1000 [00:01<00:03, 235.39it/s]\n",
      "  2%|▏         | 24/1000 [00:00<00:04, 227.23it/s]"
     ]
    },
    {
     "name": "stdout",
     "output_type": "stream",
     "text": [
      "Episode 314\tAverage Score: 15.76"
     ]
    },
    {
     "name": "stderr",
     "output_type": "stream",
     "text": [
      " 29%|██▉       | 291/1000 [00:01<00:02, 237.87it/s]\n",
      "  2%|▏         | 23/1000 [00:00<00:04, 225.19it/s]"
     ]
    },
    {
     "name": "stdout",
     "output_type": "stream",
     "text": [
      "Episode 315\tAverage Score: 15.90"
     ]
    },
    {
     "name": "stderr",
     "output_type": "stream",
     "text": [
      " 29%|██▊       | 287/1000 [00:01<00:03, 237.53it/s]\n",
      "  2%|▏         | 24/1000 [00:00<00:04, 224.32it/s]"
     ]
    },
    {
     "name": "stdout",
     "output_type": "stream",
     "text": [
      "Episode 316\tAverage Score: 15.92"
     ]
    },
    {
     "name": "stderr",
     "output_type": "stream",
     "text": [
      " 29%|██▉       | 289/1000 [00:01<00:03, 233.64it/s]\n",
      "  2%|▏         | 24/1000 [00:00<00:04, 223.19it/s]"
     ]
    },
    {
     "name": "stdout",
     "output_type": "stream",
     "text": [
      "Episode 317\tAverage Score: 16.04"
     ]
    },
    {
     "name": "stderr",
     "output_type": "stream",
     "text": [
      " 29%|██▉       | 291/1000 [00:01<00:02, 237.58it/s]\n",
      "  2%|▏         | 23/1000 [00:00<00:04, 224.70it/s]"
     ]
    },
    {
     "name": "stdout",
     "output_type": "stream",
     "text": [
      "Episode 318\tAverage Score: 16.10"
     ]
    },
    {
     "name": "stderr",
     "output_type": "stream",
     "text": [
      " 28%|██▊       | 285/1000 [00:01<00:03, 235.80it/s]\n",
      "  2%|▏         | 24/1000 [00:00<00:04, 231.25it/s]"
     ]
    },
    {
     "name": "stdout",
     "output_type": "stream",
     "text": [
      "Episode 319\tAverage Score: 16.10"
     ]
    },
    {
     "name": "stderr",
     "output_type": "stream",
     "text": [
      " 29%|██▉       | 294/1000 [00:01<00:02, 238.90it/s]\n",
      "  2%|▏         | 23/1000 [00:00<00:04, 229.13it/s]"
     ]
    },
    {
     "name": "stdout",
     "output_type": "stream",
     "text": [
      "Episode 320\tAverage Score: 16.20"
     ]
    },
    {
     "name": "stderr",
     "output_type": "stream",
     "text": [
      " 29%|██▉       | 288/1000 [00:01<00:03, 236.08it/s]\n",
      "  2%|▏         | 24/1000 [00:00<00:04, 229.14it/s]"
     ]
    },
    {
     "name": "stdout",
     "output_type": "stream",
     "text": [
      "Episode 321\tAverage Score: 16.26"
     ]
    },
    {
     "name": "stderr",
     "output_type": "stream",
     "text": [
      " 29%|██▉       | 291/1000 [00:01<00:02, 238.72it/s]\n",
      "  2%|▏         | 24/1000 [00:00<00:04, 224.25it/s]"
     ]
    },
    {
     "name": "stdout",
     "output_type": "stream",
     "text": [
      "Episode 322\tAverage Score: 16.28"
     ]
    },
    {
     "name": "stderr",
     "output_type": "stream",
     "text": [
      " 29%|██▉       | 289/1000 [00:01<00:03, 234.86it/s]\n",
      "  2%|▏         | 22/1000 [00:00<00:04, 217.71it/s]"
     ]
    },
    {
     "name": "stdout",
     "output_type": "stream",
     "text": [
      "Episode 323\tAverage Score: 16.22"
     ]
    },
    {
     "name": "stderr",
     "output_type": "stream",
     "text": [
      " 29%|██▉       | 293/1000 [00:01<00:02, 240.78it/s]\n",
      "  2%|▏         | 23/1000 [00:00<00:04, 228.49it/s]"
     ]
    },
    {
     "name": "stdout",
     "output_type": "stream",
     "text": [
      "Episode 324\tAverage Score: 16.48"
     ]
    },
    {
     "name": "stderr",
     "output_type": "stream",
     "text": [
      " 29%|██▉       | 292/1000 [00:01<00:02, 240.00it/s]\n",
      "  2%|▏         | 24/1000 [00:00<00:04, 223.97it/s]"
     ]
    },
    {
     "name": "stdout",
     "output_type": "stream",
     "text": [
      "Episode 325\tAverage Score: 16.54"
     ]
    },
    {
     "name": "stderr",
     "output_type": "stream",
     "text": [
      " 29%|██▉       | 291/1000 [00:01<00:02, 237.78it/s]\n",
      "  2%|▏         | 24/1000 [00:00<00:04, 231.57it/s]"
     ]
    },
    {
     "name": "stdout",
     "output_type": "stream",
     "text": [
      "Episode 326\tAverage Score: 16.60"
     ]
    },
    {
     "name": "stderr",
     "output_type": "stream",
     "text": [
      " 29%|██▉       | 290/1000 [00:01<00:02, 237.71it/s]\n",
      "  2%|▏         | 22/1000 [00:00<00:04, 213.35it/s]"
     ]
    },
    {
     "name": "stdout",
     "output_type": "stream",
     "text": [
      "Episode 327\tAverage Score: 16.80"
     ]
    },
    {
     "name": "stderr",
     "output_type": "stream",
     "text": [
      " 29%|██▉       | 288/1000 [00:01<00:03, 234.57it/s]\n",
      "  2%|▏         | 24/1000 [00:00<00:04, 224.61it/s]"
     ]
    },
    {
     "name": "stdout",
     "output_type": "stream",
     "text": [
      "Episode 328\tAverage Score: 16.86"
     ]
    },
    {
     "name": "stderr",
     "output_type": "stream",
     "text": [
      " 29%|██▉       | 290/1000 [00:01<00:02, 239.04it/s]\n",
      "  2%|▏         | 23/1000 [00:00<00:04, 226.52it/s]"
     ]
    },
    {
     "name": "stdout",
     "output_type": "stream",
     "text": [
      "Episode 329\tAverage Score: 17.00"
     ]
    },
    {
     "name": "stderr",
     "output_type": "stream",
     "text": [
      " 29%|██▊       | 287/1000 [00:01<00:03, 226.31it/s]\n",
      "  2%|▏         | 20/1000 [00:00<00:05, 187.10it/s]"
     ]
    },
    {
     "name": "stdout",
     "output_type": "stream",
     "text": [
      "Episode 330\tAverage Score: 17.02"
     ]
    },
    {
     "name": "stderr",
     "output_type": "stream",
     "text": [
      " 28%|██▊       | 277/1000 [00:01<00:03, 235.97it/s]\n",
      "  2%|▏         | 22/1000 [00:00<00:04, 219.43it/s]"
     ]
    },
    {
     "name": "stdout",
     "output_type": "stream",
     "text": [
      "Episode 331\tAverage Score: 17.18"
     ]
    },
    {
     "name": "stderr",
     "output_type": "stream",
     "text": [
      " 29%|██▉       | 288/1000 [00:01<00:02, 237.95it/s]\n",
      "  2%|▏         | 23/1000 [00:00<00:04, 228.54it/s]"
     ]
    },
    {
     "name": "stdout",
     "output_type": "stream",
     "text": [
      "Episode 332\tAverage Score: 17.24"
     ]
    },
    {
     "name": "stderr",
     "output_type": "stream",
     "text": [
      " 29%|██▉       | 289/1000 [00:01<00:03, 235.68it/s]\n",
      "  2%|▏         | 23/1000 [00:00<00:04, 227.97it/s]"
     ]
    },
    {
     "name": "stdout",
     "output_type": "stream",
     "text": [
      "Episode 333\tAverage Score: 17.46"
     ]
    },
    {
     "name": "stderr",
     "output_type": "stream",
     "text": [
      " 29%|██▉       | 288/1000 [00:01<00:03, 236.44it/s]\n",
      "  2%|▏         | 24/1000 [00:00<00:04, 229.44it/s]"
     ]
    },
    {
     "name": "stdout",
     "output_type": "stream",
     "text": [
      "Episode 334\tAverage Score: 17.52"
     ]
    },
    {
     "name": "stderr",
     "output_type": "stream",
     "text": [
      " 29%|██▉       | 290/1000 [00:01<00:02, 239.86it/s]\n",
      "  2%|▏         | 24/1000 [00:00<00:04, 228.05it/s]"
     ]
    },
    {
     "name": "stdout",
     "output_type": "stream",
     "text": [
      "Episode 335\tAverage Score: 17.66"
     ]
    },
    {
     "name": "stderr",
     "output_type": "stream",
     "text": [
      " 29%|██▉       | 290/1000 [00:01<00:02, 238.98it/s]\n",
      "  2%|▏         | 24/1000 [00:00<00:04, 231.19it/s]"
     ]
    },
    {
     "name": "stdout",
     "output_type": "stream",
     "text": [
      "Episode 336\tAverage Score: 17.62"
     ]
    },
    {
     "name": "stderr",
     "output_type": "stream",
     "text": [
      " 29%|██▉       | 294/1000 [00:01<00:02, 242.60it/s]\n",
      "  2%|▏         | 24/1000 [00:00<00:04, 227.23it/s]"
     ]
    },
    {
     "name": "stdout",
     "output_type": "stream",
     "text": [
      "Episode 337\tAverage Score: 17.52"
     ]
    },
    {
     "name": "stderr",
     "output_type": "stream",
     "text": [
      " 29%|██▉       | 292/1000 [00:01<00:02, 241.47it/s]\n",
      "  2%|▏         | 24/1000 [00:00<00:04, 230.89it/s]"
     ]
    },
    {
     "name": "stdout",
     "output_type": "stream",
     "text": [
      "Episode 338\tAverage Score: 17.70"
     ]
    },
    {
     "name": "stderr",
     "output_type": "stream",
     "text": [
      " 29%|██▉       | 290/1000 [00:01<00:02, 241.23it/s]\n",
      "  2%|▏         | 23/1000 [00:00<00:04, 228.30it/s]"
     ]
    },
    {
     "name": "stdout",
     "output_type": "stream",
     "text": [
      "Episode 339\tAverage Score: 17.56"
     ]
    },
    {
     "name": "stderr",
     "output_type": "stream",
     "text": [
      " 29%|██▉       | 290/1000 [00:01<00:02, 237.65it/s]\n",
      "  2%|▏         | 23/1000 [00:00<00:04, 228.03it/s]"
     ]
    },
    {
     "name": "stdout",
     "output_type": "stream",
     "text": [
      "Episode 340\tAverage Score: 17.44"
     ]
    },
    {
     "name": "stderr",
     "output_type": "stream",
     "text": [
      " 29%|██▉       | 290/1000 [00:01<00:02, 238.92it/s]\n",
      "  2%|▏         | 24/1000 [00:00<00:04, 226.32it/s]"
     ]
    },
    {
     "name": "stdout",
     "output_type": "stream",
     "text": [
      "Episode 341\tAverage Score: 17.40"
     ]
    },
    {
     "name": "stderr",
     "output_type": "stream",
     "text": [
      " 30%|██▉       | 295/1000 [00:01<00:02, 241.02it/s]\n",
      "  2%|▏         | 23/1000 [00:00<00:04, 224.63it/s]"
     ]
    },
    {
     "name": "stdout",
     "output_type": "stream",
     "text": [
      "Episode 342\tAverage Score: 17.52"
     ]
    },
    {
     "name": "stderr",
     "output_type": "stream",
     "text": [
      " 30%|██▉       | 297/1000 [00:01<00:02, 241.44it/s]\n",
      "  2%|▏         | 23/1000 [00:00<00:04, 225.97it/s]"
     ]
    },
    {
     "name": "stdout",
     "output_type": "stream",
     "text": [
      "Episode 343\tAverage Score: 17.52"
     ]
    },
    {
     "name": "stderr",
     "output_type": "stream",
     "text": [
      " 29%|██▉       | 288/1000 [00:01<00:03, 232.76it/s]\n",
      "  2%|▏         | 24/1000 [00:00<00:04, 228.26it/s]"
     ]
    },
    {
     "name": "stdout",
     "output_type": "stream",
     "text": [
      "Episode 344\tAverage Score: 17.68"
     ]
    },
    {
     "name": "stderr",
     "output_type": "stream",
     "text": [
      " 29%|██▉       | 290/1000 [00:01<00:02, 238.09it/s]\n",
      "  2%|▏         | 23/1000 [00:00<00:04, 223.36it/s]"
     ]
    },
    {
     "name": "stdout",
     "output_type": "stream",
     "text": [
      "Episode 345\tAverage Score: 17.86"
     ]
    },
    {
     "name": "stderr",
     "output_type": "stream",
     "text": [
      " 29%|██▊       | 286/1000 [00:01<00:03, 236.54it/s]\n",
      "  2%|▏         | 23/1000 [00:00<00:04, 226.55it/s]"
     ]
    },
    {
     "name": "stdout",
     "output_type": "stream",
     "text": [
      "Episode 346\tAverage Score: 18.04"
     ]
    },
    {
     "name": "stderr",
     "output_type": "stream",
     "text": [
      " 29%|██▉       | 290/1000 [00:01<00:02, 237.78it/s]\n",
      "  2%|▏         | 24/1000 [00:00<00:04, 227.57it/s]"
     ]
    },
    {
     "name": "stdout",
     "output_type": "stream",
     "text": [
      "Episode 347\tAverage Score: 18.00"
     ]
    },
    {
     "name": "stderr",
     "output_type": "stream",
     "text": [
      " 30%|██▉       | 295/1000 [00:01<00:02, 240.98it/s]\n",
      "  2%|▏         | 24/1000 [00:00<00:04, 226.39it/s]"
     ]
    },
    {
     "name": "stdout",
     "output_type": "stream",
     "text": [
      "Episode 348\tAverage Score: 18.00"
     ]
    },
    {
     "name": "stderr",
     "output_type": "stream",
     "text": [
      " 29%|██▉       | 290/1000 [00:01<00:03, 234.43it/s]\n",
      "  2%|▏         | 24/1000 [00:00<00:04, 227.35it/s]"
     ]
    },
    {
     "name": "stdout",
     "output_type": "stream",
     "text": [
      "Episode 349\tAverage Score: 18.02"
     ]
    },
    {
     "name": "stderr",
     "output_type": "stream",
     "text": [
      " 29%|██▉       | 288/1000 [00:01<00:03, 235.52it/s]\n",
      "  2%|▏         | 23/1000 [00:00<00:04, 229.28it/s]"
     ]
    },
    {
     "name": "stdout",
     "output_type": "stream",
     "text": [
      "Episode 350\tAverage Score: 18.16"
     ]
    },
    {
     "name": "stderr",
     "output_type": "stream",
     "text": [
      " 29%|██▊       | 287/1000 [00:01<00:02, 238.94it/s]\n",
      "  2%|▏         | 24/1000 [00:00<00:04, 226.93it/s]"
     ]
    },
    {
     "name": "stdout",
     "output_type": "stream",
     "text": [
      "Episode 351\tAverage Score: 18.30"
     ]
    },
    {
     "name": "stderr",
     "output_type": "stream",
     "text": [
      " 29%|██▉       | 291/1000 [00:01<00:02, 241.25it/s]\n",
      "  2%|▏         | 24/1000 [00:00<00:04, 224.46it/s]"
     ]
    },
    {
     "name": "stdout",
     "output_type": "stream",
     "text": [
      "Episode 352\tAverage Score: 18.22"
     ]
    },
    {
     "name": "stderr",
     "output_type": "stream",
     "text": [
      " 28%|██▊       | 284/1000 [00:01<00:03, 219.89it/s]\n",
      "  2%|▏         | 20/1000 [00:00<00:05, 194.11it/s]"
     ]
    },
    {
     "name": "stdout",
     "output_type": "stream",
     "text": [
      "Episode 353\tAverage Score: 18.50"
     ]
    },
    {
     "name": "stderr",
     "output_type": "stream",
     "text": [
      " 29%|██▊       | 286/1000 [00:01<00:03, 236.14it/s]\n",
      "  2%|▏         | 24/1000 [00:00<00:04, 227.37it/s]"
     ]
    },
    {
     "name": "stdout",
     "output_type": "stream",
     "text": [
      "Episode 354\tAverage Score: 18.56"
     ]
    },
    {
     "name": "stderr",
     "output_type": "stream",
     "text": [
      " 29%|██▉       | 294/1000 [00:01<00:02, 240.12it/s]\n",
      "  2%|▏         | 24/1000 [00:00<00:04, 222.64it/s]"
     ]
    },
    {
     "name": "stdout",
     "output_type": "stream",
     "text": [
      "Episode 355\tAverage Score: 18.62"
     ]
    },
    {
     "name": "stderr",
     "output_type": "stream",
     "text": [
      " 29%|██▉       | 292/1000 [00:01<00:02, 237.57it/s]\n",
      "  2%|▏         | 23/1000 [00:00<00:04, 229.48it/s]"
     ]
    },
    {
     "name": "stdout",
     "output_type": "stream",
     "text": [
      "Episode 356\tAverage Score: 18.58"
     ]
    },
    {
     "name": "stderr",
     "output_type": "stream",
     "text": [
      " 29%|██▉       | 290/1000 [00:01<00:02, 241.29it/s]\n",
      "  2%|▏         | 24/1000 [00:00<00:04, 225.77it/s]"
     ]
    },
    {
     "name": "stdout",
     "output_type": "stream",
     "text": [
      "Episode 357\tAverage Score: 18.56"
     ]
    },
    {
     "name": "stderr",
     "output_type": "stream",
     "text": [
      " 29%|██▉       | 292/1000 [00:01<00:02, 237.71it/s]\n",
      "  2%|▏         | 23/1000 [00:00<00:04, 227.23it/s]"
     ]
    },
    {
     "name": "stdout",
     "output_type": "stream",
     "text": [
      "Episode 358\tAverage Score: 18.68"
     ]
    },
    {
     "name": "stderr",
     "output_type": "stream",
     "text": [
      " 29%|██▉       | 292/1000 [00:01<00:02, 240.55it/s]\n",
      "  2%|▏         | 23/1000 [00:00<00:04, 224.57it/s]"
     ]
    },
    {
     "name": "stdout",
     "output_type": "stream",
     "text": [
      "Episode 359\tAverage Score: 18.64"
     ]
    },
    {
     "name": "stderr",
     "output_type": "stream",
     "text": [
      " 29%|██▊       | 286/1000 [00:01<00:03, 236.42it/s]\n",
      "  2%|▏         | 22/1000 [00:00<00:04, 219.80it/s]"
     ]
    },
    {
     "name": "stdout",
     "output_type": "stream",
     "text": [
      "Episode 360\tAverage Score: 18.70"
     ]
    },
    {
     "name": "stderr",
     "output_type": "stream",
     "text": [
      " 28%|██▊       | 285/1000 [00:01<00:03, 236.54it/s]\n",
      "  2%|▏         | 24/1000 [00:00<00:04, 224.62it/s]"
     ]
    },
    {
     "name": "stdout",
     "output_type": "stream",
     "text": [
      "Episode 361\tAverage Score: 18.76"
     ]
    },
    {
     "name": "stderr",
     "output_type": "stream",
     "text": [
      " 29%|██▉       | 293/1000 [00:01<00:02, 241.06it/s]\n",
      "  2%|▏         | 24/1000 [00:00<00:04, 231.73it/s]"
     ]
    },
    {
     "name": "stdout",
     "output_type": "stream",
     "text": [
      "Episode 362\tAverage Score: 18.84"
     ]
    },
    {
     "name": "stderr",
     "output_type": "stream",
     "text": [
      " 29%|██▉       | 294/1000 [00:01<00:02, 242.34it/s]\n",
      "  2%|▏         | 24/1000 [00:00<00:04, 224.63it/s]"
     ]
    },
    {
     "name": "stdout",
     "output_type": "stream",
     "text": [
      "Episode 363\tAverage Score: 19.12"
     ]
    },
    {
     "name": "stderr",
     "output_type": "stream",
     "text": [
      " 29%|██▉       | 289/1000 [00:01<00:03, 235.66it/s]\n",
      "  2%|▏         | 23/1000 [00:00<00:04, 224.09it/s]"
     ]
    },
    {
     "name": "stdout",
     "output_type": "stream",
     "text": [
      "Episode 364\tAverage Score: 19.22"
     ]
    },
    {
     "name": "stderr",
     "output_type": "stream",
     "text": [
      " 29%|██▉       | 290/1000 [00:01<00:02, 237.97it/s]\n",
      "  2%|▏         | 24/1000 [00:00<00:04, 235.19it/s]"
     ]
    },
    {
     "name": "stdout",
     "output_type": "stream",
     "text": [
      "Episode 365\tAverage Score: 19.38"
     ]
    },
    {
     "name": "stderr",
     "output_type": "stream",
     "text": [
      " 30%|██▉       | 298/1000 [00:01<00:02, 248.88it/s]\n",
      "  2%|▏         | 22/1000 [00:00<00:04, 217.64it/s]"
     ]
    },
    {
     "name": "stdout",
     "output_type": "stream",
     "text": [
      "Episode 366\tAverage Score: 19.54"
     ]
    },
    {
     "name": "stderr",
     "output_type": "stream",
     "text": [
      " 29%|██▉       | 292/1000 [00:01<00:02, 239.47it/s]\n",
      "  2%|▏         | 24/1000 [00:00<00:04, 222.16it/s]"
     ]
    },
    {
     "name": "stdout",
     "output_type": "stream",
     "text": [
      "Episode 367\tAverage Score: 19.68"
     ]
    },
    {
     "name": "stderr",
     "output_type": "stream",
     "text": [
      " 30%|██▉       | 295/1000 [00:01<00:02, 237.37it/s]\n",
      "  2%|▏         | 24/1000 [00:00<00:04, 227.07it/s]"
     ]
    },
    {
     "name": "stdout",
     "output_type": "stream",
     "text": [
      "Episode 368\tAverage Score: 19.70"
     ]
    },
    {
     "name": "stderr",
     "output_type": "stream",
     "text": [
      " 29%|██▉       | 293/1000 [00:01<00:02, 239.52it/s]\n",
      "  2%|▏         | 22/1000 [00:00<00:04, 219.01it/s]"
     ]
    },
    {
     "name": "stdout",
     "output_type": "stream",
     "text": [
      "Episode 369\tAverage Score: 19.78"
     ]
    },
    {
     "name": "stderr",
     "output_type": "stream",
     "text": [
      " 29%|██▉       | 291/1000 [00:01<00:02, 244.46it/s]\n",
      "  2%|▏         | 22/1000 [00:00<00:04, 216.01it/s]"
     ]
    },
    {
     "name": "stdout",
     "output_type": "stream",
     "text": [
      "Episode 370\tAverage Score: 19.72"
     ]
    },
    {
     "name": "stderr",
     "output_type": "stream",
     "text": [
      " 29%|██▊       | 286/1000 [00:01<00:03, 235.85it/s]\n",
      "  2%|▏         | 24/1000 [00:00<00:04, 228.17it/s]"
     ]
    },
    {
     "name": "stdout",
     "output_type": "stream",
     "text": [
      "Episode 371\tAverage Score: 19.70"
     ]
    },
    {
     "name": "stderr",
     "output_type": "stream",
     "text": [
      " 29%|██▉       | 291/1000 [00:01<00:02, 240.63it/s]\n",
      "  2%|▏         | 24/1000 [00:00<00:04, 223.59it/s]"
     ]
    },
    {
     "name": "stdout",
     "output_type": "stream",
     "text": [
      "Episode 372\tAverage Score: 19.72"
     ]
    },
    {
     "name": "stderr",
     "output_type": "stream",
     "text": [
      " 29%|██▉       | 292/1000 [00:01<00:02, 238.54it/s]\n",
      "  2%|▏         | 23/1000 [00:00<00:04, 224.09it/s]"
     ]
    },
    {
     "name": "stdout",
     "output_type": "stream",
     "text": [
      "Episode 373\tAverage Score: 19.88"
     ]
    },
    {
     "name": "stderr",
     "output_type": "stream",
     "text": [
      " 29%|██▉       | 289/1000 [00:01<00:02, 238.24it/s]\n",
      "  2%|▏         | 23/1000 [00:00<00:04, 225.29it/s]"
     ]
    },
    {
     "name": "stdout",
     "output_type": "stream",
     "text": [
      "Episode 374\tAverage Score: 19.92"
     ]
    },
    {
     "name": "stderr",
     "output_type": "stream",
     "text": [
      " 29%|██▉       | 294/1000 [00:01<00:03, 231.96it/s]\n",
      "  2%|▏         | 23/1000 [00:00<00:04, 225.08it/s]"
     ]
    },
    {
     "name": "stdout",
     "output_type": "stream",
     "text": [
      "Episode 375\tAverage Score: 19.92"
     ]
    },
    {
     "name": "stderr",
     "output_type": "stream",
     "text": [
      " 29%|██▉       | 289/1000 [00:01<00:03, 230.90it/s]\n",
      "  2%|▏         | 22/1000 [00:00<00:04, 216.72it/s]"
     ]
    },
    {
     "name": "stdout",
     "output_type": "stream",
     "text": [
      "Episode 376\tAverage Score: 19.84"
     ]
    },
    {
     "name": "stderr",
     "output_type": "stream",
     "text": [
      " 30%|██▉       | 297/1000 [00:01<00:03, 233.27it/s]\n",
      "  2%|▏         | 24/1000 [00:00<00:04, 228.00it/s]"
     ]
    },
    {
     "name": "stdout",
     "output_type": "stream",
     "text": [
      "Episode 377\tAverage Score: 19.92"
     ]
    },
    {
     "name": "stderr",
     "output_type": "stream",
     "text": [
      " 29%|██▉       | 293/1000 [00:01<00:02, 236.78it/s]\n",
      "  2%|▏         | 24/1000 [00:00<00:04, 226.69it/s]"
     ]
    },
    {
     "name": "stdout",
     "output_type": "stream",
     "text": [
      "Episode 378\tAverage Score: 19.80"
     ]
    },
    {
     "name": "stderr",
     "output_type": "stream",
     "text": [
      " 29%|██▉       | 290/1000 [00:01<00:02, 237.98it/s]\n",
      "  2%|▏         | 24/1000 [00:00<00:04, 229.23it/s]"
     ]
    },
    {
     "name": "stdout",
     "output_type": "stream",
     "text": [
      "Episode 379\tAverage Score: 19.96"
     ]
    },
    {
     "name": "stderr",
     "output_type": "stream",
     "text": [
      " 29%|██▉       | 288/1000 [00:01<00:03, 234.91it/s]\n",
      "  2%|▏         | 24/1000 [00:00<00:04, 225.88it/s]"
     ]
    },
    {
     "name": "stdout",
     "output_type": "stream",
     "text": [
      "Episode 380\tAverage Score: 20.10"
     ]
    },
    {
     "name": "stderr",
     "output_type": "stream",
     "text": [
      " 30%|██▉       | 295/1000 [00:01<00:02, 241.20it/s]\n",
      "  2%|▏         | 24/1000 [00:00<00:04, 225.22it/s]"
     ]
    },
    {
     "name": "stdout",
     "output_type": "stream",
     "text": [
      "Episode 381\tAverage Score: 20.22"
     ]
    },
    {
     "name": "stderr",
     "output_type": "stream",
     "text": [
      " 29%|██▉       | 294/1000 [00:01<00:02, 237.61it/s]\n",
      "  2%|▏         | 24/1000 [00:00<00:04, 223.63it/s]"
     ]
    },
    {
     "name": "stdout",
     "output_type": "stream",
     "text": [
      "Episode 382\tAverage Score: 20.18"
     ]
    },
    {
     "name": "stderr",
     "output_type": "stream",
     "text": [
      " 29%|██▉       | 289/1000 [00:01<00:03, 236.80it/s]\n",
      "  2%|▏         | 23/1000 [00:00<00:04, 224.97it/s]"
     ]
    },
    {
     "name": "stdout",
     "output_type": "stream",
     "text": [
      "Episode 383\tAverage Score: 20.30"
     ]
    },
    {
     "name": "stderr",
     "output_type": "stream",
     "text": [
      " 28%|██▊       | 285/1000 [00:01<00:02, 239.76it/s]\n",
      "  2%|▏         | 24/1000 [00:00<00:04, 224.66it/s]"
     ]
    },
    {
     "name": "stdout",
     "output_type": "stream",
     "text": [
      "Episode 384\tAverage Score: 20.40"
     ]
    },
    {
     "name": "stderr",
     "output_type": "stream",
     "text": [
      " 29%|██▉       | 293/1000 [00:01<00:02, 240.24it/s]\n",
      "  2%|▏         | 23/1000 [00:00<00:04, 228.35it/s]"
     ]
    },
    {
     "name": "stdout",
     "output_type": "stream",
     "text": [
      "Episode 385\tAverage Score: 20.54"
     ]
    },
    {
     "name": "stderr",
     "output_type": "stream",
     "text": [
      " 29%|██▉       | 289/1000 [00:01<00:03, 233.97it/s]\n",
      "  2%|▏         | 24/1000 [00:00<00:04, 225.42it/s]"
     ]
    },
    {
     "name": "stdout",
     "output_type": "stream",
     "text": [
      "Episode 386\tAverage Score: 20.66"
     ]
    },
    {
     "name": "stderr",
     "output_type": "stream",
     "text": [
      " 29%|██▉       | 289/1000 [00:01<00:02, 238.46it/s]\n",
      "  2%|▏         | 24/1000 [00:00<00:04, 231.67it/s]"
     ]
    },
    {
     "name": "stdout",
     "output_type": "stream",
     "text": [
      "Episode 387\tAverage Score: 20.84"
     ]
    },
    {
     "name": "stderr",
     "output_type": "stream",
     "text": [
      " 29%|██▉       | 290/1000 [00:01<00:02, 237.10it/s]\n",
      "  2%|▏         | 24/1000 [00:00<00:04, 227.95it/s]"
     ]
    },
    {
     "name": "stdout",
     "output_type": "stream",
     "text": [
      "Episode 388\tAverage Score: 20.80"
     ]
    },
    {
     "name": "stderr",
     "output_type": "stream",
     "text": [
      " 29%|██▉       | 291/1000 [00:01<00:02, 239.36it/s]\n",
      "  2%|▏         | 24/1000 [00:00<00:04, 225.54it/s]"
     ]
    },
    {
     "name": "stdout",
     "output_type": "stream",
     "text": [
      "Episode 389\tAverage Score: 20.92"
     ]
    },
    {
     "name": "stderr",
     "output_type": "stream",
     "text": [
      " 29%|██▉       | 293/1000 [00:01<00:02, 240.13it/s]\n",
      "  2%|▏         | 24/1000 [00:00<00:04, 230.25it/s]"
     ]
    },
    {
     "name": "stdout",
     "output_type": "stream",
     "text": [
      "Episode 390\tAverage Score: 20.94"
     ]
    },
    {
     "name": "stderr",
     "output_type": "stream",
     "text": [
      " 29%|██▉       | 289/1000 [00:01<00:03, 235.39it/s]\n",
      "  2%|▏         | 24/1000 [00:00<00:04, 225.09it/s]"
     ]
    },
    {
     "name": "stdout",
     "output_type": "stream",
     "text": [
      "Episode 391\tAverage Score: 21.04"
     ]
    },
    {
     "name": "stderr",
     "output_type": "stream",
     "text": [
      " 29%|██▉       | 289/1000 [00:01<00:03, 235.56it/s]\n",
      "  2%|▏         | 24/1000 [00:00<00:04, 227.11it/s]"
     ]
    },
    {
     "name": "stdout",
     "output_type": "stream",
     "text": [
      "Episode 392\tAverage Score: 21.12"
     ]
    },
    {
     "name": "stderr",
     "output_type": "stream",
     "text": [
      " 29%|██▉       | 289/1000 [00:01<00:03, 236.68it/s]\n",
      "  2%|▏         | 24/1000 [00:00<00:04, 230.14it/s]"
     ]
    },
    {
     "name": "stdout",
     "output_type": "stream",
     "text": [
      "Episode 393\tAverage Score: 21.20"
     ]
    },
    {
     "name": "stderr",
     "output_type": "stream",
     "text": [
      " 29%|██▉       | 292/1000 [00:01<00:02, 238.10it/s]\n",
      "  2%|▏         | 23/1000 [00:00<00:04, 229.68it/s]"
     ]
    },
    {
     "name": "stdout",
     "output_type": "stream",
     "text": [
      "Episode 394\tAverage Score: 21.26"
     ]
    },
    {
     "name": "stderr",
     "output_type": "stream",
     "text": [
      " 29%|██▉       | 294/1000 [00:01<00:02, 240.96it/s]\n",
      "  2%|▏         | 24/1000 [00:00<00:04, 226.48it/s]"
     ]
    },
    {
     "name": "stdout",
     "output_type": "stream",
     "text": [
      "Episode 395\tAverage Score: 21.34"
     ]
    },
    {
     "name": "stderr",
     "output_type": "stream",
     "text": [
      " 29%|██▉       | 291/1000 [00:01<00:02, 240.50it/s]\n",
      "  2%|▏         | 24/1000 [00:00<00:04, 228.51it/s]"
     ]
    },
    {
     "name": "stdout",
     "output_type": "stream",
     "text": [
      "Episode 396\tAverage Score: 21.24"
     ]
    },
    {
     "name": "stderr",
     "output_type": "stream",
     "text": [
      " 29%|██▉       | 288/1000 [00:01<00:03, 236.55it/s]\n",
      "  2%|▏         | 23/1000 [00:00<00:04, 227.48it/s]"
     ]
    },
    {
     "name": "stdout",
     "output_type": "stream",
     "text": [
      "Episode 397\tAverage Score: 21.26"
     ]
    },
    {
     "name": "stderr",
     "output_type": "stream",
     "text": [
      " 30%|██▉       | 296/1000 [00:01<00:02, 239.22it/s]\n",
      "  2%|▏         | 24/1000 [00:00<00:04, 226.68it/s]"
     ]
    },
    {
     "name": "stdout",
     "output_type": "stream",
     "text": [
      "Episode 398\tAverage Score: 21.38"
     ]
    },
    {
     "name": "stderr",
     "output_type": "stream",
     "text": [
      " 29%|██▉       | 288/1000 [00:01<00:03, 233.22it/s]\n",
      "  2%|▏         | 23/1000 [00:00<00:04, 225.98it/s]"
     ]
    },
    {
     "name": "stdout",
     "output_type": "stream",
     "text": [
      "Episode 399\tAverage Score: 21.44"
     ]
    },
    {
     "name": "stderr",
     "output_type": "stream",
     "text": [
      " 29%|██▉       | 288/1000 [00:01<00:03, 234.41it/s]\n",
      "  2%|▏         | 23/1000 [00:00<00:04, 226.63it/s]"
     ]
    },
    {
     "name": "stdout",
     "output_type": "stream",
     "text": [
      "Episode 400\tAverage Score: 21.48\n"
     ]
    },
    {
     "name": "stderr",
     "output_type": "stream",
     "text": [
      " 29%|██▉       | 290/1000 [00:01<00:03, 223.33it/s]\n",
      "  2%|▏         | 24/1000 [00:00<00:04, 228.79it/s]"
     ]
    },
    {
     "name": "stdout",
     "output_type": "stream",
     "text": [
      "Episode 401\tAverage Score: 21.56"
     ]
    },
    {
     "name": "stderr",
     "output_type": "stream",
     "text": [
      " 30%|██▉       | 298/1000 [00:01<00:02, 243.27it/s]\n",
      "  2%|▏         | 24/1000 [00:00<00:04, 232.62it/s]"
     ]
    },
    {
     "name": "stdout",
     "output_type": "stream",
     "text": [
      "Episode 402\tAverage Score: 21.76"
     ]
    },
    {
     "name": "stderr",
     "output_type": "stream",
     "text": [
      " 29%|██▉       | 289/1000 [00:01<00:03, 235.97it/s]\n",
      "  2%|▏         | 24/1000 [00:00<00:04, 230.88it/s]"
     ]
    },
    {
     "name": "stdout",
     "output_type": "stream",
     "text": [
      "Episode 403\tAverage Score: 21.72"
     ]
    },
    {
     "name": "stderr",
     "output_type": "stream",
     "text": [
      " 29%|██▉       | 292/1000 [00:01<00:02, 236.68it/s]\n",
      "  2%|▏         | 24/1000 [00:00<00:04, 226.12it/s]"
     ]
    },
    {
     "name": "stdout",
     "output_type": "stream",
     "text": [
      "Episode 404\tAverage Score: 21.90"
     ]
    },
    {
     "name": "stderr",
     "output_type": "stream",
     "text": [
      " 29%|██▉       | 291/1000 [00:01<00:02, 240.93it/s]\n",
      "  2%|▏         | 23/1000 [00:00<00:04, 229.33it/s]"
     ]
    },
    {
     "name": "stdout",
     "output_type": "stream",
     "text": [
      "Episode 405\tAverage Score: 22.04"
     ]
    },
    {
     "name": "stderr",
     "output_type": "stream",
     "text": [
      " 29%|██▉       | 292/1000 [00:01<00:03, 235.02it/s]\n",
      "  2%|▏         | 24/1000 [00:00<00:04, 239.24it/s]"
     ]
    },
    {
     "name": "stdout",
     "output_type": "stream",
     "text": [
      "Episode 406\tAverage Score: 22.10"
     ]
    },
    {
     "name": "stderr",
     "output_type": "stream",
     "text": [
      " 29%|██▉       | 293/1000 [00:01<00:02, 238.31it/s]\n",
      "  2%|▏         | 24/1000 [00:00<00:04, 228.81it/s]"
     ]
    },
    {
     "name": "stdout",
     "output_type": "stream",
     "text": [
      "Episode 407\tAverage Score: 22.00"
     ]
    },
    {
     "name": "stderr",
     "output_type": "stream",
     "text": [
      " 29%|██▉       | 291/1000 [00:01<00:02, 237.87it/s]\n",
      "  2%|▏         | 24/1000 [00:00<00:04, 228.67it/s]"
     ]
    },
    {
     "name": "stdout",
     "output_type": "stream",
     "text": [
      "Episode 408\tAverage Score: 22.10"
     ]
    },
    {
     "name": "stderr",
     "output_type": "stream",
     "text": [
      " 29%|██▉       | 289/1000 [00:01<00:03, 236.25it/s]\n",
      "  2%|▏         | 24/1000 [00:00<00:04, 225.99it/s]"
     ]
    },
    {
     "name": "stdout",
     "output_type": "stream",
     "text": [
      "Episode 409\tAverage Score: 22.08"
     ]
    },
    {
     "name": "stderr",
     "output_type": "stream",
     "text": [
      " 29%|██▉       | 291/1000 [00:01<00:02, 241.01it/s]\n",
      "  2%|▏         | 24/1000 [00:00<00:04, 226.41it/s]"
     ]
    },
    {
     "name": "stdout",
     "output_type": "stream",
     "text": [
      "Episode 410\tAverage Score: 22.00"
     ]
    },
    {
     "name": "stderr",
     "output_type": "stream",
     "text": [
      " 30%|██▉       | 295/1000 [00:01<00:02, 240.92it/s]\n",
      "  2%|▏         | 22/1000 [00:00<00:04, 219.18it/s]"
     ]
    },
    {
     "name": "stdout",
     "output_type": "stream",
     "text": [
      "Episode 411\tAverage Score: 21.92"
     ]
    },
    {
     "name": "stderr",
     "output_type": "stream",
     "text": [
      " 29%|██▉       | 290/1000 [00:01<00:02, 238.98it/s]\n",
      "  2%|▏         | 23/1000 [00:00<00:04, 225.11it/s]"
     ]
    },
    {
     "name": "stdout",
     "output_type": "stream",
     "text": [
      "Episode 412\tAverage Score: 21.96"
     ]
    },
    {
     "name": "stderr",
     "output_type": "stream",
     "text": [
      " 29%|██▉       | 292/1000 [00:01<00:02, 241.58it/s]\n",
      "  2%|▏         | 24/1000 [00:00<00:04, 230.07it/s]"
     ]
    },
    {
     "name": "stdout",
     "output_type": "stream",
     "text": [
      "Episode 413\tAverage Score: 21.82"
     ]
    },
    {
     "name": "stderr",
     "output_type": "stream",
     "text": [
      " 29%|██▉       | 290/1000 [00:01<00:03, 236.05it/s]\n",
      "  2%|▏         | 23/1000 [00:00<00:04, 226.72it/s]"
     ]
    },
    {
     "name": "stdout",
     "output_type": "stream",
     "text": [
      "Episode 414\tAverage Score: 21.84"
     ]
    },
    {
     "name": "stderr",
     "output_type": "stream",
     "text": [
      " 29%|██▉       | 291/1000 [00:01<00:02, 238.94it/s]\n",
      "  2%|▏         | 24/1000 [00:00<00:04, 230.33it/s]"
     ]
    },
    {
     "name": "stdout",
     "output_type": "stream",
     "text": [
      "Episode 415\tAverage Score: 21.96"
     ]
    },
    {
     "name": "stderr",
     "output_type": "stream",
     "text": [
      " 29%|██▉       | 292/1000 [00:01<00:03, 235.93it/s]\n",
      "  2%|▏         | 24/1000 [00:00<00:04, 227.33it/s]"
     ]
    },
    {
     "name": "stdout",
     "output_type": "stream",
     "text": [
      "Episode 416\tAverage Score: 21.88"
     ]
    },
    {
     "name": "stderr",
     "output_type": "stream",
     "text": [
      " 29%|██▉       | 290/1000 [00:01<00:02, 237.58it/s]\n",
      "  2%|▏         | 24/1000 [00:00<00:04, 230.03it/s]"
     ]
    },
    {
     "name": "stdout",
     "output_type": "stream",
     "text": [
      "Episode 417\tAverage Score: 22.02"
     ]
    },
    {
     "name": "stderr",
     "output_type": "stream",
     "text": [
      " 29%|██▉       | 291/1000 [00:01<00:02, 238.02it/s]\n",
      "  2%|▏         | 24/1000 [00:00<00:04, 231.46it/s]"
     ]
    },
    {
     "name": "stdout",
     "output_type": "stream",
     "text": [
      "Episode 418\tAverage Score: 22.14"
     ]
    },
    {
     "name": "stderr",
     "output_type": "stream",
     "text": [
      " 29%|██▉       | 291/1000 [00:01<00:02, 239.44it/s]\n",
      "  2%|▏         | 24/1000 [00:00<00:04, 225.84it/s]"
     ]
    },
    {
     "name": "stdout",
     "output_type": "stream",
     "text": [
      "Episode 419\tAverage Score: 22.14"
     ]
    },
    {
     "name": "stderr",
     "output_type": "stream",
     "text": [
      " 30%|██▉       | 296/1000 [00:01<00:02, 244.26it/s]\n",
      "  2%|▏         | 24/1000 [00:00<00:04, 235.61it/s]"
     ]
    },
    {
     "name": "stdout",
     "output_type": "stream",
     "text": [
      "Episode 420\tAverage Score: 22.00"
     ]
    },
    {
     "name": "stderr",
     "output_type": "stream",
     "text": [
      " 28%|██▊       | 278/1000 [00:01<00:02, 246.99it/s]\n",
      "  2%|▏         | 24/1000 [00:00<00:04, 232.61it/s]"
     ]
    },
    {
     "name": "stdout",
     "output_type": "stream",
     "text": [
      "Episode 421\tAverage Score: 22.08"
     ]
    },
    {
     "name": "stderr",
     "output_type": "stream",
     "text": [
      " 28%|██▊       | 276/1000 [00:01<00:02, 244.57it/s]\n",
      "  2%|▏         | 24/1000 [00:00<00:04, 232.44it/s]"
     ]
    },
    {
     "name": "stdout",
     "output_type": "stream",
     "text": [
      "Episode 422\tAverage Score: 22.26"
     ]
    },
    {
     "name": "stderr",
     "output_type": "stream",
     "text": [
      " 28%|██▊       | 279/1000 [00:01<00:02, 249.58it/s]\n",
      "  2%|▎         | 25/1000 [00:00<00:03, 244.56it/s]"
     ]
    },
    {
     "name": "stdout",
     "output_type": "stream",
     "text": [
      "Episode 423\tAverage Score: 22.48"
     ]
    },
    {
     "name": "stderr",
     "output_type": "stream",
     "text": [
      " 29%|██▉       | 292/1000 [00:01<00:03, 224.40it/s]\n",
      "  2%|▏         | 22/1000 [00:00<00:04, 218.70it/s]"
     ]
    },
    {
     "name": "stdout",
     "output_type": "stream",
     "text": [
      "Episode 424\tAverage Score: 22.50"
     ]
    },
    {
     "name": "stderr",
     "output_type": "stream",
     "text": [
      " 30%|██▉       | 296/1000 [00:01<00:02, 244.93it/s]\n",
      "  2%|▏         | 24/1000 [00:00<00:04, 230.63it/s]"
     ]
    },
    {
     "name": "stdout",
     "output_type": "stream",
     "text": [
      "Episode 425\tAverage Score: 22.52"
     ]
    },
    {
     "name": "stderr",
     "output_type": "stream",
     "text": [
      " 28%|██▊       | 279/1000 [00:01<00:02, 249.53it/s]\n",
      "  2%|▏         | 24/1000 [00:00<00:04, 236.28it/s]"
     ]
    },
    {
     "name": "stdout",
     "output_type": "stream",
     "text": [
      "Episode 426\tAverage Score: 22.42"
     ]
    },
    {
     "name": "stderr",
     "output_type": "stream",
     "text": [
      " 28%|██▊       | 276/1000 [00:01<00:02, 245.82it/s]\n",
      "  2%|▏         | 24/1000 [00:00<00:04, 234.31it/s]"
     ]
    },
    {
     "name": "stdout",
     "output_type": "stream",
     "text": [
      "Episode 427\tAverage Score: 22.24"
     ]
    },
    {
     "name": "stderr",
     "output_type": "stream",
     "text": [
      " 28%|██▊       | 278/1000 [00:01<00:02, 248.71it/s]\n",
      "  2%|▏         | 24/1000 [00:00<00:04, 239.01it/s]"
     ]
    },
    {
     "name": "stdout",
     "output_type": "stream",
     "text": [
      "Episode 428\tAverage Score: 22.42"
     ]
    },
    {
     "name": "stderr",
     "output_type": "stream",
     "text": [
      " 28%|██▊       | 278/1000 [00:01<00:02, 246.91it/s]\n",
      "  2%|▏         | 24/1000 [00:00<00:04, 231.69it/s]"
     ]
    },
    {
     "name": "stdout",
     "output_type": "stream",
     "text": [
      "Episode 429\tAverage Score: 22.40"
     ]
    },
    {
     "name": "stderr",
     "output_type": "stream",
     "text": [
      " 28%|██▊       | 276/1000 [00:01<00:02, 243.66it/s]\n",
      "  2%|▏         | 24/1000 [00:00<00:04, 232.90it/s]"
     ]
    },
    {
     "name": "stdout",
     "output_type": "stream",
     "text": [
      "Episode 430\tAverage Score: 22.34"
     ]
    },
    {
     "name": "stderr",
     "output_type": "stream",
     "text": [
      " 28%|██▊       | 276/1000 [00:01<00:02, 245.03it/s]\n",
      "  2%|▏         | 24/1000 [00:00<00:04, 235.41it/s]"
     ]
    },
    {
     "name": "stdout",
     "output_type": "stream",
     "text": [
      "Episode 431\tAverage Score: 22.32"
     ]
    },
    {
     "name": "stderr",
     "output_type": "stream",
     "text": [
      " 28%|██▊       | 276/1000 [00:01<00:02, 246.09it/s]\n",
      "  2%|▏         | 24/1000 [00:00<00:04, 233.67it/s]"
     ]
    },
    {
     "name": "stdout",
     "output_type": "stream",
     "text": [
      "Episode 432\tAverage Score: 22.36"
     ]
    },
    {
     "name": "stderr",
     "output_type": "stream",
     "text": [
      " 28%|██▊       | 278/1000 [00:01<00:02, 247.43it/s]\n",
      "  2%|▏         | 24/1000 [00:00<00:04, 238.32it/s]"
     ]
    },
    {
     "name": "stdout",
     "output_type": "stream",
     "text": [
      "Episode 433\tAverage Score: 22.36"
     ]
    },
    {
     "name": "stderr",
     "output_type": "stream",
     "text": [
      " 28%|██▊       | 278/1000 [00:01<00:02, 249.52it/s]\n",
      "  2%|▏         | 24/1000 [00:00<00:04, 227.67it/s]"
     ]
    },
    {
     "name": "stdout",
     "output_type": "stream",
     "text": [
      "Episode 434\tAverage Score: 22.24"
     ]
    },
    {
     "name": "stderr",
     "output_type": "stream",
     "text": [
      " 28%|██▊       | 280/1000 [00:01<00:02, 245.79it/s]\n",
      "  2%|▏         | 24/1000 [00:00<00:04, 233.02it/s]"
     ]
    },
    {
     "name": "stdout",
     "output_type": "stream",
     "text": [
      "Episode 435\tAverage Score: 22.30"
     ]
    },
    {
     "name": "stderr",
     "output_type": "stream",
     "text": [
      " 30%|██▉       | 298/1000 [00:01<00:02, 242.37it/s]\n",
      "  2%|▏         | 24/1000 [00:00<00:04, 223.77it/s]"
     ]
    },
    {
     "name": "stdout",
     "output_type": "stream",
     "text": [
      "Episode 436\tAverage Score: 22.32"
     ]
    },
    {
     "name": "stderr",
     "output_type": "stream",
     "text": [
      " 30%|██▉       | 298/1000 [00:01<00:02, 239.93it/s]\n",
      "  2%|▏         | 24/1000 [00:00<00:04, 236.49it/s]"
     ]
    },
    {
     "name": "stdout",
     "output_type": "stream",
     "text": [
      "Episode 437\tAverage Score: 22.52"
     ]
    },
    {
     "name": "stderr",
     "output_type": "stream",
     "text": [
      " 30%|██▉       | 297/1000 [00:01<00:02, 242.60it/s]\n",
      "  2%|▏         | 24/1000 [00:00<00:04, 225.92it/s]"
     ]
    },
    {
     "name": "stdout",
     "output_type": "stream",
     "text": [
      "Episode 438\tAverage Score: 22.52"
     ]
    },
    {
     "name": "stderr",
     "output_type": "stream",
     "text": [
      " 28%|██▊       | 276/1000 [00:01<00:02, 246.36it/s]\n",
      "  2%|▏         | 24/1000 [00:00<00:04, 232.98it/s]"
     ]
    },
    {
     "name": "stdout",
     "output_type": "stream",
     "text": [
      "Episode 439\tAverage Score: 22.66"
     ]
    },
    {
     "name": "stderr",
     "output_type": "stream",
     "text": [
      " 28%|██▊       | 278/1000 [00:01<00:02, 252.02it/s]\n",
      "  2%|▏         | 24/1000 [00:00<00:04, 232.35it/s]"
     ]
    },
    {
     "name": "stdout",
     "output_type": "stream",
     "text": [
      "Episode 440\tAverage Score: 22.82"
     ]
    },
    {
     "name": "stderr",
     "output_type": "stream",
     "text": [
      " 28%|██▊       | 276/1000 [00:01<00:02, 245.24it/s]\n",
      "  2%|▏         | 24/1000 [00:00<00:04, 239.43it/s]"
     ]
    },
    {
     "name": "stdout",
     "output_type": "stream",
     "text": [
      "Episode 441\tAverage Score: 22.80"
     ]
    },
    {
     "name": "stderr",
     "output_type": "stream",
     "text": [
      " 28%|██▊       | 278/1000 [00:01<00:02, 249.19it/s]\n",
      "  2%|▏         | 24/1000 [00:00<00:04, 235.40it/s]"
     ]
    },
    {
     "name": "stdout",
     "output_type": "stream",
     "text": [
      "Episode 442\tAverage Score: 22.94"
     ]
    },
    {
     "name": "stderr",
     "output_type": "stream",
     "text": [
      " 28%|██▊       | 275/1000 [00:01<00:02, 249.26it/s]\n",
      "  2%|▏         | 24/1000 [00:00<00:04, 225.66it/s]"
     ]
    },
    {
     "name": "stdout",
     "output_type": "stream",
     "text": [
      "Episode 443\tAverage Score: 22.98"
     ]
    },
    {
     "name": "stderr",
     "output_type": "stream",
     "text": [
      " 28%|██▊       | 275/1000 [00:01<00:02, 249.51it/s]\n",
      "  2%|▏         | 24/1000 [00:00<00:04, 231.97it/s]"
     ]
    },
    {
     "name": "stdout",
     "output_type": "stream",
     "text": [
      "Episode 444\tAverage Score: 22.96"
     ]
    },
    {
     "name": "stderr",
     "output_type": "stream",
     "text": [
      " 28%|██▊       | 280/1000 [00:01<00:02, 248.73it/s]\n",
      "  2%|▏         | 24/1000 [00:00<00:04, 229.90it/s]"
     ]
    },
    {
     "name": "stdout",
     "output_type": "stream",
     "text": [
      "Episode 445\tAverage Score: 22.90"
     ]
    },
    {
     "name": "stderr",
     "output_type": "stream",
     "text": [
      " 28%|██▊       | 275/1000 [00:01<00:02, 243.24it/s]\n",
      "  2%|▏         | 24/1000 [00:00<00:04, 233.65it/s]"
     ]
    },
    {
     "name": "stdout",
     "output_type": "stream",
     "text": [
      "Episode 446\tAverage Score: 22.80"
     ]
    },
    {
     "name": "stderr",
     "output_type": "stream",
     "text": [
      " 28%|██▊       | 276/1000 [00:01<00:02, 245.34it/s]\n",
      "  2%|▏         | 24/1000 [00:00<00:04, 236.68it/s]"
     ]
    },
    {
     "name": "stdout",
     "output_type": "stream",
     "text": [
      "Episode 447\tAverage Score: 22.88"
     ]
    },
    {
     "name": "stderr",
     "output_type": "stream",
     "text": [
      " 30%|██▉       | 299/1000 [00:01<00:03, 232.57it/s]\n",
      "  2%|▏         | 23/1000 [00:00<00:04, 225.17it/s]"
     ]
    },
    {
     "name": "stdout",
     "output_type": "stream",
     "text": [
      "Episode 448\tAverage Score: 22.80"
     ]
    },
    {
     "name": "stderr",
     "output_type": "stream",
     "text": [
      " 29%|██▉       | 291/1000 [00:01<00:02, 244.27it/s]\n",
      "  2%|▏         | 24/1000 [00:00<00:04, 235.65it/s]"
     ]
    },
    {
     "name": "stdout",
     "output_type": "stream",
     "text": [
      "Episode 449\tAverage Score: 22.94"
     ]
    },
    {
     "name": "stderr",
     "output_type": "stream",
     "text": [
      " 28%|██▊       | 276/1000 [00:01<00:02, 241.66it/s]\n",
      "  2%|▏         | 24/1000 [00:00<00:04, 237.70it/s]"
     ]
    },
    {
     "name": "stdout",
     "output_type": "stream",
     "text": [
      "Episode 450\tAverage Score: 23.10"
     ]
    },
    {
     "name": "stderr",
     "output_type": "stream",
     "text": [
      " 28%|██▊       | 278/1000 [00:01<00:02, 250.14it/s]\n",
      "  2%|▏         | 24/1000 [00:00<00:04, 239.59it/s]"
     ]
    },
    {
     "name": "stdout",
     "output_type": "stream",
     "text": [
      "Episode 451\tAverage Score: 23.06"
     ]
    },
    {
     "name": "stderr",
     "output_type": "stream",
     "text": [
      " 28%|██▊       | 276/1000 [00:01<00:02, 247.73it/s]\n",
      "  2%|▏         | 24/1000 [00:00<00:04, 236.25it/s]"
     ]
    },
    {
     "name": "stdout",
     "output_type": "stream",
     "text": [
      "Episode 452\tAverage Score: 23.22"
     ]
    },
    {
     "name": "stderr",
     "output_type": "stream",
     "text": [
      " 30%|██▉       | 299/1000 [00:01<00:02, 246.22it/s]\n",
      "  2%|▏         | 24/1000 [00:00<00:04, 233.10it/s]"
     ]
    },
    {
     "name": "stdout",
     "output_type": "stream",
     "text": [
      "Episode 453\tAverage Score: 22.96"
     ]
    },
    {
     "name": "stderr",
     "output_type": "stream",
     "text": [
      " 28%|██▊       | 277/1000 [00:01<00:02, 245.55it/s]\n",
      "  2%|▏         | 24/1000 [00:00<00:04, 225.05it/s]"
     ]
    },
    {
     "name": "stdout",
     "output_type": "stream",
     "text": [
      "Episode 454\tAverage Score: 23.06"
     ]
    },
    {
     "name": "stderr",
     "output_type": "stream",
     "text": [
      " 28%|██▊       | 276/1000 [00:01<00:02, 244.90it/s]\n",
      "  2%|▎         | 25/1000 [00:00<00:04, 243.11it/s]"
     ]
    },
    {
     "name": "stdout",
     "output_type": "stream",
     "text": [
      "Episode 455\tAverage Score: 23.08"
     ]
    },
    {
     "name": "stderr",
     "output_type": "stream",
     "text": [
      " 28%|██▊       | 278/1000 [00:01<00:02, 247.54it/s]\n",
      "  2%|▏         | 24/1000 [00:00<00:04, 231.87it/s]"
     ]
    },
    {
     "name": "stdout",
     "output_type": "stream",
     "text": [
      "Episode 456\tAverage Score: 23.30"
     ]
    },
    {
     "name": "stderr",
     "output_type": "stream",
     "text": [
      " 28%|██▊       | 276/1000 [00:01<00:02, 245.35it/s]\n",
      "  2%|▏         | 24/1000 [00:00<00:04, 233.06it/s]"
     ]
    },
    {
     "name": "stdout",
     "output_type": "stream",
     "text": [
      "Episode 457\tAverage Score: 23.54"
     ]
    },
    {
     "name": "stderr",
     "output_type": "stream",
     "text": [
      " 28%|██▊       | 280/1000 [00:01<00:02, 248.10it/s]\n",
      "  2%|▏         | 24/1000 [00:00<00:04, 235.05it/s]"
     ]
    },
    {
     "name": "stdout",
     "output_type": "stream",
     "text": [
      "Episode 458\tAverage Score: 23.56"
     ]
    },
    {
     "name": "stderr",
     "output_type": "stream",
     "text": [
      " 28%|██▊       | 282/1000 [00:01<00:02, 249.42it/s]\n",
      "  2%|▏         | 24/1000 [00:00<00:04, 232.85it/s]"
     ]
    },
    {
     "name": "stdout",
     "output_type": "stream",
     "text": [
      "Episode 459\tAverage Score: 23.62"
     ]
    },
    {
     "name": "stderr",
     "output_type": "stream",
     "text": [
      " 28%|██▊       | 278/1000 [00:01<00:02, 244.38it/s]\n",
      "  2%|▏         | 24/1000 [00:00<00:04, 233.48it/s]"
     ]
    },
    {
     "name": "stdout",
     "output_type": "stream",
     "text": [
      "Episode 460\tAverage Score: 23.82"
     ]
    },
    {
     "name": "stderr",
     "output_type": "stream",
     "text": [
      " 28%|██▊       | 278/1000 [00:01<00:02, 250.45it/s]\n",
      "  2%|▏         | 24/1000 [00:00<00:04, 235.96it/s]"
     ]
    },
    {
     "name": "stdout",
     "output_type": "stream",
     "text": [
      "Episode 461\tAverage Score: 23.94"
     ]
    },
    {
     "name": "stderr",
     "output_type": "stream",
     "text": [
      " 30%|██▉       | 297/1000 [00:01<00:02, 239.90it/s]\n",
      "  2%|▏         | 24/1000 [00:00<00:04, 224.26it/s]"
     ]
    },
    {
     "name": "stdout",
     "output_type": "stream",
     "text": [
      "Episode 462\tAverage Score: 23.88"
     ]
    },
    {
     "name": "stderr",
     "output_type": "stream",
     "text": [
      " 28%|██▊       | 276/1000 [00:01<00:02, 245.35it/s]\n",
      "  2%|▏         | 24/1000 [00:00<00:04, 238.62it/s]"
     ]
    },
    {
     "name": "stdout",
     "output_type": "stream",
     "text": [
      "Episode 463\tAverage Score: 23.94"
     ]
    },
    {
     "name": "stderr",
     "output_type": "stream",
     "text": [
      " 28%|██▊       | 281/1000 [00:01<00:02, 246.33it/s]\n",
      "  2%|▏         | 24/1000 [00:00<00:04, 234.47it/s]"
     ]
    },
    {
     "name": "stdout",
     "output_type": "stream",
     "text": [
      "Episode 464\tAverage Score: 23.88"
     ]
    },
    {
     "name": "stderr",
     "output_type": "stream",
     "text": [
      " 28%|██▊       | 277/1000 [00:01<00:02, 245.74it/s]\n",
      "  2%|▏         | 24/1000 [00:00<00:04, 238.13it/s]"
     ]
    },
    {
     "name": "stdout",
     "output_type": "stream",
     "text": [
      "Episode 465\tAverage Score: 23.88"
     ]
    },
    {
     "name": "stderr",
     "output_type": "stream",
     "text": [
      " 28%|██▊       | 278/1000 [00:01<00:02, 249.81it/s]\n",
      "  2%|▏         | 24/1000 [00:00<00:04, 230.50it/s]"
     ]
    },
    {
     "name": "stdout",
     "output_type": "stream",
     "text": [
      "Episode 466\tAverage Score: 24.06"
     ]
    },
    {
     "name": "stderr",
     "output_type": "stream",
     "text": [
      " 28%|██▊       | 275/1000 [00:01<00:02, 244.40it/s]\n",
      "  2%|▏         | 24/1000 [00:00<00:04, 231.27it/s]"
     ]
    },
    {
     "name": "stdout",
     "output_type": "stream",
     "text": [
      "Episode 467\tAverage Score: 24.04"
     ]
    },
    {
     "name": "stderr",
     "output_type": "stream",
     "text": [
      " 28%|██▊       | 276/1000 [00:01<00:02, 246.03it/s]\n",
      "  2%|▏         | 24/1000 [00:00<00:04, 228.79it/s]"
     ]
    },
    {
     "name": "stdout",
     "output_type": "stream",
     "text": [
      "Episode 468\tAverage Score: 24.02"
     ]
    },
    {
     "name": "stderr",
     "output_type": "stream",
     "text": [
      " 29%|██▉       | 291/1000 [00:01<00:02, 241.00it/s]\n",
      "  2%|▏         | 24/1000 [00:00<00:04, 237.25it/s]"
     ]
    },
    {
     "name": "stdout",
     "output_type": "stream",
     "text": [
      "Episode 469\tAverage Score: 24.10"
     ]
    },
    {
     "name": "stderr",
     "output_type": "stream",
     "text": [
      " 28%|██▊       | 278/1000 [00:01<00:02, 247.56it/s]\n",
      "  2%|▏         | 24/1000 [00:00<00:04, 235.15it/s]"
     ]
    },
    {
     "name": "stdout",
     "output_type": "stream",
     "text": [
      "Episode 470\tAverage Score: 24.22"
     ]
    },
    {
     "name": "stderr",
     "output_type": "stream",
     "text": [
      " 28%|██▊       | 275/1000 [00:01<00:02, 244.61it/s]\n",
      "  2%|▏         | 24/1000 [00:00<00:04, 233.85it/s]"
     ]
    },
    {
     "name": "stdout",
     "output_type": "stream",
     "text": [
      "Episode 471\tAverage Score: 24.36"
     ]
    },
    {
     "name": "stderr",
     "output_type": "stream",
     "text": [
      " 28%|██▊       | 276/1000 [00:01<00:02, 247.14it/s]\n",
      "  2%|▏         | 24/1000 [00:00<00:04, 230.75it/s]"
     ]
    },
    {
     "name": "stdout",
     "output_type": "stream",
     "text": [
      "Episode 472\tAverage Score: 24.46"
     ]
    },
    {
     "name": "stderr",
     "output_type": "stream",
     "text": [
      " 30%|██▉       | 298/1000 [00:01<00:03, 226.99it/s]\n",
      "  2%|▏         | 24/1000 [00:00<00:04, 228.96it/s]"
     ]
    },
    {
     "name": "stdout",
     "output_type": "stream",
     "text": [
      "Episode 473\tAverage Score: 24.38"
     ]
    },
    {
     "name": "stderr",
     "output_type": "stream",
     "text": [
      " 30%|██▉       | 299/1000 [00:01<00:02, 244.74it/s]\n",
      "  2%|▏         | 24/1000 [00:00<00:04, 232.77it/s]"
     ]
    },
    {
     "name": "stdout",
     "output_type": "stream",
     "text": [
      "Episode 474\tAverage Score: 24.22"
     ]
    },
    {
     "name": "stderr",
     "output_type": "stream",
     "text": [
      " 28%|██▊       | 280/1000 [00:01<00:02, 249.56it/s]\n",
      "  2%|▏         | 24/1000 [00:00<00:04, 232.53it/s]"
     ]
    },
    {
     "name": "stdout",
     "output_type": "stream",
     "text": [
      "Episode 475\tAverage Score: 24.24"
     ]
    },
    {
     "name": "stderr",
     "output_type": "stream",
     "text": [
      " 28%|██▊       | 278/1000 [00:01<00:02, 247.44it/s]\n",
      "  2%|▏         | 24/1000 [00:00<00:04, 237.74it/s]"
     ]
    },
    {
     "name": "stdout",
     "output_type": "stream",
     "text": [
      "Episode 476\tAverage Score: 24.42"
     ]
    },
    {
     "name": "stderr",
     "output_type": "stream",
     "text": [
      " 27%|██▋       | 274/1000 [00:01<00:02, 247.53it/s]\n",
      "  2%|▏         | 24/1000 [00:00<00:04, 238.36it/s]"
     ]
    },
    {
     "name": "stdout",
     "output_type": "stream",
     "text": [
      "Episode 477\tAverage Score: 24.46"
     ]
    },
    {
     "name": "stderr",
     "output_type": "stream",
     "text": [
      " 28%|██▊       | 276/1000 [00:01<00:02, 245.33it/s]\n",
      "  2%|▏         | 24/1000 [00:00<00:04, 229.96it/s]"
     ]
    },
    {
     "name": "stdout",
     "output_type": "stream",
     "text": [
      "Episode 478\tAverage Score: 24.60"
     ]
    },
    {
     "name": "stderr",
     "output_type": "stream",
     "text": [
      " 28%|██▊       | 277/1000 [00:01<00:02, 243.17it/s]\n",
      "  2%|▏         | 24/1000 [00:00<00:04, 232.15it/s]"
     ]
    },
    {
     "name": "stdout",
     "output_type": "stream",
     "text": [
      "Episode 479\tAverage Score: 24.58"
     ]
    },
    {
     "name": "stderr",
     "output_type": "stream",
     "text": [
      " 28%|██▊       | 276/1000 [00:01<00:02, 244.35it/s]\n",
      "  2%|▏         | 24/1000 [00:00<00:04, 226.01it/s]"
     ]
    },
    {
     "name": "stdout",
     "output_type": "stream",
     "text": [
      "Episode 480\tAverage Score: 24.64"
     ]
    },
    {
     "name": "stderr",
     "output_type": "stream",
     "text": [
      " 28%|██▊       | 278/1000 [00:01<00:02, 250.58it/s]\n",
      "  2%|▏         | 24/1000 [00:00<00:04, 234.88it/s]"
     ]
    },
    {
     "name": "stdout",
     "output_type": "stream",
     "text": [
      "Episode 481\tAverage Score: 24.56"
     ]
    },
    {
     "name": "stderr",
     "output_type": "stream",
     "text": [
      " 28%|██▊       | 280/1000 [00:01<00:02, 248.72it/s]\n",
      "  2%|▏         | 24/1000 [00:00<00:04, 230.24it/s]"
     ]
    },
    {
     "name": "stdout",
     "output_type": "stream",
     "text": [
      "Episode 482\tAverage Score: 24.70"
     ]
    },
    {
     "name": "stderr",
     "output_type": "stream",
     "text": [
      " 28%|██▊       | 275/1000 [00:01<00:02, 245.55it/s]\n",
      "  2%|▏         | 24/1000 [00:00<00:04, 238.26it/s]"
     ]
    },
    {
     "name": "stdout",
     "output_type": "stream",
     "text": [
      "Episode 483\tAverage Score: 24.74"
     ]
    },
    {
     "name": "stderr",
     "output_type": "stream",
     "text": [
      " 28%|██▊       | 278/1000 [00:01<00:02, 245.92it/s]\n",
      "  2%|▏         | 24/1000 [00:00<00:04, 237.09it/s]"
     ]
    },
    {
     "name": "stdout",
     "output_type": "stream",
     "text": [
      "Episode 484\tAverage Score: 24.90"
     ]
    },
    {
     "name": "stderr",
     "output_type": "stream",
     "text": [
      " 28%|██▊       | 278/1000 [00:01<00:02, 249.04it/s]\n",
      "  2%|▎         | 25/1000 [00:00<00:04, 243.26it/s]"
     ]
    },
    {
     "name": "stdout",
     "output_type": "stream",
     "text": [
      "Episode 485\tAverage Score: 24.98"
     ]
    },
    {
     "name": "stderr",
     "output_type": "stream",
     "text": [
      " 28%|██▊       | 282/1000 [00:01<00:02, 249.66it/s]\n",
      "  2%|▏         | 24/1000 [00:00<00:04, 236.83it/s]"
     ]
    },
    {
     "name": "stdout",
     "output_type": "stream",
     "text": [
      "Episode 486\tAverage Score: 24.98"
     ]
    },
    {
     "name": "stderr",
     "output_type": "stream",
     "text": [
      " 30%|██▉       | 299/1000 [00:01<00:02, 245.27it/s]\n",
      "  2%|▏         | 24/1000 [00:00<00:04, 231.58it/s]"
     ]
    },
    {
     "name": "stdout",
     "output_type": "stream",
     "text": [
      "Episode 487\tAverage Score: 24.82"
     ]
    },
    {
     "name": "stderr",
     "output_type": "stream",
     "text": [
      " 28%|██▊       | 275/1000 [00:01<00:02, 243.38it/s]\n",
      "  2%|▏         | 24/1000 [00:00<00:04, 228.85it/s]"
     ]
    },
    {
     "name": "stdout",
     "output_type": "stream",
     "text": [
      "Episode 488\tAverage Score: 24.70"
     ]
    },
    {
     "name": "stderr",
     "output_type": "stream",
     "text": [
      " 28%|██▊       | 276/1000 [00:01<00:02, 247.58it/s]\n",
      "  2%|▏         | 24/1000 [00:00<00:04, 230.54it/s]"
     ]
    },
    {
     "name": "stdout",
     "output_type": "stream",
     "text": [
      "Episode 489\tAverage Score: 24.60"
     ]
    },
    {
     "name": "stderr",
     "output_type": "stream",
     "text": [
      " 28%|██▊       | 280/1000 [00:01<00:02, 246.82it/s]\n",
      "  2%|▏         | 23/1000 [00:00<00:04, 226.55it/s]"
     ]
    },
    {
     "name": "stdout",
     "output_type": "stream",
     "text": [
      "Episode 490\tAverage Score: 24.52"
     ]
    },
    {
     "name": "stderr",
     "output_type": "stream",
     "text": [
      " 28%|██▊       | 275/1000 [00:01<00:02, 249.99it/s]\n",
      "  2%|▏         | 24/1000 [00:00<00:04, 229.37it/s]"
     ]
    },
    {
     "name": "stdout",
     "output_type": "stream",
     "text": [
      "Episode 491\tAverage Score: 24.42"
     ]
    },
    {
     "name": "stderr",
     "output_type": "stream",
     "text": [
      " 28%|██▊       | 280/1000 [00:01<00:02, 245.28it/s]\n",
      "  2%|▏         | 24/1000 [00:00<00:04, 228.21it/s]"
     ]
    },
    {
     "name": "stdout",
     "output_type": "stream",
     "text": [
      "Episode 492\tAverage Score: 24.38"
     ]
    },
    {
     "name": "stderr",
     "output_type": "stream",
     "text": [
      " 30%|██▉       | 299/1000 [00:01<00:02, 245.13it/s]\n",
      "  2%|▏         | 24/1000 [00:00<00:04, 237.38it/s]"
     ]
    },
    {
     "name": "stdout",
     "output_type": "stream",
     "text": [
      "Episode 493\tAverage Score: 24.60"
     ]
    },
    {
     "name": "stderr",
     "output_type": "stream",
     "text": [
      " 28%|██▊       | 279/1000 [00:01<00:02, 247.86it/s]\n",
      "  2%|▏         | 24/1000 [00:00<00:04, 233.10it/s]"
     ]
    },
    {
     "name": "stdout",
     "output_type": "stream",
     "text": [
      "Episode 494\tAverage Score: 24.80"
     ]
    },
    {
     "name": "stderr",
     "output_type": "stream",
     "text": [
      " 28%|██▊       | 280/1000 [00:01<00:02, 242.36it/s]\n",
      "  2%|▏         | 24/1000 [00:00<00:04, 232.05it/s]"
     ]
    },
    {
     "name": "stdout",
     "output_type": "stream",
     "text": [
      "Episode 495\tAverage Score: 24.80"
     ]
    },
    {
     "name": "stderr",
     "output_type": "stream",
     "text": [
      " 28%|██▊       | 276/1000 [00:01<00:02, 245.66it/s]\n",
      "  2%|▏         | 24/1000 [00:00<00:04, 229.27it/s]"
     ]
    },
    {
     "name": "stdout",
     "output_type": "stream",
     "text": [
      "Episode 496\tAverage Score: 25.00"
     ]
    },
    {
     "name": "stderr",
     "output_type": "stream",
     "text": [
      " 28%|██▊       | 279/1000 [00:01<00:03, 224.44it/s]\n",
      "  2%|▏         | 23/1000 [00:00<00:04, 228.48it/s]"
     ]
    },
    {
     "name": "stdout",
     "output_type": "stream",
     "text": [
      "Episode 497\tAverage Score: 24.96"
     ]
    },
    {
     "name": "stderr",
     "output_type": "stream",
     "text": [
      " 28%|██▊       | 278/1000 [00:01<00:02, 250.01it/s]\n",
      "  2%|▏         | 24/1000 [00:00<00:04, 230.69it/s]"
     ]
    },
    {
     "name": "stdout",
     "output_type": "stream",
     "text": [
      "Episode 498\tAverage Score: 24.92"
     ]
    },
    {
     "name": "stderr",
     "output_type": "stream",
     "text": [
      " 28%|██▊       | 276/1000 [00:01<00:02, 247.87it/s]\n",
      "  2%|▏         | 24/1000 [00:00<00:04, 230.35it/s]"
     ]
    },
    {
     "name": "stdout",
     "output_type": "stream",
     "text": [
      "Episode 499\tAverage Score: 25.10"
     ]
    },
    {
     "name": "stderr",
     "output_type": "stream",
     "text": [
      " 28%|██▊       | 277/1000 [00:01<00:02, 247.61it/s]\n",
      "  2%|▏         | 24/1000 [00:00<00:04, 226.25it/s]"
     ]
    },
    {
     "name": "stdout",
     "output_type": "stream",
     "text": [
      "Episode 500\tAverage Score: 25.06\n"
     ]
    },
    {
     "name": "stderr",
     "output_type": "stream",
     "text": [
      " 28%|██▊       | 279/1000 [00:01<00:02, 247.14it/s]\n",
      "  2%|▏         | 24/1000 [00:00<00:04, 231.39it/s]"
     ]
    },
    {
     "name": "stdout",
     "output_type": "stream",
     "text": [
      "Episode 501\tAverage Score: 25.14"
     ]
    },
    {
     "name": "stderr",
     "output_type": "stream",
     "text": [
      " 28%|██▊       | 279/1000 [00:01<00:02, 250.37it/s]\n",
      "  2%|▏         | 24/1000 [00:00<00:04, 236.06it/s]"
     ]
    },
    {
     "name": "stdout",
     "output_type": "stream",
     "text": [
      "Episode 502\tAverage Score: 25.08"
     ]
    },
    {
     "name": "stderr",
     "output_type": "stream",
     "text": [
      " 28%|██▊       | 276/1000 [00:01<00:02, 245.60it/s]\n",
      "  2%|▏         | 24/1000 [00:00<00:04, 229.74it/s]"
     ]
    },
    {
     "name": "stdout",
     "output_type": "stream",
     "text": [
      "Episode 503\tAverage Score: 25.16"
     ]
    },
    {
     "name": "stderr",
     "output_type": "stream",
     "text": [
      " 28%|██▊       | 276/1000 [00:01<00:02, 247.97it/s]\n",
      "  2%|▏         | 24/1000 [00:00<00:04, 231.44it/s]"
     ]
    },
    {
     "name": "stdout",
     "output_type": "stream",
     "text": [
      "Episode 504\tAverage Score: 25.10"
     ]
    },
    {
     "name": "stderr",
     "output_type": "stream",
     "text": [
      " 28%|██▊       | 277/1000 [00:01<00:02, 248.29it/s]\n",
      "  2%|▏         | 24/1000 [00:00<00:04, 234.12it/s]"
     ]
    },
    {
     "name": "stdout",
     "output_type": "stream",
     "text": [
      "Episode 505\tAverage Score: 25.02"
     ]
    },
    {
     "name": "stderr",
     "output_type": "stream",
     "text": [
      " 28%|██▊       | 276/1000 [00:01<00:03, 241.11it/s]\n",
      "  2%|▏         | 24/1000 [00:00<00:04, 228.51it/s]"
     ]
    },
    {
     "name": "stdout",
     "output_type": "stream",
     "text": [
      "Episode 506\tAverage Score: 25.12"
     ]
    },
    {
     "name": "stderr",
     "output_type": "stream",
     "text": [
      " 28%|██▊       | 279/1000 [00:01<00:02, 250.38it/s]\n",
      "  2%|▏         | 24/1000 [00:00<00:04, 233.11it/s]"
     ]
    },
    {
     "name": "stdout",
     "output_type": "stream",
     "text": [
      "Episode 507\tAverage Score: 25.24"
     ]
    },
    {
     "name": "stderr",
     "output_type": "stream",
     "text": [
      " 28%|██▊       | 276/1000 [00:01<00:02, 246.51it/s]\n",
      "  2%|▏         | 24/1000 [00:00<00:04, 230.17it/s]"
     ]
    },
    {
     "name": "stdout",
     "output_type": "stream",
     "text": [
      "Episode 508\tAverage Score: 25.16"
     ]
    },
    {
     "name": "stderr",
     "output_type": "stream",
     "text": [
      " 30%|██▉       | 299/1000 [00:01<00:02, 244.55it/s]\n",
      "  2%|▏         | 24/1000 [00:00<00:04, 229.75it/s]"
     ]
    },
    {
     "name": "stdout",
     "output_type": "stream",
     "text": [
      "Episode 509\tAverage Score: 25.14"
     ]
    },
    {
     "name": "stderr",
     "output_type": "stream",
     "text": [
      " 28%|██▊       | 280/1000 [00:01<00:02, 245.90it/s]\n",
      "  2%|▏         | 24/1000 [00:00<00:04, 229.93it/s]"
     ]
    },
    {
     "name": "stdout",
     "output_type": "stream",
     "text": [
      "Episode 510\tAverage Score: 25.24"
     ]
    },
    {
     "name": "stderr",
     "output_type": "stream",
     "text": [
      " 30%|██▉       | 299/1000 [00:01<00:02, 247.77it/s]\n",
      "  2%|▏         | 24/1000 [00:00<00:04, 229.62it/s]"
     ]
    },
    {
     "name": "stdout",
     "output_type": "stream",
     "text": [
      "Episode 511\tAverage Score: 25.36"
     ]
    },
    {
     "name": "stderr",
     "output_type": "stream",
     "text": [
      " 28%|██▊       | 278/1000 [00:01<00:02, 246.71it/s]\n",
      "  2%|▏         | 24/1000 [00:00<00:04, 233.42it/s]"
     ]
    },
    {
     "name": "stdout",
     "output_type": "stream",
     "text": [
      "Episode 512\tAverage Score: 25.46"
     ]
    },
    {
     "name": "stderr",
     "output_type": "stream",
     "text": [
      " 28%|██▊       | 281/1000 [00:01<00:02, 246.59it/s]\n",
      "  2%|▏         | 24/1000 [00:00<00:04, 227.46it/s]"
     ]
    },
    {
     "name": "stdout",
     "output_type": "stream",
     "text": [
      "Episode 513\tAverage Score: 25.50"
     ]
    },
    {
     "name": "stderr",
     "output_type": "stream",
     "text": [
      " 28%|██▊       | 279/1000 [00:01<00:02, 248.91it/s]\n",
      "  2%|▏         | 24/1000 [00:00<00:04, 238.59it/s]"
     ]
    },
    {
     "name": "stdout",
     "output_type": "stream",
     "text": [
      "Episode 514\tAverage Score: 25.88"
     ]
    },
    {
     "name": "stderr",
     "output_type": "stream",
     "text": [
      " 30%|██▉       | 298/1000 [00:01<00:02, 247.85it/s]\n",
      "  2%|▎         | 25/1000 [00:00<00:03, 244.01it/s]"
     ]
    },
    {
     "name": "stdout",
     "output_type": "stream",
     "text": [
      "Episode 515\tAverage Score: 25.94"
     ]
    },
    {
     "name": "stderr",
     "output_type": "stream",
     "text": [
      " 28%|██▊       | 279/1000 [00:01<00:02, 247.96it/s]\n",
      "  2%|▏         | 24/1000 [00:00<00:04, 231.83it/s]"
     ]
    },
    {
     "name": "stdout",
     "output_type": "stream",
     "text": [
      "Episode 516\tAverage Score: 26.08"
     ]
    },
    {
     "name": "stderr",
     "output_type": "stream",
     "text": [
      " 28%|██▊       | 277/1000 [00:01<00:02, 244.62it/s]\n",
      "  2%|▏         | 24/1000 [00:00<00:04, 232.45it/s]"
     ]
    },
    {
     "name": "stdout",
     "output_type": "stream",
     "text": [
      "Episode 517\tAverage Score: 26.06"
     ]
    },
    {
     "name": "stderr",
     "output_type": "stream",
     "text": [
      " 28%|██▊       | 276/1000 [00:01<00:02, 246.42it/s]\n",
      "  2%|▏         | 24/1000 [00:00<00:04, 232.12it/s]"
     ]
    },
    {
     "name": "stdout",
     "output_type": "stream",
     "text": [
      "Episode 518\tAverage Score: 25.92"
     ]
    },
    {
     "name": "stderr",
     "output_type": "stream",
     "text": [
      " 27%|██▋       | 274/1000 [00:01<00:02, 244.53it/s]\n",
      "  2%|▏         | 24/1000 [00:00<00:04, 236.82it/s]"
     ]
    },
    {
     "name": "stdout",
     "output_type": "stream",
     "text": [
      "Episode 519\tAverage Score: 26.00"
     ]
    },
    {
     "name": "stderr",
     "output_type": "stream",
     "text": [
      " 28%|██▊       | 276/1000 [00:01<00:02, 244.98it/s]\n",
      "  2%|▏         | 24/1000 [00:00<00:04, 238.22it/s]"
     ]
    },
    {
     "name": "stdout",
     "output_type": "stream",
     "text": [
      "Episode 520\tAverage Score: 26.12"
     ]
    },
    {
     "name": "stderr",
     "output_type": "stream",
     "text": [
      " 29%|██▉       | 293/1000 [00:01<00:03, 226.93it/s]\n",
      "  2%|▏         | 22/1000 [00:00<00:04, 215.56it/s]"
     ]
    },
    {
     "name": "stdout",
     "output_type": "stream",
     "text": [
      "Episode 521\tAverage Score: 26.08"
     ]
    },
    {
     "name": "stderr",
     "output_type": "stream",
     "text": [
      " 29%|██▉       | 288/1000 [00:01<00:02, 242.82it/s]\n",
      "  2%|▏         | 24/1000 [00:00<00:04, 234.35it/s]"
     ]
    },
    {
     "name": "stdout",
     "output_type": "stream",
     "text": [
      "Episode 522\tAverage Score: 26.10"
     ]
    },
    {
     "name": "stderr",
     "output_type": "stream",
     "text": [
      " 30%|██▉       | 298/1000 [00:01<00:02, 247.97it/s]\n",
      "  2%|▏         | 24/1000 [00:00<00:04, 237.67it/s]"
     ]
    },
    {
     "name": "stdout",
     "output_type": "stream",
     "text": [
      "Episode 523\tAverage Score: 26.00"
     ]
    },
    {
     "name": "stderr",
     "output_type": "stream",
     "text": [
      " 28%|██▊       | 283/1000 [00:01<00:02, 252.75it/s]\n",
      "  2%|▎         | 25/1000 [00:00<00:03, 246.89it/s]"
     ]
    },
    {
     "name": "stdout",
     "output_type": "stream",
     "text": [
      "Episode 524\tAverage Score: 26.02"
     ]
    },
    {
     "name": "stderr",
     "output_type": "stream",
     "text": [
      " 28%|██▊       | 281/1000 [00:01<00:02, 247.07it/s]\n",
      "  2%|▏         | 24/1000 [00:00<00:04, 229.70it/s]"
     ]
    },
    {
     "name": "stdout",
     "output_type": "stream",
     "text": [
      "Episode 525\tAverage Score: 26.12"
     ]
    },
    {
     "name": "stderr",
     "output_type": "stream",
     "text": [
      " 28%|██▊       | 275/1000 [00:01<00:02, 246.04it/s]\n",
      "  2%|▏         | 24/1000 [00:00<00:04, 226.58it/s]"
     ]
    },
    {
     "name": "stdout",
     "output_type": "stream",
     "text": [
      "Episode 526\tAverage Score: 26.16"
     ]
    },
    {
     "name": "stderr",
     "output_type": "stream",
     "text": [
      " 28%|██▊       | 277/1000 [00:01<00:02, 245.40it/s]\n",
      "  2%|▏         | 24/1000 [00:00<00:04, 230.10it/s]"
     ]
    },
    {
     "name": "stdout",
     "output_type": "stream",
     "text": [
      "Episode 527\tAverage Score: 26.42"
     ]
    },
    {
     "name": "stderr",
     "output_type": "stream",
     "text": [
      " 28%|██▊       | 275/1000 [00:01<00:02, 247.38it/s]\n",
      "  2%|▏         | 24/1000 [00:00<00:04, 236.43it/s]"
     ]
    },
    {
     "name": "stdout",
     "output_type": "stream",
     "text": [
      "Episode 528\tAverage Score: 26.48"
     ]
    },
    {
     "name": "stderr",
     "output_type": "stream",
     "text": [
      " 28%|██▊       | 279/1000 [00:01<00:02, 249.07it/s]\n",
      "  2%|▏         | 24/1000 [00:00<00:04, 236.39it/s]"
     ]
    },
    {
     "name": "stdout",
     "output_type": "stream",
     "text": [
      "Episode 529\tAverage Score: 26.50"
     ]
    },
    {
     "name": "stderr",
     "output_type": "stream",
     "text": [
      " 28%|██▊       | 278/1000 [00:01<00:02, 248.55it/s]\n",
      "  2%|▏         | 24/1000 [00:00<00:04, 231.81it/s]"
     ]
    },
    {
     "name": "stdout",
     "output_type": "stream",
     "text": [
      "Episode 530\tAverage Score: 26.64"
     ]
    },
    {
     "name": "stderr",
     "output_type": "stream",
     "text": [
      " 28%|██▊       | 282/1000 [00:01<00:02, 251.92it/s]\n",
      "  2%|▏         | 24/1000 [00:00<00:04, 233.68it/s]"
     ]
    },
    {
     "name": "stdout",
     "output_type": "stream",
     "text": [
      "Episode 531\tAverage Score: 26.70"
     ]
    },
    {
     "name": "stderr",
     "output_type": "stream",
     "text": [
      " 28%|██▊       | 278/1000 [00:01<00:02, 248.74it/s]\n",
      "  2%|▏         | 24/1000 [00:00<00:04, 237.04it/s]"
     ]
    },
    {
     "name": "stdout",
     "output_type": "stream",
     "text": [
      "Episode 532\tAverage Score: 26.76"
     ]
    },
    {
     "name": "stderr",
     "output_type": "stream",
     "text": [
      " 30%|██▉       | 297/1000 [00:01<00:02, 242.65it/s]\n",
      "  2%|▏         | 24/1000 [00:00<00:04, 230.55it/s]"
     ]
    },
    {
     "name": "stdout",
     "output_type": "stream",
     "text": [
      "Episode 533\tAverage Score: 26.74"
     ]
    },
    {
     "name": "stderr",
     "output_type": "stream",
     "text": [
      " 28%|██▊       | 279/1000 [00:01<00:02, 248.62it/s]\n",
      "  2%|▎         | 25/1000 [00:00<00:04, 241.83it/s]"
     ]
    },
    {
     "name": "stdout",
     "output_type": "stream",
     "text": [
      "Episode 534\tAverage Score: 26.92"
     ]
    },
    {
     "name": "stderr",
     "output_type": "stream",
     "text": [
      " 28%|██▊       | 279/1000 [00:01<00:02, 251.20it/s]\n"
     ]
    },
    {
     "name": "stdout",
     "output_type": "stream",
     "text": [
      "Episode 535\tAverage Score: 27.04\n",
      "Environment solved in 435 episodes!\tAverage Score: 27.04\n",
      "If no break, save last episode\n"
     ]
    },
    {
     "data": {
      "image/png": "[encoded data removed]",
      "text/plain": [
       "<matplotlib.figure.Figure at 0x7f72246efac8>"
      ]
     },
     "metadata": {
      "needs_background": "light"
     },
     "output_type": "display_data"
    }
   ],
   "source": [
    "\n",
    "def dqn(n_episodes= 750, max_t=1000, eps_start=1.0, eps_end=0.01, eps_decay=0.995):\n",
    "    \"\"\"Deep Q-Learning.\n",
    "    \n",
    "    Params\n",
    "    ======\n",
    "        n_episodes (int): maximum number of training episodes\n",
    "        max_t (int): maximum number of timesteps per episode\n",
    "        eps_start (float): starting value of epsilon, for epsilon-greedy action selection\n",
    "        eps_end (float): minimum value of epsilon\n",
    "        eps_decay (float): multiplicative factor (per episode) for decreasing epsilon\n",
    "    \"\"\"\n",
    "    scores = []                        # list containing scores from each episode\n",
    "    scores_window = deque(maxlen=100)  # last 100 scores\n",
    "    eps = eps_start                    # initialize epsilon\n",
    "    for i_episode in (range(1, n_episodes+1)):\n",
    "         # reset the environment\n",
    "        env_info = env.reset(train_mode=True)[brain_name]\n",
    "        state = env_info.vector_observations[0]            # get the current state\n",
    "        score = 0\n",
    "        for t in tqdm(range(max_t)):\n",
    "            #print(state,eps)\n",
    "            action = agent.act(state, eps)\n",
    "            #print(env.step(action))\n",
    "            env_info = env.step(action)[brain_name] \n",
    "            \n",
    "            #If it was gym....next_state, reward, done, _ = env.step(action)\n",
    "            next_state = env_info.vector_observations[0]   # get the next state\n",
    "            reward = env_info.rewards[0]                   # get the reward\n",
    "            done = env_info.local_done[0]                  # see if episode has finished\n",
    "            score += reward                                # update the score\n",
    "            \n",
    "            \n",
    "\n",
    "            agent.step(state, action, reward, next_state, done)\n",
    "            state = next_state                             # roll over the state to next time step\n",
    "            score += reward\n",
    "            if done:\n",
    "                break\n",
    "        scores_window.append(score)       # save most recent score\n",
    "        scores.append(score)              # save most recent score\n",
    "        eps = max(eps_end, eps_decay*eps) # decrease epsilon\n",
    "        print('\\rEpisode {}\\tAverage Score: {:.2f}'.format(i_episode, np.mean(scores_window)), end=\"\")\n",
    "        if i_episode % 100 == 0:\n",
    "            print('\\rEpisode {}\\tAverage Score: {:.2f}'.format(i_episode, np.mean(scores_window)))\n",
    "        if np.mean(scores_window)>= 27.0:\n",
    "            print('\\nEnvironment solved in {:d} episodes!\\tAverage Score: {:.2f}'.format(i_episode-100, np.mean(scores_window)))\n",
    "            torch.save(agent.qnetwork_local.state_dict(), 'checkpoint.pth')\n",
    "            break\n",
    "    print('If no break, save last episode')\n",
    "    torch.save(agent.qnetwork_local.state_dict(), 'last.pth')\n",
    "    return scores\n",
    "\n",
    "scores = dqn()\n",
    "\n",
    "# plot the scores\n",
    "fig = plt.figure()\n",
    "ax = fig.add_subplot(111)\n",
    "plt.plot(np.arange(len(scores)), scores)\n",
    "plt.ylabel('Score')\n",
    "plt.xlabel('Episode #')\n",
    "plt.show()"
   ]
  },
  {
   "cell_type": "code",
   "execution_count": 8,
   "metadata": {},
   "outputs": [
    {
     "data": {
      "image/png": "[encoded data removed]",
      "text/plain": [
       "<matplotlib.figure.Figure at 0x7f72246e0b00>"
      ]
     },
     "metadata": {
      "needs_background": "light"
     },
     "output_type": "display_data"
    }
   ],
   "source": [
    "# plot the scores again\n",
    "fig = plt.figure()\n",
    "ax = fig.add_subplot(111)\n",
    "plt.plot(np.arange(len(scores)), scores)\n",
    "plt.ylabel('Score')\n",
    "plt.xlabel('Episode #')\n",
    "plt.show()"
   ]
  },
  {
   "cell_type": "code",
   "execution_count": null,
   "metadata": {},
   "outputs": [],
   "source": []
  }
 ],
 "metadata": {
  "kernelspec": {
   "display_name": "Python 3",
   "language": "python",
   "name": "python3"
  },
  "language_info": {
   "codemirror_mode": {
    "name": "ipython",
    "version": 3
   },
   "file_extension": ".py",
   "mimetype": "text/x-python",
   "name": "python",
   "nbconvert_exporter": "python",
   "pygments_lexer": "ipython3",
   "version": "3.6.3"
  }
 },
 "nbformat": 4,
 "nbformat_minor": 2
}
